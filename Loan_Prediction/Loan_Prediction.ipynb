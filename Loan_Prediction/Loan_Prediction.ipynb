{
  "nbformat": 4,
  "nbformat_minor": 0,
  "metadata": {
    "colab": {
      "name": "Loan_Prediction.ipynb",
      "provenance": [],
      "collapsed_sections": [],
      "mount_file_id": "1c3rcFB_bo9pUZBBBnqHd75p7Fg3mz5_u",
      "authorship_tag": "ABX9TyOZnja5ohfuQTQfrCCDTzCM",
      "include_colab_link": true
    },
    "kernelspec": {
      "name": "python3",
      "display_name": "Python 3"
    },
    "language_info": {
      "name": "python"
    }
  },
  "cells": [
    {
      "cell_type": "markdown",
      "metadata": {
        "id": "view-in-github",
        "colab_type": "text"
      },
      "source": [
        "<a href=\"https://colab.research.google.com/github/DiwakarBasnet/Neural_Network/blob/main/Loan_Prediction.ipynb\" target=\"_parent\"><img src=\"https://colab.research.google.com/assets/colab-badge.svg\" alt=\"Open In Colab\"/></a>"
      ]
    },
    {
      "cell_type": "markdown",
      "source": [
        "# Steps to build a neural network using Keras\n",
        "1. Loading the dataset\n",
        "2. Data Preprocessing\n",
        "3. Creating training and validation set\n",
        "4. Defining the architecture of the model\n",
        "5. Compiling the model(defining loss function, optimizer)\n",
        "6. Training the model\n",
        "7. Evaluating model performance on training and validation set"
      ],
      "metadata": {
        "id": "_COuewySs02A"
      }
    },
    {
      "cell_type": "markdown",
      "source": [
        "## 1.Loading the dataset"
      ],
      "metadata": {
        "id": "BEg0nCxTuEkS"
      }
    },
    {
      "cell_type": "code",
      "execution_count": null,
      "metadata": {
        "id": "XrYdvQ1-bI7H"
      },
      "outputs": [],
      "source": [
        "# importing required libraries\n",
        "import pandas as pd\n",
        "import numpy as np\n",
        "import sklearn\n",
        "from sklearn.model_selection import train_test_split\n",
        "from sklearn.metrics import accuracy_score\n",
        "import matplotlib.pyplot as plt\n",
        "%matplotlib inline"
      ]
    },
    {
      "cell_type": "code",
      "source": [
        "# reading the dataset\n",
        "#github url of loan_data = https://raw.githubusercontent.com/DiwakarBasnet/Neural_Network/main/Data/loan_data.csv\n",
        "#github url of normalized_data = https://raw.githubusercontent.com/DiwakarBasnet/Neural_Network/main/Data/normalized_loan.csv\n",
        "dataset = pd.read_csv('loan_data.csv')"
      ],
      "metadata": {
        "id": "i3S3sLklb9y1"
      },
      "execution_count": null,
      "outputs": []
    },
    {
      "cell_type": "markdown",
      "source": [
        "## 2.Data Preprocessing"
      ],
      "metadata": {
        "id": "X2LXaXwGun17"
      }
    },
    {
      "cell_type": "code",
      "source": [
        "dataset.head()"
      ],
      "metadata": {
        "colab": {
          "base_uri": "https://localhost:8080/",
          "height": 287
        },
        "id": "JYKP90o3cU7h",
        "outputId": "2929ba86-93f3-4b9c-9ba0-28894bf9615e"
      },
      "execution_count": null,
      "outputs": [
        {
          "output_type": "execute_result",
          "data": {
            "text/html": [
              "\n",
              "  <div id=\"df-ba33ae38-62f1-498b-8461-ab46ef424a60\">\n",
              "    <div class=\"colab-df-container\">\n",
              "      <div>\n",
              "<style scoped>\n",
              "    .dataframe tbody tr th:only-of-type {\n",
              "        vertical-align: middle;\n",
              "    }\n",
              "\n",
              "    .dataframe tbody tr th {\n",
              "        vertical-align: top;\n",
              "    }\n",
              "\n",
              "    .dataframe thead th {\n",
              "        text-align: right;\n",
              "    }\n",
              "</style>\n",
              "<table border=\"1\" class=\"dataframe\">\n",
              "  <thead>\n",
              "    <tr style=\"text-align: right;\">\n",
              "      <th></th>\n",
              "      <th>Loan_ID</th>\n",
              "      <th>Gender</th>\n",
              "      <th>Married</th>\n",
              "      <th>Dependents</th>\n",
              "      <th>Education</th>\n",
              "      <th>Self_Employed</th>\n",
              "      <th>ApplicantIncome</th>\n",
              "      <th>CoapplicantIncome</th>\n",
              "      <th>LoanAmount</th>\n",
              "      <th>Loan_Amount_Term</th>\n",
              "      <th>Credit_History</th>\n",
              "      <th>Property_Area</th>\n",
              "      <th>Loan_Status</th>\n",
              "    </tr>\n",
              "  </thead>\n",
              "  <tbody>\n",
              "    <tr>\n",
              "      <th>0</th>\n",
              "      <td>LP001002</td>\n",
              "      <td>Male</td>\n",
              "      <td>No</td>\n",
              "      <td>0</td>\n",
              "      <td>Graduate</td>\n",
              "      <td>No</td>\n",
              "      <td>5849</td>\n",
              "      <td>0.0</td>\n",
              "      <td>NaN</td>\n",
              "      <td>360.0</td>\n",
              "      <td>1.0</td>\n",
              "      <td>Urban</td>\n",
              "      <td>Y</td>\n",
              "    </tr>\n",
              "    <tr>\n",
              "      <th>1</th>\n",
              "      <td>LP001003</td>\n",
              "      <td>Male</td>\n",
              "      <td>Yes</td>\n",
              "      <td>1</td>\n",
              "      <td>Graduate</td>\n",
              "      <td>No</td>\n",
              "      <td>4583</td>\n",
              "      <td>1508.0</td>\n",
              "      <td>128.0</td>\n",
              "      <td>360.0</td>\n",
              "      <td>1.0</td>\n",
              "      <td>Rural</td>\n",
              "      <td>N</td>\n",
              "    </tr>\n",
              "    <tr>\n",
              "      <th>2</th>\n",
              "      <td>LP001005</td>\n",
              "      <td>Male</td>\n",
              "      <td>Yes</td>\n",
              "      <td>0</td>\n",
              "      <td>Graduate</td>\n",
              "      <td>Yes</td>\n",
              "      <td>3000</td>\n",
              "      <td>0.0</td>\n",
              "      <td>66.0</td>\n",
              "      <td>360.0</td>\n",
              "      <td>1.0</td>\n",
              "      <td>Urban</td>\n",
              "      <td>Y</td>\n",
              "    </tr>\n",
              "    <tr>\n",
              "      <th>3</th>\n",
              "      <td>LP001006</td>\n",
              "      <td>Male</td>\n",
              "      <td>Yes</td>\n",
              "      <td>0</td>\n",
              "      <td>Not Graduate</td>\n",
              "      <td>No</td>\n",
              "      <td>2583</td>\n",
              "      <td>2358.0</td>\n",
              "      <td>120.0</td>\n",
              "      <td>360.0</td>\n",
              "      <td>1.0</td>\n",
              "      <td>Urban</td>\n",
              "      <td>Y</td>\n",
              "    </tr>\n",
              "    <tr>\n",
              "      <th>4</th>\n",
              "      <td>LP001008</td>\n",
              "      <td>Male</td>\n",
              "      <td>No</td>\n",
              "      <td>0</td>\n",
              "      <td>Graduate</td>\n",
              "      <td>No</td>\n",
              "      <td>6000</td>\n",
              "      <td>0.0</td>\n",
              "      <td>141.0</td>\n",
              "      <td>360.0</td>\n",
              "      <td>1.0</td>\n",
              "      <td>Urban</td>\n",
              "      <td>Y</td>\n",
              "    </tr>\n",
              "  </tbody>\n",
              "</table>\n",
              "</div>\n",
              "      <button class=\"colab-df-convert\" onclick=\"convertToInteractive('df-ba33ae38-62f1-498b-8461-ab46ef424a60')\"\n",
              "              title=\"Convert this dataframe to an interactive table.\"\n",
              "              style=\"display:none;\">\n",
              "        \n",
              "  <svg xmlns=\"http://www.w3.org/2000/svg\" height=\"24px\"viewBox=\"0 0 24 24\"\n",
              "       width=\"24px\">\n",
              "    <path d=\"M0 0h24v24H0V0z\" fill=\"none\"/>\n",
              "    <path d=\"M18.56 5.44l.94 2.06.94-2.06 2.06-.94-2.06-.94-.94-2.06-.94 2.06-2.06.94zm-11 1L8.5 8.5l.94-2.06 2.06-.94-2.06-.94L8.5 2.5l-.94 2.06-2.06.94zm10 10l.94 2.06.94-2.06 2.06-.94-2.06-.94-.94-2.06-.94 2.06-2.06.94z\"/><path d=\"M17.41 7.96l-1.37-1.37c-.4-.4-.92-.59-1.43-.59-.52 0-1.04.2-1.43.59L10.3 9.45l-7.72 7.72c-.78.78-.78 2.05 0 2.83L4 21.41c.39.39.9.59 1.41.59.51 0 1.02-.2 1.41-.59l7.78-7.78 2.81-2.81c.8-.78.8-2.07 0-2.86zM5.41 20L4 18.59l7.72-7.72 1.47 1.35L5.41 20z\"/>\n",
              "  </svg>\n",
              "      </button>\n",
              "      \n",
              "  <style>\n",
              "    .colab-df-container {\n",
              "      display:flex;\n",
              "      flex-wrap:wrap;\n",
              "      gap: 12px;\n",
              "    }\n",
              "\n",
              "    .colab-df-convert {\n",
              "      background-color: #E8F0FE;\n",
              "      border: none;\n",
              "      border-radius: 50%;\n",
              "      cursor: pointer;\n",
              "      display: none;\n",
              "      fill: #1967D2;\n",
              "      height: 32px;\n",
              "      padding: 0 0 0 0;\n",
              "      width: 32px;\n",
              "    }\n",
              "\n",
              "    .colab-df-convert:hover {\n",
              "      background-color: #E2EBFA;\n",
              "      box-shadow: 0px 1px 2px rgba(60, 64, 67, 0.3), 0px 1px 3px 1px rgba(60, 64, 67, 0.15);\n",
              "      fill: #174EA6;\n",
              "    }\n",
              "\n",
              "    [theme=dark] .colab-df-convert {\n",
              "      background-color: #3B4455;\n",
              "      fill: #D2E3FC;\n",
              "    }\n",
              "\n",
              "    [theme=dark] .colab-df-convert:hover {\n",
              "      background-color: #434B5C;\n",
              "      box-shadow: 0px 1px 3px 1px rgba(0, 0, 0, 0.15);\n",
              "      filter: drop-shadow(0px 1px 2px rgba(0, 0, 0, 0.3));\n",
              "      fill: #FFFFFF;\n",
              "    }\n",
              "  </style>\n",
              "\n",
              "      <script>\n",
              "        const buttonEl =\n",
              "          document.querySelector('#df-ba33ae38-62f1-498b-8461-ab46ef424a60 button.colab-df-convert');\n",
              "        buttonEl.style.display =\n",
              "          google.colab.kernel.accessAllowed ? 'block' : 'none';\n",
              "\n",
              "        async function convertToInteractive(key) {\n",
              "          const element = document.querySelector('#df-ba33ae38-62f1-498b-8461-ab46ef424a60');\n",
              "          const dataTable =\n",
              "            await google.colab.kernel.invokeFunction('convertToInteractive',\n",
              "                                                     [key], {});\n",
              "          if (!dataTable) return;\n",
              "\n",
              "          const docLinkHtml = 'Like what you see? Visit the ' +\n",
              "            '<a target=\"_blank\" href=https://colab.research.google.com/notebooks/data_table.ipynb>data table notebook</a>'\n",
              "            + ' to learn more about interactive tables.';\n",
              "          element.innerHTML = '';\n",
              "          dataTable['output_type'] = 'display_data';\n",
              "          await google.colab.output.renderOutput(dataTable, element);\n",
              "          const docLink = document.createElement('div');\n",
              "          docLink.innerHTML = docLinkHtml;\n",
              "          element.appendChild(docLink);\n",
              "        }\n",
              "      </script>\n",
              "    </div>\n",
              "  </div>\n",
              "  "
            ],
            "text/plain": [
              "    Loan_ID Gender Married  ... Credit_History Property_Area Loan_Status\n",
              "0  LP001002   Male      No  ...            1.0         Urban           Y\n",
              "1  LP001003   Male     Yes  ...            1.0         Rural           N\n",
              "2  LP001005   Male     Yes  ...            1.0         Urban           Y\n",
              "3  LP001006   Male     Yes  ...            1.0         Urban           Y\n",
              "4  LP001008   Male      No  ...            1.0         Urban           Y\n",
              "\n",
              "[5 rows x 13 columns]"
            ]
          },
          "metadata": {},
          "execution_count": 5
        }
      ]
    },
    {
      "cell_type": "code",
      "source": [
        "dataset.shape"
      ],
      "metadata": {
        "colab": {
          "base_uri": "https://localhost:8080/"
        },
        "id": "KyyfjVQllybB",
        "outputId": "5dc71a06-31fe-46da-edff-25282e4f0424"
      },
      "execution_count": null,
      "outputs": [
        {
          "output_type": "execute_result",
          "data": {
            "text/plain": [
              "(614, 13)"
            ]
          },
          "metadata": {},
          "execution_count": 6
        }
      ]
    },
    {
      "cell_type": "code",
      "source": [
        "# checking missing values in the table\n",
        "dataset.isnull().sum()"
      ],
      "metadata": {
        "colab": {
          "base_uri": "https://localhost:8080/"
        },
        "id": "lpjgmD1GcqOS",
        "outputId": "53032131-b66b-4c17-b96b-56680651c4cd"
      },
      "execution_count": null,
      "outputs": [
        {
          "output_type": "execute_result",
          "data": {
            "text/plain": [
              "Loan_ID               0\n",
              "Gender               13\n",
              "Married               3\n",
              "Dependents           15\n",
              "Education             0\n",
              "Self_Employed        32\n",
              "ApplicantIncome       0\n",
              "CoapplicantIncome     0\n",
              "LoanAmount           22\n",
              "Loan_Amount_Term     14\n",
              "Credit_History       50\n",
              "Property_Area         0\n",
              "Loan_Status           0\n",
              "dtype: int64"
            ]
          },
          "metadata": {},
          "execution_count": 7
        }
      ]
    },
    {
      "cell_type": "code",
      "source": [
        "dataset.dtypes"
      ],
      "metadata": {
        "colab": {
          "base_uri": "https://localhost:8080/"
        },
        "id": "1Ll3mYIIc9HP",
        "outputId": "24c8b611-29b3-4c8d-8c42-cc0f1eb03f98"
      },
      "execution_count": null,
      "outputs": [
        {
          "output_type": "execute_result",
          "data": {
            "text/plain": [
              "Loan_ID               object\n",
              "Gender                object\n",
              "Married               object\n",
              "Dependents            object\n",
              "Education             object\n",
              "Self_Employed         object\n",
              "ApplicantIncome        int64\n",
              "CoapplicantIncome    float64\n",
              "LoanAmount           float64\n",
              "Loan_Amount_Term     float64\n",
              "Credit_History       float64\n",
              "Property_Area         object\n",
              "Loan_Status           object\n",
              "dtype: object"
            ]
          },
          "metadata": {},
          "execution_count": 8
        }
      ]
    },
    {
      "cell_type": "markdown",
      "source": [
        "### I.Filling the missing values\n",
        "\n"
      ],
      "metadata": {
        "id": "tOTCDuIfeQNE"
      }
    },
    {
      "cell_type": "markdown",
      "source": [
        "Categorical Data: Mode"
      ],
      "metadata": {
        "id": "4ooX15wCv8ot"
      }
    },
    {
      "cell_type": "code",
      "source": [
        "# filling missing values of categorical variables with mode\n",
        "dataset['Gender'].fillna(dataset['Gender'].mode()[0], inplace=True)\n",
        "dataset['Married'].fillna(dataset['Married'].mode()[0], inplace=True)\n",
        "dataset['Dependents'].fillna(dataset['Dependents'].mode()[0], inplace=True)\n",
        "dataset['Self_Employed'].fillna(dataset['Self_Employed'].mode()[0], inplace=True)\n",
        "dataset['Loan_Amount_Term'].fillna(dataset['Loan_Amount_Term'].mode()[0], inplace=True)\n",
        "dataset['Credit_History'].fillna(dataset['Credit_History'].mode()[0], inplace=True)"
      ],
      "metadata": {
        "id": "VPN-KPJMewAN"
      },
      "execution_count": null,
      "outputs": []
    },
    {
      "cell_type": "markdown",
      "source": [
        "Continuous Data: Mean"
      ],
      "metadata": {
        "id": "NtdlCQHtjj4T"
      }
    },
    {
      "cell_type": "code",
      "source": [
        "# filling missing values of continuous variables with mean\n",
        "dataset['LoanAmount'].fillna(dataset['LoanAmount'].mean(), inplace=True)"
      ],
      "metadata": {
        "id": "O1lnzcovjun6"
      },
      "execution_count": null,
      "outputs": []
    },
    {
      "cell_type": "code",
      "source": [
        "# checking missing values after imputation\n",
        "dataset.isnull().sum()"
      ],
      "metadata": {
        "colab": {
          "base_uri": "https://localhost:8080/"
        },
        "id": "uHlVn-hOkva6",
        "outputId": "52bb1601-c6cc-49cd-dbd8-f9d8838b70a5"
      },
      "execution_count": null,
      "outputs": [
        {
          "output_type": "execute_result",
          "data": {
            "text/plain": [
              "Loan_ID              0\n",
              "Gender               0\n",
              "Married              0\n",
              "Dependents           0\n",
              "Education            0\n",
              "Self_Employed        0\n",
              "ApplicantIncome      0\n",
              "CoapplicantIncome    0\n",
              "LoanAmount           0\n",
              "Loan_Amount_Term     0\n",
              "Credit_History       0\n",
              "Property_Area        0\n",
              "Loan_Status          0\n",
              "dtype: int64"
            ]
          },
          "metadata": {},
          "execution_count": 11
        }
      ]
    },
    {
      "cell_type": "markdown",
      "source": [
        "### II.Converting categories to numbers"
      ],
      "metadata": {
        "id": "ZvbYYteglCm_"
      }
    },
    {
      "cell_type": "code",
      "source": [
        "# converting the categories into numbers using map function\n",
        "dataset['Gender'] = dataset['Gender'].map({'Male': 0, 'Female': 1})\n",
        "dataset['Married'] = dataset['Married'].map({'No': 0, 'Yes':1})\n",
        "dataset['Dependents'] = dataset['Dependents'].map({'0': 0, '1': 1, '2': 2, '3+': 3})\n",
        "dataset['Self_Employed'] = dataset['Self_Employed'].map({'No': 0, 'Yes': 1})\n",
        "dataset['Education'] = dataset['Education'].map({'Not Graduate': 0, 'Graduate': 1})\n",
        "dataset['Property_Area'] = dataset['Property_Area'].map({'Rural': 0, 'Semiurban': 1, 'Urban': 2})\n",
        "dataset['Loan_Status'] = dataset['Loan_Status'].map({'N':0, 'Y': 1})"
      ],
      "metadata": {
        "id": "yYAVGH8BlIS9"
      },
      "execution_count": null,
      "outputs": []
    },
    {
      "cell_type": "code",
      "source": [
        "dataset.head()"
      ],
      "metadata": {
        "colab": {
          "base_uri": "https://localhost:8080/",
          "height": 270
        },
        "id": "_tqJxaeqnmlc",
        "outputId": "22864867-5db1-45ba-8096-62d8518e0f68"
      },
      "execution_count": null,
      "outputs": [
        {
          "output_type": "execute_result",
          "data": {
            "text/html": [
              "\n",
              "  <div id=\"df-677a39e2-8368-4058-b87b-f551b7c37d1e\">\n",
              "    <div class=\"colab-df-container\">\n",
              "      <div>\n",
              "<style scoped>\n",
              "    .dataframe tbody tr th:only-of-type {\n",
              "        vertical-align: middle;\n",
              "    }\n",
              "\n",
              "    .dataframe tbody tr th {\n",
              "        vertical-align: top;\n",
              "    }\n",
              "\n",
              "    .dataframe thead th {\n",
              "        text-align: right;\n",
              "    }\n",
              "</style>\n",
              "<table border=\"1\" class=\"dataframe\">\n",
              "  <thead>\n",
              "    <tr style=\"text-align: right;\">\n",
              "      <th></th>\n",
              "      <th>Loan_ID</th>\n",
              "      <th>Gender</th>\n",
              "      <th>Married</th>\n",
              "      <th>Dependents</th>\n",
              "      <th>Education</th>\n",
              "      <th>Self_Employed</th>\n",
              "      <th>ApplicantIncome</th>\n",
              "      <th>CoapplicantIncome</th>\n",
              "      <th>LoanAmount</th>\n",
              "      <th>Loan_Amount_Term</th>\n",
              "      <th>Credit_History</th>\n",
              "      <th>Property_Area</th>\n",
              "      <th>Loan_Status</th>\n",
              "    </tr>\n",
              "  </thead>\n",
              "  <tbody>\n",
              "    <tr>\n",
              "      <th>0</th>\n",
              "      <td>LP001002</td>\n",
              "      <td>0</td>\n",
              "      <td>0</td>\n",
              "      <td>0</td>\n",
              "      <td>1</td>\n",
              "      <td>0</td>\n",
              "      <td>5849</td>\n",
              "      <td>0.0</td>\n",
              "      <td>146.412162</td>\n",
              "      <td>360.0</td>\n",
              "      <td>1.0</td>\n",
              "      <td>2</td>\n",
              "      <td>1</td>\n",
              "    </tr>\n",
              "    <tr>\n",
              "      <th>1</th>\n",
              "      <td>LP001003</td>\n",
              "      <td>0</td>\n",
              "      <td>1</td>\n",
              "      <td>1</td>\n",
              "      <td>1</td>\n",
              "      <td>0</td>\n",
              "      <td>4583</td>\n",
              "      <td>1508.0</td>\n",
              "      <td>128.000000</td>\n",
              "      <td>360.0</td>\n",
              "      <td>1.0</td>\n",
              "      <td>0</td>\n",
              "      <td>0</td>\n",
              "    </tr>\n",
              "    <tr>\n",
              "      <th>2</th>\n",
              "      <td>LP001005</td>\n",
              "      <td>0</td>\n",
              "      <td>1</td>\n",
              "      <td>0</td>\n",
              "      <td>1</td>\n",
              "      <td>1</td>\n",
              "      <td>3000</td>\n",
              "      <td>0.0</td>\n",
              "      <td>66.000000</td>\n",
              "      <td>360.0</td>\n",
              "      <td>1.0</td>\n",
              "      <td>2</td>\n",
              "      <td>1</td>\n",
              "    </tr>\n",
              "    <tr>\n",
              "      <th>3</th>\n",
              "      <td>LP001006</td>\n",
              "      <td>0</td>\n",
              "      <td>1</td>\n",
              "      <td>0</td>\n",
              "      <td>0</td>\n",
              "      <td>0</td>\n",
              "      <td>2583</td>\n",
              "      <td>2358.0</td>\n",
              "      <td>120.000000</td>\n",
              "      <td>360.0</td>\n",
              "      <td>1.0</td>\n",
              "      <td>2</td>\n",
              "      <td>1</td>\n",
              "    </tr>\n",
              "    <tr>\n",
              "      <th>4</th>\n",
              "      <td>LP001008</td>\n",
              "      <td>0</td>\n",
              "      <td>0</td>\n",
              "      <td>0</td>\n",
              "      <td>1</td>\n",
              "      <td>0</td>\n",
              "      <td>6000</td>\n",
              "      <td>0.0</td>\n",
              "      <td>141.000000</td>\n",
              "      <td>360.0</td>\n",
              "      <td>1.0</td>\n",
              "      <td>2</td>\n",
              "      <td>1</td>\n",
              "    </tr>\n",
              "  </tbody>\n",
              "</table>\n",
              "</div>\n",
              "      <button class=\"colab-df-convert\" onclick=\"convertToInteractive('df-677a39e2-8368-4058-b87b-f551b7c37d1e')\"\n",
              "              title=\"Convert this dataframe to an interactive table.\"\n",
              "              style=\"display:none;\">\n",
              "        \n",
              "  <svg xmlns=\"http://www.w3.org/2000/svg\" height=\"24px\"viewBox=\"0 0 24 24\"\n",
              "       width=\"24px\">\n",
              "    <path d=\"M0 0h24v24H0V0z\" fill=\"none\"/>\n",
              "    <path d=\"M18.56 5.44l.94 2.06.94-2.06 2.06-.94-2.06-.94-.94-2.06-.94 2.06-2.06.94zm-11 1L8.5 8.5l.94-2.06 2.06-.94-2.06-.94L8.5 2.5l-.94 2.06-2.06.94zm10 10l.94 2.06.94-2.06 2.06-.94-2.06-.94-.94-2.06-.94 2.06-2.06.94z\"/><path d=\"M17.41 7.96l-1.37-1.37c-.4-.4-.92-.59-1.43-.59-.52 0-1.04.2-1.43.59L10.3 9.45l-7.72 7.72c-.78.78-.78 2.05 0 2.83L4 21.41c.39.39.9.59 1.41.59.51 0 1.02-.2 1.41-.59l7.78-7.78 2.81-2.81c.8-.78.8-2.07 0-2.86zM5.41 20L4 18.59l7.72-7.72 1.47 1.35L5.41 20z\"/>\n",
              "  </svg>\n",
              "      </button>\n",
              "      \n",
              "  <style>\n",
              "    .colab-df-container {\n",
              "      display:flex;\n",
              "      flex-wrap:wrap;\n",
              "      gap: 12px;\n",
              "    }\n",
              "\n",
              "    .colab-df-convert {\n",
              "      background-color: #E8F0FE;\n",
              "      border: none;\n",
              "      border-radius: 50%;\n",
              "      cursor: pointer;\n",
              "      display: none;\n",
              "      fill: #1967D2;\n",
              "      height: 32px;\n",
              "      padding: 0 0 0 0;\n",
              "      width: 32px;\n",
              "    }\n",
              "\n",
              "    .colab-df-convert:hover {\n",
              "      background-color: #E2EBFA;\n",
              "      box-shadow: 0px 1px 2px rgba(60, 64, 67, 0.3), 0px 1px 3px 1px rgba(60, 64, 67, 0.15);\n",
              "      fill: #174EA6;\n",
              "    }\n",
              "\n",
              "    [theme=dark] .colab-df-convert {\n",
              "      background-color: #3B4455;\n",
              "      fill: #D2E3FC;\n",
              "    }\n",
              "\n",
              "    [theme=dark] .colab-df-convert:hover {\n",
              "      background-color: #434B5C;\n",
              "      box-shadow: 0px 1px 3px 1px rgba(0, 0, 0, 0.15);\n",
              "      filter: drop-shadow(0px 1px 2px rgba(0, 0, 0, 0.3));\n",
              "      fill: #FFFFFF;\n",
              "    }\n",
              "  </style>\n",
              "\n",
              "      <script>\n",
              "        const buttonEl =\n",
              "          document.querySelector('#df-677a39e2-8368-4058-b87b-f551b7c37d1e button.colab-df-convert');\n",
              "        buttonEl.style.display =\n",
              "          google.colab.kernel.accessAllowed ? 'block' : 'none';\n",
              "\n",
              "        async function convertToInteractive(key) {\n",
              "          const element = document.querySelector('#df-677a39e2-8368-4058-b87b-f551b7c37d1e');\n",
              "          const dataTable =\n",
              "            await google.colab.kernel.invokeFunction('convertToInteractive',\n",
              "                                                     [key], {});\n",
              "          if (!dataTable) return;\n",
              "\n",
              "          const docLinkHtml = 'Like what you see? Visit the ' +\n",
              "            '<a target=\"_blank\" href=https://colab.research.google.com/notebooks/data_table.ipynb>data table notebook</a>'\n",
              "            + ' to learn more about interactive tables.';\n",
              "          element.innerHTML = '';\n",
              "          dataTable['output_type'] = 'display_data';\n",
              "          await google.colab.output.renderOutput(dataTable, element);\n",
              "          const docLink = document.createElement('div');\n",
              "          docLink.innerHTML = docLinkHtml;\n",
              "          element.appendChild(docLink);\n",
              "        }\n",
              "      </script>\n",
              "    </div>\n",
              "  </div>\n",
              "  "
            ],
            "text/plain": [
              "    Loan_ID  Gender  Married  ...  Credit_History  Property_Area  Loan_Status\n",
              "0  LP001002       0        0  ...             1.0              2            1\n",
              "1  LP001003       0        1  ...             1.0              0            0\n",
              "2  LP001005       0        1  ...             1.0              2            1\n",
              "3  LP001006       0        1  ...             1.0              2            1\n",
              "4  LP001008       0        0  ...             1.0              2            1\n",
              "\n",
              "[5 rows x 13 columns]"
            ]
          },
          "metadata": {},
          "execution_count": 13
        }
      ]
    },
    {
      "cell_type": "markdown",
      "source": [
        "### III.Normalization"
      ],
      "metadata": {
        "id": "dSUdNaKlny3n"
      }
    },
    {
      "cell_type": "markdown",
      "source": [
        "![normalization.png](data:image/png;base64,iVBORw0KGgoAAAANSUhEUgAAAW8AAACACAYAAADEWej3AAAAAXNSR0IArs4c6QAAAARnQU1BAACxjwv8YQUAAAAJcEhZcwAADsMAAA7DAcdvqGQAADlJSURBVHhe7X0HfFVVtv4KIYEkBEIKIYUaeq+hSkfpgogFCzpO16fiOG/em9/z/Wccy+gMlrHrE3BUpPdOKKGX0HtoaZAQ0gukkfNf37r3hptw028wl6wPj7n3nnP22WeXb6+99lprOxkMUigUCoVDoZ75r0KhUCgcCEreCoVC4YBQ8lYoFAoHhJK3QqFQOCCUvBUKhcIBoeStUCgUDgglb4VCoXBAKHkrFAqFA0LJW6FQKBwQSt4KhULhgFDyVigUCgeEkrdCoVA4IJS8FQqFwgGh5K1QKBQOCCVvhUKhcEAoeSsUCoUDQslboVAoHBBK3gqFQuGAUPJWKBQKB4SSt0KhUDgglLwVCoXCAaHkrVAoFA4IJW+FQqFwQCh5KxQKhQNCyVuhUCgcEEreCoXC7jAMg24X3KbC24XmX+yH25zm7du3+RnmH+oonLiQ63gRKBQKeyI3N5eioqIoIT6B2rYNoaCgQKrnbB85saCggM6fO0+JiYnUoWNHCmje3G5pOxpU8lYo7nPcS/ksPy+fDkccoX/+Yw6tXLmKsrKzWEQ0n7QTYmNj6auvvqJvvv6aomNiqLDQ/tK9I0DJW6G4TwG1xY0bSRQXd5Vu3cox/1pzgCrj4sWL9H//9w1FRp6nYcMeoDZtWlO9evajGWdnZ+rbrx8NHfoAbdy0ib7//nu6kZjEI5T5gjoEJW+F4j4EpNHYuFj64vMv6M2//pW2bd1G+fn55rM1AwwUCxcuokOHDtG48eNp6AMPUIMGDcxn7QMnJyfy8fGmyVMmU9cuXWjF8hUUFhYmqpq6BiVvheI+REF+AZ06dZqWLFlCi5cspo0bN7L0fct81v7Iy82jneHhtGrVSuratStNmTKFvL2bCtnaG5DkAwKa05SHp1AhS/uLFi2kCxcu1Dn1iZK3QnEfAot4vr4+FBwcTM38mvHfIKpf38V81r6ATj0mNpaWL19OySkpNGr0aAoJaSsqjpqCi4sLhfYPpcFDBtOxY8do/YYNNTo41UYoeSsU9yHq169PPXr0oLfe+ht98eWX9PTTT5ObW0PzWfsC6piIQ4foUMQh6tihA4WG9idXV1fz2ZoBJPpm/v40ePBgfKHdu3ZR/LV489m6ASVvheI+hbu7O/Xu05tGjhxJgUGBNaLCALIysygiIoIyMzNlwGjTpo1dFylLQ716TtStezd53slTp+jMmTOyaFpXoOStqPXAtBz6zIqYvBmFhhwOYX2AbNp4J/xW5ruWcp8tgERBcvhXFkrLR0UAm2uQt4e7B3Xr1k0GjbKAdFGfFdFRW661lRcMRi1btKSePGBkZWEAOUwZ6Rnms/c/lLwVtRqQpK4nXKfTp05T1JUoysmxbfKGDp6RnknnIyP5OE/p6enmM7UL8Di8dfMWpadlUOKNGzLVh8SK/MNGOj0tXX67xgc+5/FvFuKC6V929k26wfddjbsmf2/evGmTBJFWJkvEqSmpUn5JSUnFrkO5ZmVlyzMSryeKQ01OTq5cgzJOSUmha1evye/IH55tC3gfkHfc1TjyaupFHTp0LFPXjXdBns6dO0dnz5yV59siZgDvduniJTp79iwl3Siefws8GnlQ9+49ZJA6fPiwlElp6d1vcP4Lw/xZoah1ADlEHI6gjz/6F+3cuZN8fHwoKDioGEGgU8fExIrN708//UQ3s7MppF0INW7cuMZUBVVFUnISbdiwgVavXkUrVqygHTvCRWKFSd2RI0dl6n/t2jU6fvw4bdkSJsSLBUcIziCxI4ePyLtevnyZtm7dyoR1hJo0aSzlYlFVgJhPnjwlliZYRFyzZjUlJ6eIhOri6iIzk6tXr9KypUv53BrJByTnNq1b8aCXQQcOHJD0Y2PjaO/efbR923YmxEIKCAiQhUJr3GKi37JlC23csJHat29PTzzxBHn7eJvP3g0Qa1RUNM2dO48WLPhR0gsJCSlmUohrMHisWb2GvvzyS4qJipFrfP18i97RAtRvamoal+l6unXrJg0cOIha8XvcC7XNzw2VvBW1GiDpVi1bidkZyHvJkqUiEVqkKxD3dZYcF/z4I5P3v4UMBg0eTM2aMeHVQri4uFLz5s3Jy8uLTp06xQQcRidOHBepEbbKXbt1pdABAyg0NJSuJ16nDz78gNauXUOHIw7T+fPnKSgoiPr27cMkNUDSWLhoIc39di4TWGpRmYDQGjf2JH//ZjwQXKV169fJM/ILCuQ8BgI3NzchYycmuT179tD2HTt4wDhJR48epSZeTahnr540YGAodenSWcj8q6++psjIC3fplHNzcyjywgXKzcujwMAgkYTLAvIWGBhALVoEy/svWLCAB6yzd9LlV0hjaXzVytX0xRdfiGSOsmjVyjYh4zevpk14AGtCKVwGly5fFBf6ugCVvBW1Gujsnp6e5OfnJwR37Nhx7vgtqEPHDkLUmPLPn/ed2Ppiyv7yKy8LuUGSq21SN4B8If9t27al6OgYlqbPyHt07tKFhg0bJiZ9Fkka6oply5aJlOzl1ZTJdIAs0Hl7ewtZNWjYkHbv3i1pQOKUGCJMZnhvnG/Xvh3l5uTRnr17JcbIuHHjqGFDU7m4ubtRm7Zt5J6jLPHH8TP8ecDr3bu3kCXKG2k05UEzLjaWtm/fzoOOv+i0rS1JoGteumSZeFSOHj2ahg0fxs8o3aoFz27AeUC6ly5dFonfBZYxPXuQh4eH6KzXr99An372KTXi76+8+gqNfXAsf25Uan2mseSNGUxMTLSU4+DBg2rc2qU2QCVvRa0HzN4gkU6bNo0Fs0Ih6hMnTlIMk993331HCxcuoD59+tJrf5jNf3vX6o4LAsL7uDMxYVCCbXJ+fgF16tiRvJgsLdIlrvHz9RXzPpA3CLtdSDshegDXwdOwRXCw6JAvXiwuFWPGAukaqiPcA96z5j7kA+UEUsQCY2ZGhqTZuXNnIV8LUbq7e1AIPze/IN8kYZfwZIROPjPTtEiIPFryVxaQNiTpZ595hgePYFqzdq2oZqA7X70aEvfn1Nzfn16dPZuGDx8u71HWeivyi1nIbZ6FZWH9oAYiGdZGKHkraj3Q2UF2kByHDxtOJ0+epG//71uaM2eO6HVh6/uKSNx9qYFrxd2xoWbIzsqm69evy8JcVY54/E1IoIwM06JjxXFH7dOiZQtxpikZHQ8E7FyvvkTOg/qipEQLgnfl972Vc4tSklOK1CalwzYDFhYaPCNoyJJ4W2rMUr+FuAFYqkBKR9ogRusBAr/l5uQwgefJPW5u7kWDT3nAuwwZOoQefniKDBw//vgjffP1NzR37lxRK7322ms0atRIkcat82MLGDAaNWqEDInNefnlcH9AyVvhEHBmUmjdpjXNmDGDAgMDacXK5bRy1UoaNGgQE/crIpmL1Fd2Py8GWH2Eh4fTB3M+oHfeedd8vFOp410+/vH+P2QREgNBpYC88uHO5Fjfpb7pN2vwOfCWp2djUZuUfDcx/3PiuQhLmhK3pIqcBXJs0MC1mORvgRgZmskTFidGiYcUMJmD0HGNMw8+5ZkkWgMzj0mTJ9OggYNo79694kwEdQ2Ie9DgQTIjKI+4Aejt8WwAgyEGo6qWhSNByVvhMICkCV1xmzZtWeLLFRtfeA5Ct2tSDVScOAB0+sZMWHDyaM9pmI721L5d5Q7kycfbWyTnykh9yK2J7O4QpC3gVLkSbTXISnLAD6lKXGxYocg7I5OmV6kw8E5YNIUeH6SLspg6dRr1Ma9ZVBQG34sBxFT2KEv5c99DyVvhEIB5G+yfYdoWFxfHU+sAsV1GCFLrqXxlgKn7oEED6Rcv/IJ+85vf3Dl+W7njV7/6FY0YOaJCU/ziMF8LzimPfG0kW0wKrkmysjzGxjOc6zkz6TvzNSbnqIoOXrgOnpnbtm2jXbt2iXVQYeFtunLlSqUjBN7m+yz3iPRfryYLo/ZAyVtR6wGpDItZ0ItiQQvu3i+++HsmEyf66aeFdPHCJbmmsgDPQq+MhTvXBtU7MCuoPCxEVz7hlUpHFePKasI2KWOgwgDYgMsP5V+aw1BJIC1YlUDVNH/ePPL396eXXnpJFjFhr33o4KFKha+Fzh0OSU5O9UR3X4//1gUoeStqNSBVX758RXZOAXHDnO7Xv/41zXhsBo0YMYKOHz/GBL6AbiTej5515UiQJV63rLc3nbN9RZEEX0YCyIlpVlE8TzD7g0khih7xvGF9UhZA7snJyeIY9PHH/ypanIT668knn5Rz85jQo6OiKzwgwyM0NTWFB2EXscCpK9uiKXkrai1A3PAm/G7+d7Kl1tChQ+mZZ56loOBA8Tp8bMYM0VeDCGDv7HAB+YUsncrgzDtnyhuXTOfvvqhIi8OnbCVh+Q1/bT0DxI5BUc7ZOO/q4ioLyPWcnSg+/ppYn5QGpANyXrZ0Gc2fP18sbKBygs7by9uLJkycIHbmWLxcv349ZWZkmu8sHUjzZvZN8chs5OlJLVu2rOIsyPGg5K2olYDUdfHCRfr8s89o8+bNNGbMaHr++eclTrSYyDVwpdABofTII9PFs+7f//63bExb26Vv5A+DDIgpLT2d3xPxSrLFIQfT/0KjUDwEoYKApyF+y76ZLW71sI7BgIaygbSZlpYm7uy4HrbWMFfEpgh4BjZjgANNKl+Dzzk5iKeSJgu9OI80YGOOGDA3Od2C/HxJD0RoMbcTdQSniVlNXj5/RnpMkthSzSIVQ23SvXt3cmvoJvtJlhZTBukhHai5vv12LgUEBLLEPZv69usraiuoOkC8U6dOlfpFmIP9+/dLHsoC8pGUlCzv6uvjI4N5XSFv9bBU1Dqgo8P2ej5L3NCLjhgxnH73u9+JHXL9+ndimsDCBE4op0+fZuI+J2Zm2MWlMpYK9xogSLij79geLu7+mO47O9cXAs5hUvRu6i07r2/bup2v2U7nzp8X4jQFmsoU8zl8xr3wekRaIFVYauTl5YrpHsoBAbq2hm2RdKKjo/nJTkJ0IEOoKpCPsC1bxVQSXo4IeAWNSA4TuhPLdDDjg+55+/YdtCUsTLwsCwpMZoHZPLD4+PiSh4e7rBlgINm0aZMMSjDdbN269V2LhnDfxwzphx9+EJL+j/94SYhb7PLNl8L6pEnjJpTAdX/4cAT/4iS2+56NPU0X2ACeuY3LAe79iN0yffp08d6s3MKxY0LJW1HrAJKBlJaVlUn9+/cTz0q4clsTN4AO6unZiIJ42g4vQLidt27VmhrW0KYD9gAkarjFFxTkU5euXcSDEAMOvAjhaAIVBKRXDF5+zfxo6NAhYgcNQq7PgxVc1CGpQsqFhNmrZy9OYwR16tRRpGDvpk0pIDCAklkaRYQ9lMnQB4ZKrBK4m4OU4RQECTyKSR0Sc+8+fWi4ebNg7LaDHXh8fX0lUiBmBfgdaw0w4WvSxIvz6SEqD4t1DQYeuNhfunyJQtqGCOFaS78YjLFAiUVnbNbw2OMzqE/vPjJ7shA3gLSQJkxAcbRr104k6bLIG++Jhezz589xuo/zewwTPXxdgBMXbO2eZyrqHNAkISFi+g5pDJI0FqFMNtHFgWtxHa6HtQEIzOKwUfsAdYUhkioGKJAVDrwDDovlC6Rbi7UFzgNihsd/sShXr56zSb/P98h5/s+SBkgT0izulzRw2vwMJACzPjjk4DvygZ8lCat8YEYDXXYuJHkmZpyT5yAJPo+6kDox257D5O/TTz+jjz/+iMaPHy/OS5DuratLZhb8PKSDe8tSbYiaJ9ekO8e14nxlA8jLwQMH6dVXX5WB6pNPP6UHHxwr5VgXoOStUCiqBQw2UOP86T//JIPoP/75Dxo1alSNkygGBCxm/7+//IVC+/enf/7zn+IwZWOMvy+hC5YKhaJagATes0dPMd2EBHyApWFs9FCTgMwJc8KwsK2icoLED3VRXSFuQMlboVBUC1CFIAb4xIkTZVEZC6lYRLaofmoCUMHIYuvhCBo6ZAg99NBDojKrS1DyVigU1Qb08L169aKnZj5FSSx9L126VKIu1oRWFuqSc2fPSazzli1a0KxZs2p0g+XaimqTN0ZXrEjDBtVi+2kL0IvBnhTXYkFCoVDcPwBvwipk8uRJNGnSJDEz3Lhxo5g32hMYDLBFG+z6c3Pz6Je/+hX169+/zixSWqNapoJYAUdgIOx8cZZHQpgp2do3EASPDWTXr1snNqwInF4b9xdUKBRVB/pzI89GYq4Jk8ioqCvUslUr8Ya1WKZUF+ASbNyAvTsffXQ6TeLBAuaidZFLqm3nffXqNfryqy9lk1NPJmTsCGJtZwuHAmyciv3oVq1aJSEg4QJbMuh7XQEkBxyWWYolElt5R6GN3/h/skCjg6CitgBtEWF227UPkb1H/Xz9pK/bi7wRuxxp9e7dhwYNHihxVeyVtqOh2qaC8MxaumQpvfm3N8m/mR/9z//8L40ZO1rsVeEIcPDgQfr6a2xeGkmPPPIIPTnzSQoOunvXkLoAEHZsbCxFno802elWE3ApxgYFnTp1qpPlqajdsLZltycg8AgkbdPHuohqkzduR5zl9957jxYvXiw7Y/zvG2+Id9jJEyfpgw8+oNNnzsh+dc88+yz52di+v64ACy07w3fSwoULJSYFJGf8Kx13WqZ8KtFQ4VY9fsJ4euKJx0t1ZFAoFPcn7OKkg6nMgQMH6M9//jPFx8fTH/7wBzGWx+awkLhnzHiMZj71pHhd1eUpPooaew1iM4HyAu4AJYm9mIchf0RZokwlqlslB0QsICM/dqh+hUJRSaDvYpG1OnxoNw/LjIwMWrxoCc2Z80+xt2zi5SX67ueem0VTp00zxdmtoxJ3SdibMCvbALCYhFkRHCp+NvKuzGNrw3hfwfwaGFTNn39WVLR8a0Vm6xi4zBt7NpZojN7Mi1WF3chb9LkxsfTWW2/RggULJHIYJPBHpj8ikdK0kdQeJN1IkoD3cKSABF525aB5FJP5y0ZFL6woGZr/Vgymqyuc28q0yQpkxHQJ/l+ZhCt4tZ3zaoFpdle5/NobNTIZr0QZ1ETZlndZy5Yt6NlZs6hDh/ZVlr7tRt5QA5w9c5Y+/PBDWr58OXXu3Jnef/99GjJkSLGdsfE4qFlgPSH7zXHGZQPRQhOJQI9br7Q96Dint28XUH6ByU4c1yLSnPXLI315htmaw2L/CX0zAhdZItPJxqmFpkBBWOzDrABEZn1f0UzB/NzbfM60Z58p31WB5K9owcX0vTpAHiubF8yIELUOEni5zzenXbW3rT5M2atEGXF+f668ApXL78+/4Fbp8rU7fv4yqCmU2rf4fV1dG5B/82bi2l/VFmsX8obt5fFjx8Uc8MKFi2LHjRCNMNZ//fXXTTEH5Lo8ir4SRfHXk+jmrVxq1TKY/Hy8+Hs8paSkUkF+Ifn4+oq+HGEnrSs1nwcHhAlFbGLsxsGsRZ6NPKlV65YS2N0SKS09LZ2viaLklDSJXNa5c0cJQh8TE8eDSEPq0qUT3+dG1+JiKSEhkbJy8qlFcBA1a+YjC6/IB57VhGcLbdq2Jg8uXAR7T4i/KiFKyclZwmwG84EIb5UB8oetomL4HVBm+F6d0sfgB313cIvgOwNNRcHPNUldCoXiXqOqwp81qk3ekLiPMXF//NFHdO3aNXrhhRckPvF7771Px44fI5iRT5s6VWLsZmak0Yqly2jFytUUeSWWJk2cQK1bBLFUmy+7R589c4YOHztBTz7zLD0yZZIQsjwjN48OHjpEK1askgDwfXr3IheW5s+fO0sxsddo+KixNHrUcPJwb8iDxllavmQxbdy8gxq4udPMmTOYlK/StasJdOzkGXrqmadp2qTxtGvHVlq7Zi2dirxC4ydMpPYhbSk9PZWaN/NnYo+h7Tt30bARo6h7t24S6L9J40bkUt+Jdu4Mp3zDiV588RXq3at7pUgThI0g/AhIn5aeZhqZq1H6KIMpU6bwO84kl0oOJAqFwrFRLScdTLsPMalic1jsNfjcc8+Jx1NQUJBIr9hXENNzqFBgOgjb7+b+/nQ9IZ7JMZyJv4D69u9HY8eOpT59+pCfrw9t3b6NrrFkPnjQQJG+CwsK6GjEEfr6m3nUqEkTMYsLDe1PbUNCKKRNGzpz5iytWR/GEmgAtWoVTF6NPcnfrylduRJNByKOkTunMWbMKArwb05nmISDeLAYyPe3ZGnVybhNu/bsp6sJnMcunWn8+HHUt28fatUikHaHh9OWrTuEYOEMMHzEcJHiXZ0NWrdhM7m6N2by7ikEWlGA6LETSgt+dq9eval///4U2q+/uPfic6UOfofQ0FDq0bMH+fj42GUkr2uwyC32LruaSldhP1jLrDVW/1CH1GQT4AdVCdnZ2cbKFSuNhx58yBg2bLix8KdFRnp6umEUFsr52JhY4/e/+70RHBRsvPrKq0ZcXJycy8/LNb7/9msjKDjQeHzmLOPSlRj+uVBuu3E9wXh+1nPGyAcnGSdPnTVu375tJF2PN/5r9myjb9/BxuawcCO/4LakD9wuyDMO7t9tjB0zznj2hZc4rVhOJ99IT4033nvnTSOkXWfjzXc+NDIys4zU1BTj9OnTxrX4BKPgdoFRkJdj7AvfZgwZPNQYMXqccTDiqFEgaRcaN7PSjP/+4+tGQGAb41+ffGFkZWVL/gpv5xtXLp42JkwYZ7z82p+MpORUU0YqAbwr3steB9JTVA4ot+SkZOPcuXNGQsJ1+W4v8OzKiImOMSIjLxiZ3O4UtQ+o76SkJOPs2XPGddS/FadUF6j/2Ng44/y588KHNdk/q2S7h01K9+7ZS998843on59/7nmaMHG8bLHEw5hc08y/GU17ZBr5s6S9YeNGOrD/oOyvZxqKnMiZ/2H7Kh/zfnNOToZ58c2Zbt3Ko5ycPDIK81lKj2MJOoJc3DzJ18+PnK0WM7ErSDBL+QEsae/btVP2+8OCo+kJBjX19mKJvje5uTUkL6+mMgMIaO4vi464Av/q8zPbtA0Re2nTDiz8K//WgO/x9PIS/Tbul9fi/9WXBVVnun27sNjoXVHgXfGe9jpUuqscUGfcYemH73+g+fPmy/oD2oy9wMRAR44clY2Tt2/bJhvjVqWdKGoGqAsesGnBjz/RN199LWto2PTZXkD9Hzt2jD7++F+0bu062dKupqq/0uSNhh4TE0O7du0WQnz5lVdoysNTZP89ayKBiqRvn770+OOPU/t27SRIza2bN00n+WWYq8mFidCajE2NvJ68LBbTWIqm5BuJlJyWSe6NvKhBQzchUGtgXz/X+s6UmhxP6ampVh3FIFeX+tS48Z18lSQ6XIuf3Nw8OL/WsYB5AOB81XdxFUuZuwgS98lf+aZwEKC+YSa5YMFPtHjJYllnwd6Y9oxIB0/XDh07yOCOsBBbtmwRAlfcDdQH1sywiz2swWoaeB6EzYU/LaQlXP++fr6yWbK9679duxB51ty582jTxs2UnV0z9V8lyRsv/dhjM+iNN/6Hpk2bSk2bet1NcAwEpEGs3bffeYcmT5ksL2YhbuE9fChx252vkKDrkQsPAvVZIr6Vc0sW/ErC4E6C0c7Z2UWIvCgFeYCJZO/OGcN8guV9lmCtzAKLYLnT+u473yV5hUMBM8YNGzbS4sWLqFv37rLY6+3tbbPtVhVoRyEhbaV/5OXl01cs3cESCzuvK4oD4aGxgL/gxwV06uSpGg8VjQ0csJs+6h+zcOw0b+/1Ipg5w1ru2VnPsuDoSfPmzaWDBw/Z5K7qotLkjcaJF8bO15AwSkrc1sCIhoXK7t27yU7QDSE5MwqZ+gzzVKXYnSB1HrGKSJcJOSCwJXUIaUM305MoPYUla4uNtKTBU+DEREpISqb2XXpQi5atzSRcryhdqGPKA7zi7pjN4S9GYnM6pbwbsilZVTgE0FYQY+e77+ZLnT7+2OOyi/rdg3b1gVkndmt/aNxDdPnSJVq5chUlJyWZ27YCuM2D2alTp+nDDz+gv/z1rxKfGyqGmgIk+5MnTtH8+fOlzmfMmCGzLvsHdHOS+u/F9T916lQx5IDTYvw1+29MUaWco/FbjvJQ/FqDK62AcnmqBPULnEUgneAzHHdgoVJQkMvX5PM1+J3Izz9ApPamjd1o3759dD3hhkjahXxkZWbS3j37KTElgx5+eDJ17NBWngl7cgRqL+QGgk0i8nlEL15wpnzk5Jh2x87jERlR/gp5YMDggKkcNo5AXpA/SE24H/nK4RmA3MPX5+aadgFX1G6g7rDD+ZrVa+jChQs0ZswYJtce0slqCh4eHjR27Bhq374DS3tbxSpLpe87gJ75JkveIOzsrCwJr4F+XVNITkqRnXdOnDhBI0eOpF5iblxz5rXY9X7gwIEi4e/etUtMjME39kS143lXBpi2nDx2lBvzNjpz9hxPK5qwFO9LntzQk1gyOXhgP23nF01MTCF/X19RuzQPCKDg4CARc/fu3U+pqelUj6Xp6/HxtG/vXgrfuZt69w2lmU/MEEebJJbED+7fR9u276ComKvk5g59tit5NWkiC49ALufjDE/TdoSH08GII+I5CecgXx9vJvJbPCDspq2cx9i4OFM8Ys6nm5s7XYw8L1EB93A+sm/lkXdTL/Jp2tQ0+yjNK1Txs0MWEQ8foc8++0zi7rz00ktMqu1rROq2AMKKO7eZtLR02rFjuwgGQwYPJncPd/MVdRsoe2zIgn6FUBqTJ0+hTp07imOdvQEB68jhw+JECA747W9/K2GU7wiV9gfSBYFjnW/z5s2ShyFDh8g72wv3lLzz8vNlJ52G7u4UyqNSx04dyY2JG0Grcvklb6SkUOs2bahf3z5CpCBv2G97MDm2bRdCLYMDWTrPoQQm7mvxCXTbcKLBQx+gqQ9P4uuaM6k7MbmnUnz8DWrWPJD69O0rduXQhTf3byYOPihUOP3ExsQRZOYePXpS1y6dqQk/yw87fvDAEM1TncCgFjQgdAA1b+4vDQxWMYmJ1ymH7+3cpQt169qVPD0bUzM/P/JqWncDwjsCMlnqXrJkCW3atIkGcLt74oknpG3VNCDZQeqHv0NsbAz1Dw1lQSS4xgjDkYAycGvoxpJpJwmh0b5DOyG7mgBm1WvXrqO1a9aIf8Ws52YJidZ0PYAT8nm2vnvXboq7epX69O4tqhq7PZcb1z1EocEvI7aQd46CIpvl4r/n32V/CzvsnFu3jOQbyUZi4g0j++ZN+c3alNJWOvkFBXfZWxbwbyWvYwlcrrvzm+kaXIvf774HeVc769qOqCtRxoTxE43m/s2NT/71iZGVde/sr6/GXTVmPjnT8PX1NT7+6GPxj1DcW8Cm/6mZTxneTb2Nv/7lr0ZmZqb5TM0CnBF/Ld544fkXjKZeTY1333nXuJl903y2+rjH4qIphq0zT40wPTIdJksPHHd+Mx0lpVnYYTfgaa+3r7ds6uDu5ia/WQ9kttLBM0uOdvit5HWQ3HHdnd9M11juv/se5N0xpSiue9HdQyqBpyzM2aDrt5zD79g8FgfUXXcWik3AvbgPm0rIptL8HfeVBagvkB5imnOHorS0NHmOrfvwG9ZBcI8EMuNpp+W79fX4Xa7BeavPFuDzlStX6PLlS+Tm7iahG6A6KQvIU2pKKqWlphWViS3gnaGzRTwcmLvZeg9sDdiqVWtZd4F5LTyOyyunnxtYTCxqFzxrsdQRDku7gI4a7cK6rAGUP+7DebQLfL8L/Pq4z2ImiLaHe6zLBZ9ZQJJnIB1cg/IGkCbuwzPwO9bOSitT/J6YmEhR0VHih9KnT19q2KCc+s8x1T9m8ZillwbkI4Pbf0pKiqytlQQ4oynP2OEFDZPjU6dOSZu3F+6p2gRgeiyyBLlXcEx6rVmgs5w5fUZ2+ca0HptpOPNgBNM5BOjChtLQE8LhAPuU4hx0+xgcU5nULl64RCdPnKCIiAg6fz5SGq8nnwcxlhwo0YHQAXHdnt176TCne+LESUkbaSFkgDsTKwZHC0B2WFzETuHYvCIuNk78C3jGxdPthjLlBgHg9zNnzhBLuJJPxNfBs7ARLgZYdPgtm8No/YZ1FBgQKHFg4DhWMo8WIM0LkRfEKmHzli2SN4R7sM4bAGLB4te8efPpwP4DQtJQ0ZW8DkyVEJ/A771bOvmDYx+kwKDAUp//cwPtAnWDDX737N5D+/btFcc0lhwpPsHULg5HmNoF2olLfZcii7Nkfr8rXF+4/9DBCIrkcuSZstQFVCKWd8ZiJe6N4HT279tPO8N3ySYurVq1KlKdQCg4euQIHTh4QNQOR/gzNjJ2beBKPJOSDc0PHYqg09yGk5OTZH0B6wklBT4MRDB0QBwjPz8/euqpp6h5QOmbwqCtwtlv7rff0tatW8us//N83Xfzv5NyQhkEBQfdlS6+Q1iBiSIGnNGjR5XZ/iqDe07eitoBSC0g3r1799Gy5ctoLzfwli1asYRdSCdPnpRNpFsEB1Nefp6Yum3btpV46i9kCLvVjMwM8UqFo8uJ4yeY7OaJVNalc5diukt0BkgnG9ZvkA4I64s+fftQ25A2IlWtWrWayW+/pI1GbekkSGv/vgPSQVesWCH2smu4A6axRATpGddDEt+zdw+9/fbbtHTZMjp+/Jh0FHRwLIJhIIF0t3btWpZ6d9HQoUNpysMPE+xvywQLcdu3b6fvv/9eIlIi7k7TpiZPYAB5w96sH37wkXRcSFYjhg8XPXrJTgkygRXVtm3bRAIcPWaMmM2WJJnaArQLeE9HHDpES5YuoT179khZFvLMC4NkA9cGEpsHUifaRXj4Dqk3WGWhTBBwDZuMI4b/yZMnaO7cuVIH7Tu0J4Q/BWB1g9nQbi47eCGuXLVSBs2RI0YKCaLN3LiRSDt3wkpjl6xXYBPzTp07i8kd9oGFgQHWo+ITEujf330nggH059iQ2LoOcriuVq5Yyc/aRaEDBojlWlmLhhAt0cZ37txJixYvEkkZlinW9Q/BAgvgH330MbernbKpwtBhD9z1bADfQdpYtEziQWbQoEEUEhJiY5CvPJS86yhAsPAuC2kXIpImpAiE8oWJ2wBu5LDNDwgMoIDmAdyAUyRGO8gHHQuEPZgbYctWLbkDBYhkFbYljM5Hnqf+/UNlEddifYOGDqn+008+EcJ68KEHxYnF29tHQtlms6S3mDtnUnIy9erVq6gDoHHDDrsLd1hEl4QTRwJLfiNGjBBTL4uUBUuhXeE7ZUcS2O4iMFrPnj2LZgmQJOGYc/hwBI0eNYrGjB5dptoEz8bABQslDDYol4DAQLFOacDTbZiKQvL87NPP6eKlizRj+qP0zDPPSFmV1iExtcfgBZXJoIEDqRuXbU2aqVUHaBdwMmkX0o4uXbrMhH2aybm5LOgjEFrXbl1l5oC6y8jIpKVM8HA3B5kH8e8DBw0Uskd5oC2tWrVKZlBoFyBblC9UjVAndOrUkW4ysWGACGTpFoHhUG+YKjfyaCRlHsgDAQYFlF1zzgfuG8TPwACIQQICBISHTZs2U+dOneQe63pA2SMPJ1ggGT5sGI0aOapstRk/G+o19AWZHR49Ks/pwEIH1C25ebnidPXll19y+zhMU6dOk93C8O62BmS8b1ZWtpA3ZmDdu/cQG3B71H/tHP4VNQ40cE+WQBG7BSSJaSDiPEAqaMvkCgKD2gFSSqdOnZnMGoikBCkCUQ29mnpJA0RURcSogdQDqejM6dMirVsAm3vo+jDN3rBhA126eFF+RweGDhIdsW2bNiJ9H+drLHpNdAScBwlAWnp19quc15Z0mAn1Ek/NMR3GBh5wfunBZP2n//wTPTrjUerQoYPkGe8n6hruOBkSX8KQ9CoSOhf39u3bl55//nnpfHCnxuCBd4dUOmfOByw5XibE9Pnlr34pkmhpxA24urgK8WMTEagHbOqBawnwHhhAEa8e0jKk5piYaGknsAQDsaFdgGQx44BzG2YpGNQwowLpoV1g8MMgjzq7evUqXeR6RxsDZIBkAoUaox23N4tEbgGkXzzDm4kaZAzyhCoMru2w2ID6C4MMnuPr48uDdS95/rlz56SOrAGvWtyH+m/M74VZWXnAs/FucOTChi+YgR2KOCSCwNGjx2jOBx9INNNnn31W6h8WRGXVfwNuc02aeFHB7QK6Fn+tqByqCyVvhSzUQg8JaQodFo3XsjIBCdqVO4rYyjdtImaSJdUD6ETozJByoHeGOsMCnOvZowcNHz6C+vXrLx0aQGfC4cWNGsQAO39IuSWJDc8BGUPahjv7pYuXxBvv0qVLsnMTVDwPsTTfq3dPIQHrfAHIE1QBUIWAMMrqZNbAbGLCxAk0ceJEeRZmHps3bZLwx9evJwixz+DBAqEiyrLxR34QQA3PLuTBBotglSFvXItFMyyiVfXA/ZUdMNAmcCCYHAi7dZvW3C6ci9oF0IDbBPThMMHt1q2btAHr8reQPAaA1JQUUY1YA2nZklatIWXLaUJ4AJH7s/Ru7RWJzxY1WHJKsjzLGjdvmRbjAayTVLT+0ZbGPjhW2taly5do4cJForb7/LPPKSY6RtZOZMYF/XkZ9Q/AVNmT2xNUTxAkIHjYA0reCgGaHyQuTFdLEqDFCsfX10+kjNI6XIHZAxWkbAHIO3RAKL319t/ob397U+xcsdvRNSZ5EDGIMTXNZK0BkrW+1wI8G9PlaY9MFbXD1rAw+vbbb2nduvUilUFKLim9AUgL3rw5uTkiIcqgVOLdSgPeEWlDFdOW87x8+Qr6+9/fk0W5X/ziFzT90Ucl9EN55ANgliFx3/nVQC4lSaw0QEI7dfI0rVixkhYvXkyLFi2q9IH7li5dKqqeqsQOQd038vAkd3fsbFW87Cw1hcVaqJZsESOIDUG6xOO5gu9dEngqJG3UB2YxJWHJFwYqPMsaKEM8G5eIdZhTxSgPacI5EPXfvl17WTd59913uL1epKeffooef+IxEUQqVP/8TAw+APJjq41XBUreiiLUc+LOVxq38e9oqC5MgHcBPaNEx7YAnQBSZ4vgFvJ99arVoi9cuXIlHT9+QqxHIBkWcoMuq03j2VDpzHp+lkzfocfMzMwQXSokw9KABdgiM8fS3q0UgIzg3jxy5CjKzMqglNQUemrmUxLqGI5lFR0IwHJFHbai9zBAdphmY80AKitYBVXl2L9/v1jqYHZVYZiziXcEAdvMtvmVMDiZwimXQDmvigG1XJjLDs83mQXbTvRO2ymeJupeyp7/q3B9mYHBvnuP7hJOoYBJN52Fi0d50MYBlU95EncR5DJLkLzK5aEsKHkryge3t7IbnfQwqw50B+g4WNhCTPc33nhD9N6QoEaOGknDhj8gelJ8N8VYLxtQ3cCtecjgISJNYyHrStSVMlUC6GAW6aikrXp5gP4dZooXLkTKlBcdGBI0PG4rQwQgKZNEyBI4E0JFpT+8L7wPZ782m/77z//Fx58rdfxZ/v43vf7H12nM2DEyC6oKqkw3KG5zkduHssppg1Inxa+Rwcf8E9pihQYMMyAlw7IFliy4C/GUUIa2TBLLAtodFu6Bysz+yoOSd52HfRpSaYCTxzKetr/zzjuUnJwiW+VNf3S6kDCkl0YeHuK0hfZsyQk6DRwvSgKBfc6cPisd6OEpD1N0dAzNmztX7H5tTcnRScT+1zzlBxkXScDlAGaMMAf7/PMvxD770emPivXEunXrKDLyPKdVGb11oQw2kFCxcFXRSHbIM/S5WBCFDXTr1pU7WuHg+2D9gYXEqpMG31dxzisGPFGeW1Ep1c6AusWiUjOprCr2ImiD8Ef49JPPZD3mscceoyZchmvWrhX/iMqooLBQadK7O1EjT88K693Lg5K3glEzHQtECSsDrNZj2j5x0kQaNmyYWH1AcoE0b5rS8mHq5fL98qXLYqZmLSlDur544QKdPn2aJfZh9PLLL8t0FmqBhQsX0o3EGzaJGYudXl5N5DOsBSqyWISOG3Eogt5//31ZRIWO+4//+UeaMnkKHTt+nJYuXUYpycnmq8sG8gSJHbbhsFyAnrwqnRcEWNXjZwM/uki1IFVTel7skUukUTIdj0YeMnDh8dk3s7n+yyddkPzRo9gN6XPxzP3lL1+g12bPpgnjJ9CFyEhZQ7CYzVYEaE9Q8cHRDZ7h+GsPKHkrilDebL5CRMDt2XpqCjMxeEnC9htmXtb6aVwHO2+4ykM6tXSG6JhocWe2SNP4ix1w4FQE556ePXuI9cNvfvtrsQ3/4YcfaePGjULO1kB+YfIIAsdgAUsPSNSlAc8XB5wDB+mjjz7iKXOcdFyLbfqUqQ/LIhWchvbu3WtzdmALt/iZiGTp4lpfHFowdXYEmOq7IrRa9nV3zhQnOx5azJ/Kh6lNFb//btydHmZemOE5o/5Tyq5/QJyNuP7ffftdbrdXuP5/SePHj6fWbVvTI9MfEVPU1WvW0I4d2EC9dNd5a+TcyqHMjExydXWRBX8XG4uuVYGSdx2FSIQsheTl5bJkkCedAxIiFg8t6gWQJhqoJe45zlt2NMI5XANdHlbzcR0WB2HjbZ0GVBwNGjaQezIyM4v000KUnC7Mrm4k3cAPcg0O3I9uiDRgpwud408sXcMrr2OHjjINhokaVC/YZg+dGu7s8HaEmsaSPwDPhzce/l65EiWLTraA/MCWOJw75Zw5c8Q2+MUXfy+mgpaZQseOHWj8uHHcETNo0aLF4nxSngke3uFqXJzEQAGRNGPJuzaTN8oBeUad48CmKfiO+rXUKd4ZZYx49vgMXTBI0VLuljRQj2gbsMdHOzPFxr+TBtqK6RlQLSCeSp6kgfM40LaQrtzDszAMrHCSwb1Fz+B8IfY+nLXwDHhUWtIAYOaKhW64uSOiaWkbPuByqDZgx//JJ59IKIBZs56lcXAc8mxELs4u4jA2ddo0eSack86dPVdu/YvgkZQkHsmNPRuLCkssj+wA9bCso4DXFxxnEBM9bOtWUWvADAuLZJBgYX+deD1RGvP2bdtp/4EDEqcC7tHoLLgOHeTQwYPiYo+9GmPjYvm8yZYanQ07LsEr7QZsuM+d486cS23bckdi8oXzDJwqYvm58NiLio4WPaKPt4+4RkNXi9gY8EzDNlmYqkIShIOQxKbg6TjI4ey5s7Rz1y5RqSDsJgL7p7CE7cGdFU5IuAeOPHB3zsrOogfHjrUZWwTEHRYWRh9++JEMMoj5jL1ZrV2eMQDgO2YS+/ftI+wM1aNHDyaG0q1dQDiwD966LUzslKE7hfRe8vm1BaiXQzzDgYXKFi57EB7M3DDwgEhht41yxmIxnHP27d8ngzDWLnAebQgDnSU2StjWMLqekCBpQOePwR+u5tFR0RLXZCufP3rsqPgGoM6wloAYJjAb3c9pI37+Nn4O7MRR3iBLqL6QD9j57923l/O5hc6cPSPt0ZXrCLM5X7S9hg1lcRiWTDs4DXhpDh8+XPwZSpY/iD9sy1au/w8l8NaLL75EkydPEhNVuZb/g4OXj7e3LJIj7xhcevfpLXkpDcgvXPzXrV/PUntHqX/0C3tAybuOAp0hfMcOIXAQLSQCBJZCLAdILm3atBWVBzalgFegnzn2CDof4ofgMxaDNm7aJAt4kHNatmgpUnFaWqr8hUsxAl1B8vHwaCRqiCSWsiGJwEvyxo0b1LlrF+rfr58Em7p61SSh4npI1dt40Dhx/DiTwi2JZYJO37FjR3HLB0Ggk4FksKMS8g8rkFTOP9IIDgoWd2wZSPgfiCaJnzdw4CCTC7WV3hGdHnbn6LzQiz41cyZNYIkb6hbrTo5n4jdIcSgnvD/CCFjHvSgJSHPLVywXl+pJkybROJbcsfBZWwFzSJDh6VOnhHgwiEJnnJGRLvH4UcdYk0CgLbQPxMAPDAwy2+mnk6+fH5Owh7QbxEJB4KoWXDdw6EG7wYIhyv8snwtnYsZvAQH+QmgoK7TFrtwmoOJC/HWsmaC8Ub+wOceiNwQH1C/qHnF2cB+CR2FgxawIwgXaDwZvkDdMDCGAYNBF6ATExrGe/aD+kS7eG7FZHn/8MXEIK+mMhs9Q+2EBHDFv8L1r126ixy6t/hGwbc2aNVJeo0ePofETxhUtoFYXTpzx8hRJivsQIGh0EEhNJVWF6ByIIodpLXaCsew3KuDWAqkXuwsh5ggsMTB9LQa+BuZUIDUQHqaOMBcEqUP3BxKAFQVIAQcIFhsmpDJxoLN58X2QZqG6wBTVAnQQzAiwCIXPkNJwD3SK1u+A9Jpw/pAHXAd9+dtvvU0LflpATz45k7Bxto/vHekHXQBSI8oDeUW+QRi2OiSuBVHhvfFuCMAEvbot4FrEjZk9ezadOn2K3nvvPdn0FhJ8bQXaBd4Ns5pi7YLrFK7lKH9YzmDgLEYd/FEGNyY8DGoIkwt1XDHwNVChYUDHTEfSYLK2fg7uxewLbQoek7bUEqgbDKIYpFH3Jn24GfwR5YtYN2jHAGaZ7/397/T555/TtGnT6F3+DMK1BtoZ2huehzaJAba0+sfggLaMz6h/tDNbQFvC4PP6H/5IERGH6M0335SNIOxW/5wBheKegTuHbGSBv/cKTMzG2jVrja5duhpDhww1jh09ZvA03Xy25sCEYKxYsdLo1LGTMWb0GOP0qdMSoF9xb4H2tmb1GqmHQQMHGQcOHJSNVWoaubm5xrq16wyegRrDhg03Dkcctmv964Kl4p4C0hmmrPh7rwAJrH9of1GZQLeP6TYWvmoaUAlANQW996hRo0XdUxkLC4V9gJkYYq/069ePoqKiJQgaZlo1DcwMsB4Etc7AAQPEQsqe9a/krbjvgekvdKoIMgTdO3SpWDDDtLamAMLGIi/iiCPeM8Kdiq5TufueA/WPgFYTJkyQSIXh4eESQbMm6x/qF0SixIIs1mlEh+7Z2K71r+StqBOA9IXNGECi2CllS1iYmBXWBEAKWMxbvmyZSHiPzpghHRh5UPw8gOXJqNGjRecNy5TNm7eIRFwTQP0nJCRI/B1Ybj3+xBOyUIqt0OwJJW9FnQG8G59+5mkx71u5YgVFHD4sC3T2hGEYEjVx44aNFBkZSdOnP0qjRo0sdVFTcW8A6RuLlE8wkfbp3YfWrF4te4pihmRvoP5Xrlgl6jlI+/AVwCK7vaGmgoo6A+jZYXKIzSMwpb12LZ7ahoQUWcXYA7CS2LNnLy1btpz69e8vHpqBwbZ3WVHcW4DAUdfY/QlhFqA6gdMXrFsqHCGwHEAYgIfmDz/+SNjEBP4CiDFTE/WvpoKKOgeoMuAdFxMTyx2so2z7Za8pLUzsjh8/TvHxCdSjZ3fZaELVJbULqH9spBwdFSU234gxby+vV9Q/NkdGiIeu3boRthq0l0dlSSh5K+okoJdEPBWJRY1wtPZaSOLeBFdvfABp27IVVvz8QN1jZyP4FSDKo73qCXQq4X/5LxzBxLqkhpqAkrdCoVA4IFQRp1AoFA4IJW+FQqFwQCh5KxQKhQNCyVuhUCgcEEreCoVC4YBQ8lYoFAoHhJK3QqFQOCCUvBUKhcIBoeStUCgUDgglb4VCoXBAKHkrFAqFA0LJW6FQKBwQSt4KhULhgFDyVigUCgeEkrdCoVA4IJS8FQqFwgGh5K1QKBQOCCVvhUKhcEAoeSsUCoUDQslboVAoHBBK3gqFQuGAUPJWKBQKB4SSt0KhUDgglLwVCoXCAaHkrVAoFA4IJW+FQqFwOBD9f/A66tINrXpoAAAAAElFTkSuQmCCkyflq6++sno3160NRwDmQDQLZ86claNHj8r58+flwgVC4wS/N6f3Z/JGyTOOb9FmUj+cs2KuwbaU2Z81k2HB8OT07qjRIy3MEaeKDx46KBs2rDd/dRwZbyo0CLlpKGC8V6IdFA/FxSUcDS21vT0CZRKwku+xpbl5g4CURXYf/mxKleAQ4PHa1etGXm7evCVR7drJ4GHDZc7cuTJUO056+jlZu26dOfwjLhVBOYmyTUynQu1oR5Txb9m6Q/ILi2XyA5Nl1vQpkpKcKJxootzi4iLbH72m5XB8FL8yBfkF5mgPFn6bvNwGn6EOxYFfYaE+kz4L5V4rLDCjrBslHOGGqARHUjGqxrcBQTJvlPAsPGNRJF3gTOmm5XdNCpU1o22y/K5d1b/ztaMVWV2d5TiaA+iLOTkXZcuWzbJr9247WYiNDWr3hIR40+A2J7A9lZiYqHWcIKNGjtaxW2JuLkx7cyUvcpejuQLjWxyn4isMH12d4jqZI1L8oZkmpJmgpPiG+XfjuDd2XZhkcDBn1MiRtqPRnAg/LAsZyA4LjlaHDh0mVwsLLSzP1q1b5Upe042LBg+/UF+AaFy+dElST5+WXTt3KtHYJrmXLpvhYZ/efcwhIFtErfQ/7juXlmbBLAlVgJdewh/07tnDnOK11Xvx+Bvdob15H8YPDUdOYfXXlfx01BUjxImXlJudbcfdln6+VI7i6XjAYHnu2Wdk8qQJEhfX0TwdX7mUK+dTz8qePXutXmdSz0n79ng2TrBtOjQt/LzD7kiJCOQkOzNTTp04Idu275Adu3bLFSVSDDa25DAYw6lfa2Ujl3Jz7D5Oa2zYuMlshBiovXr2Mu2Rna5S0pKbk21+Qfbu3SMbN2+VjMwcsw3qpvnhBTrwCK15mq2Qw9F0uK5kfd++vXa8mjHWp3dvee6552TqtKk2PkHzmsiD+iAkGX9HjhzV1X+GjT0m9m7dWOz4uGqO4L1BljvgpV3/5sBGb5Ubs2fPllkPzpKkCs5bmxJobSA2n3/+mcqlVNsGXbjwaetj1J9FbHMaF9TF+r3+RPZCyHDjgrPVMWPH2s+mqO83htygnSCC9oqVy2Xf/v1y6cplaa9EpUN0R7l69bpcuqx/I7yVQBw5eEjWrl0ru/X+C5lZmrq1CvQoO7qdczFHJ84YcyTIPnqcMnjiWHXQtJeUpKSePS3p58/Lee1UJ44ft7P7W5Qgnc/IkAkPPCALn35apk2bbPGgOIIOATp48KCsWbNWdu7aK+kXMu3UdavWUbbnyB5kYeFVm/g6YQQWOfXBtlruxVzZtGGjdeQjR4/J5bx8IzOwFCKol9y4aT5v2kW1tmdfsnSZHDx0RNlwgTk9jNLBioPDixcv60qks50g27Vzu6xbu07JzT7JysrWRw/snTiiz+oyXlcrXRIDD78OR1MBws9JFbZ1Pvv0M8kryLfwGs89/7w5u6yNnV5jgjqxOEBTfOjQITl16qRpbYePGC79+/WzI7LNZcvAcSfoU/gGI2gz8QdxM4DROls9dzvJ21hAU8+8jRExYwNneXPnzLVYjMk9ejTrcUHd8Oa9a9culYPptkgfOWKkHRBqCnnTKFHB6wNs36Slpupkcsq2fFBp4ysIxkjgzJjYWOmtjdglvrPkZGfJeWWOhboyJB3HvCEirLhgvv369bUOjSdhHh/1cq5OtOxtZio5waiRVeWNm6XmMC8mNk66Jna1ySs5ubt5HeZlcmGIdkHLSktNkwIlMZTHcXgCfbbR8troqg5/HcSIQtUedkzKxSjx9MlTkpGZIcUlJZo2MJXmmdAudU1Mkr59ekun2I5KuM7JSX32YraqbAtKy1eiRBmEbiAwJrGnzp9Ps4joRUVFWn/aCJZPmIf2EhsbIwN4hh5JTeY3xOEA2Djs2rVb/uE3v5GPP/5Y+2acvPTSi/LHf/zH5temOU7gISBm2Nv8wz/8oyxatMjG/Esvvig///nPpb+OcyZ5R/ME8y5esEPXIjjBY75tLv2NcbFBF7x/86tfmR0a9iz/4T/8B/nRj39kC+TmOi5oV+QyOwu//OUvZcXKFbb9973vfk9+rHUnpmJj1/0bQ27oiXRI7GkqRSslEyrs6ahMPmZbUgVQP5oarRxIY+l0orpaeE0KCwulRH/nWCraHbZ0cOgVhHSIJFLQfJCN0luBzUtlgOigZan4crmfemInVFnKgCBpOv39zmcK8wlSkW/I6C0/q4t9VQ4BGeO52zSBV0uHozyYCJd8vkT++q//lxw4uN8Cov7oRz+ShQsXSqJO4s0ZjFtWqISW+du//Vs5dfqUTJo4Sf7bf/9vMnnKZDOEdjjuBYyLN37/hvzd3/+9HD92zGxYfvGLP5OnFz5ti9jGpQe1A8QM30Gv/9vr8tt//q1trxEg+y/+4i9lxIjhJj8bE98oKYfRFxqN8ArtR+xqG1Um4Pl5x3cVrorEBgRCP0rJTLTEd4mXlF4pFiwzpUcP6RQXq+namm1OBX4SlKcvDbVbZWVxmS1QxYQKPoNofe1ZIhfpAu/LFZ+Jsm6XR9nUvyy/trfzuH211c9pIyc2LRUI3fBq1tDqFRYUWkiDc+fPGXFH5U5sOcKu3BN45EZ6bMYZLi569uplTv0w5uc5OIWDLQ7P43DUFoxbjqszLrKyMs0D/dChQ2WQjgvm8HshNjYX1GVckLyGebAzwsJk2PBh+rObLbQvXLhgdkPsJDQ2vkGSLnRcV5c3VT10zopcgYbDCEPERuZeQW0brsaO+gSDGMHECoTByCoKDR4rENPk6echuJe/OSHH9wg1bKzYpjQNWyUvPUxDvqS5fPmK/QzT2CRSS5COul26dMlsuC7mXLSf/M3nbJncLd/wuTmRR36midS/7eJ3vexz/btiXpZOvwu/D6/yn1VMw+cE/WNrh1N9jLfEronSIznZ7OZqA/KmPe35c3NNo8LflFsTcB/vkPTYAPFOzOcJe97VgAVNl4QuZq/H4oL0BPnNzMiscdktDTw3jtuwR7pj7CiRLR/4lJ8Vx87dxgGf0ZfJFzvDimmqhWYXpqcepAnrxlW+buWB/QtpKs4FjPPKnod7+B4PyFa3a8HJ2cryrgw8B30QMwXy6hBNsOYBZUGUawPy4rTupVzt17n068tSZIGja14X3ltuZFzR3nc71o2sRGuJYz/qjOlDdk6OeVamzRob3xiDYgDN4DRU8PObgW9SXe93MKCZlCAICCkCwOJK/NTJU5KVmWVblKzYEXxMPhj+ndTvWLETITdTV1sczY9q01YHdrD1ieAGTPxhmrNnzthJm2PHj5knTyYdVmkISZvEatBhwgmVyRDHZBi+Y+BKXY4dOyZnTp+1CYUAq6z6Qq1mZaBuTGQ8OytH6kmdmJwRQFf172v6Exsu0ybqc1FH0jHxM5lzH0LDrjCdXtQRu4by5fPZgf0H5YsvlsnJUye1fu1l1sxZ8uCDD5oD0KrqWRmKVZDyvDgB3LN3r5w5e9beDyEb7mbESBvyzPv37df0W7ROB+w9kw7j/7udnsFmjvfO9kFeXp6d2Jw8ebJ5ZG8uJ28aC4wdO9ygwiwrK0vOnTtvY4egxwR5bBvVtuwE3LXr5caOjgPakFNn9CXuK6+JBuRNv4S0nz7N2DkiJ47reNMxSn/DhQDaavpYZcBkgH6CkMYR6/nz6XailPLxxUI6HMWWT0/foEyeB7JxXp/n7JmzVldsMxlTpAHXtL/fHtdHtD8et7rhgoPn4JBIdeMPUB7EkDG8+svV1nb04fnz5gVbnR1q5/OJsRcchtls/Zv60yfJs6p2CsFiBjKza+cu2bpli51kJL4VdnGddXzeDZR9+OAhayveaXL3ZJnwwAQruzbPUFd8o8iNw9FQYHJhZYaAw0fDhg0bZN269fLVV2tl06aNNiGm6Gqka5euNhFz3BFykpFxwb47e/aMCdlDBw/aMUgGMVHkWb3g5whNxf59B+TkiZN2gi49/bxOOOd04jhiExoTplbCTseRprpJAFLB6Tc8q2KUi3DN1AmYU3lMqJkqoI9r3Y4ePWZ1oXwEC1qRyiY2/ESRDwSB5yffvUoU9uzZoxPkbnNxwLPiuoAJypzr6SqNlRyT8IoVK2Tbtm2yd98+2acT6X7NgxOEtAfBMCEKcZ1wFx88E6tetBw4KIMQ4ol4nk7iFoQvYqxfU1AHiOLHH39kgQXxrVGi+ffr198m4qomctow70qe3r9N3nzzTU27WN/DYXO/0L9/f/NnczdyhBBAcNNeTP4Ij1mzZsnAAQPtHd5PgBDv1j60du06CyrKGOK0D2EqIPB41eVIMOSCPkZYgXQdN0Y0lDTQV/AlRvRr3j6LCAgEp2S5B8dwJ40EXTBCkpqapv37iPazQ3a6lbED2bDtmwr9B+0LZGsjY1rrt2HjBlmrdWN8M/7wdYM7ERYvYVoIOJrFNV+usdOsxBPj2QgPArFKTk42h5MsLpgLGIOMNcqhfjzPgQP7JS0tzfpa5/j4SutWHld17NJua778yk7/Dhw4yMIYDR8+XKJqGL4oRGHBVRsLGLx//vkS66MYJ9O3Y2JjqqwHRDInO0e2KNn/t3/7N037uY1xFh2DBw+q0bFuxgXEhlPNLADQcHIqDZJjC6NGgpMbhyMCVoGscCAaOJdj1bln7x45m5oq7aPby4jhI3TwB6srSA2TKZ50hwwZYtHsMUBntbNmzZdGZvi+g5IKJmQmflaAOOHq16+fDB021CYvJj48kZKGyRGhyiRggrWSOYTJB00JwSXXKvFiW4fJb/r0GTJl6hQZrwQBL7qQEAgULhGory5ezXFZnK6+Khr2sbriJB7GgKiRDxw8IKtXf6nXatm4aZPs27tPrqvwIlwJdYeAYFjP8zJ5L1u61E48MTEf0AktNfWsEAgTT+Bx+ryoqDvHdy6b2BCEW3TiXf3ll5Kfn6f1HyFPPPmktuUQJWC4Qqg5sMPDyRmrcogYpynRoiR3724+oIh1V3Eypg0RSutV2L37zjsq9DbaPTNmzjBXD8NHjCg7EVkV+A6Cl3spV7Zv227vDvI4ecoU6w8IkrvIgBYF+hCemiEdeXlXTLjjmPG0vg/GAXYjyj/kyOHDRnZwxzFo0ECzKSHKNSR0+/Yd1l/TdbzEK8nnIAd9EqJNGt4zp9GGDhkqffv2s3J555wqov0RvNh88B7Cd0eZxP66pP2D+GWMy1NKWkh34sRxI9oEeaYe5T1iQ4iy8EGm92boz7Nnz1qa06dP6Zi9ZUf/uR9yxXyBsa+Na82HcAT0DTQnjKGz+gycmMWXTlUEh3pCtr/4Yrls3rLZDraMHTfOSD9HqWtLCrAPxV3IBZ2nWGhgE4b2KiUlxfKrnATeNKJInQlLgXNK2pSAsY89/pgMsODXkKy7dGz9mnGIP7pLly/Zgm3s2HH6zvoYSavs+RsCTm4cDgUDztS28Qm2z41xK6fOTumqBcEZnxAvvXRSyM29pBNNKxk1apSMHjPGtA5MqJASouGjzt25c4cNbiYkhBwTY54KcWImjRo10nwscX9it662aszOytaJcJecPnPaVnhDhw0zoUw55YF2CS3LkaNHZdG775owGTRosEWs7qcrMjQVaB7wL0F4AHxAQVq2b9tmwgEhw5YJq+LyEwyCBaeRhBMZPHiw3YdBI4IF30+4VJ8xY4Y8+uijwf4/E5T+x/NBlGgfjoCy3UDb4WF4ztw5MlPJAtGLqUs4mYYasm1btylx2mgqbNpy/rz5tldf2+0chAjEk/pAtGh37AQQhLh7oH0hiuHzYgOB/QEaG4gNJJE2m/3QbHnxxRdl3Phx1j60ffk2qgpsR2zSVX1qWqo94zgVSJBNSF1N0rcU4FYDQg2JoQ/hDgMvu/S77ko0GSe8a5znMQZG6sX75v3QPxITu9l72cHYUUJB3+rYQfuv/l5UdD0y3kabcGbscCwaOy2E5yYl4IxT+v8gXTAwVkMywCvgXULI6bsQKrRq9JMLSnTQaE6fMU1GKKENyU3ojoOFCMRroAp1xsDJk2w9Z9kWEa432ILGWzzvm7rxPOFc0E0viPtOFfAQPfrYMB3XGKCHdSsPFjlsu0HU9u7ZY9vUD0ycaE4G8f5bWZrqYO2nZbLNzbjASJktNhY4aBbj8cqMVjPSRdkSYzsRcvnee++Zr5ouXbqa88CnlfCzGOO5SVBdv7b2U6IWzjv4lWNBNWLESCP9FgC7kcaFkxuHIwImBCZBVhoJXRJsJcNKk5UZGgUmZkgAApDJkIkKgYZARoCyUmIFy0oTrQ9OE5lYiUnE5Ey0fKJcs7IkDZMLEyp2H6i6IUGQmmFDh0lSRChXBNsga9asMU0JK1GESP/+A2xVFBIITsSRLyQFtTD1QfvEaUAEDwIFYRSCNAh0ngeB0S0pyfbXCR2Sm3vR0lF3to2YuLGhsQlK/2ciYzV8XOvPM+JhmMjFY8eNtRUieZYnF9jDsELdsmWrbNu21bQ4Y8eMlUceeSQICMiEW0vYRK6CkK0EVvCsPnkP+L5COIUChe25LG0/7Ag+YAtL69ApvrM8/vgTWu9njZiEpCSsb3WAqCG82cKEaGL7MXxYIOgQ9LUVSN9kBAQiRhcH8eY1HvcWZ5Ssox2hL0EiGFfjxgVaEghIOA7oH2hyIKg7d+00uzEWEbxD3gf9CgJRfuxwIWwxmEWjwrYw2pOROi6Te0Q0nxHwLhkbjIfgvbSRY1oG44d+D3EvT27CNJRFnbsoucAVCCSFMQoRiYvrZHmhwaF+EBDKoFzqxjxC/ZkHDh85YkKd+9jOqmxcoynCTmfVylV2P+VNmjRZZsycaYSkJv2xPLifenSK62xjDO0R44IxwHiAJBqJ17HMZxfSz+u88pV89NFHtoXFOH/66YXmmsG0WtrW5FmTeqDZ4t2jiWPbmXkRYsO4qEyT2lC4f0afw1FDoA1gomJiYwJAiHEKB60MwpLVIZ+Hqx7AgGVyxHFVt27d7bAUxo/YvTChBav523YngN8R5pwS6tOnt/0e2CCcti0yyi0P03oUFNikjFA9rxMSti7YHmDEWx4IVlaykBImJ9Tc3Hf40CGzyymfd1gnfqKV6d49CAz7rW+9LA888IDFcUNFvW3bdrmYm2t76oBJPkfJAitDJu5vvfwtJTaPyZChQ+4gNeWfmTRobgoK8k2LAhAiTP73SgbIn/IQUo8//ri2dw+ze/hKSeDOHbusPI5rU1fsQN588y0jJAjLZxY+Iy+99JLFtKoNsQHch4E1xqxswQUG3jm2mr//ADXRf3Xs4HKCto1X4Q9ycrLl8uVLpsFha7Ojjh3uC2HtqGlSeqYYOaK/4fn5yJHDlgatQXmbLcDvjBfGaPfuydb+bCPhvJWxUxnCNJAF7OHYuqkMPEnwNEEa3GhYLCq9SE9/4plsXA8bZvYogf+z2/WDWNAPsXGhj7ANiq1dZeMasFXKIoeLccFYgCBxYqp8vrUBeXRN7GKBaGfOmKlkrIsStKOyZOkS2b1nj9n4mMZG222Fkioipe/dt8/s1V5++WUbF+W368I2uRuoLvVmjqS9CFh68WKubQE2JpzcOBxVIDK96WRUahNubyUgrEBCklJxsAekqG1EUHP6KcpWQGyPmM1JJT6GmIBY1aJlYMqzEx2ZWSYoKwMTDYaMaDliOsZaWj6rLG80LkkqHPr07WOqeGx/WEmykqsOTMzUm5M/jzzyqPRM6Wnpli5bajZFnIphtcepsn06GfKTLaiJD0ywybSylWmIm6U37RRXfn6BTei0Y+jnqbzAqy2oM9sCFito1kzLD0PjtWu/MoNIvHazffHhB4vNxgntFKtSW5kOGxKsTO+hfCZvykJQEv8OAgzRrEyA3RPIRi+yq+8rzNuuekQwMoL/8JCOEGVMYJPC2LEtP/2vIsqIYuQ7tAukqWq1z2cQYzyvM44gHVcuX65y7ADyNt9htXrXeq+mCd8pW0ZsoxEmpGwLrFx2NjfoxTOj4eF7TlRB8KoS8Ghu7LSikZ9Sqx/PVt1YqgnonxDKuQ/PtajdeMLftWunGUkzLtDocGjiw8WLbbu7vxKb559/Xp599lkZMHCAGVmXf7aaAKLXvn20zk3BPIhROIsZjP/rbVzUAE5uHI67QScqJihWagj9aj1t6r1sCzGBM/GhtsZBXZV+KmysBxMuA58J2lZvKigrggmTMCCsxF544UV55pmFej0bBNSLDgLqcaEdIT1bVnjGZssGYGjLvvrd/FUA8+Oiq2+IwqOPPCIEgYUUfPLJx8EpkNRU0+ZgrIhdDRoeVPNMptWBbSnshtAeUU9AHSEnlQmwGkOTYnuDhow4PGiSSpSQohpfunSpfPbZ57Lo3UWyX+uOzdPzzz1ntgScAEEI3UvZpEHQQW4glzwPxBFBVVeg2kcQYqdCn0BjV++X5gvR5Gd91ftOBMwJo2+0HmxX3RE8uAJoT3OUqmMHsslCoocSnOr6hr0DzZ+vITWQiMrGTt0QPIfVQS/iU7FgYYFRXd2YA4z4aOcsuRH4/gm1lRURupfgRCKEEILAsXjGYWVEsKagbtR3ghKbRx552EII5eviBM3lx598Ytuzb7/9tpw4edK2VLE7mz9/nmmoWahV9WzVQpNAylh08T55H2xx1/97qR5ObhyOu0EnGyZcSAKrqWDCqhzBVBD820Hv59QOK8/q56fIakbLYQIg1lllKxwmGjQ1qMJfffUV+dnPfibf/e5rggEy+bPHDzHiKOeFdDyDptmFNoiJnwu1eEgq7gYmKFZ9GAdPnjTJNBOcMIIsfPnll7Jz5y5biaPhqcqWoCJ4rrAuGG4CCNG9aE0qgvfC9gW2QfjM6a51wkbiA12VctybU2BEgsaWADsbjF9R/d/TBB6BxaxDAKkw4tkCUll1KJaagLQE5OWY8vr1G7St11h7c4qlvi/y5eLoLyedqhK+9woEM7ZIGNYzdqpr64BC6L/6PxocbF1CrUy1iGTJ1iMEDaJQl/avDhRFP2c7jJOQd+s7fM3FVi59/mYVfcN88eiiIyCYwXzTug2tRwbBPfcKCBJG29OmTbNTlYxZ7Jo+eP99ee+9RbZVNWTwYAvxgIYHDbVpUu/ybNUBwonmmDx4XuaOhnonVcHJjcNRLW4PSAbs3SYaBnM4JzApM0mjmagSzF2WIMy4+gmAezkFwZHY0aM5odHbVuGHDh6S7dt2yOZNm+0EEH5k9u7Zaw642I7iGCiTS23mF8pi1YchIP42KA+itHTpMlm1arVtMU2ZMtW2g9j2qsnkhfAKYp/pvZHbg+evO8gHogTRwv5mopIc/uYoPH56+uhq+/nnn5OnnnpKBg0eGJyyqq+y9bLHqYf8aJvLV67YEXVW1b/73e/kX/5FL37W0xXk+S92/e53/yqLF39ofahetDcVmiDcBrpr09CAZX0CjR4OI+9iYF6WJ79EEleD8I7ajIMQYZelbmgk7LkqPuzXEHxvpK066NeQYrQ2/B7kfLe8aw4IGWR+zpzZNo4hGydO4jcoww4ZPP/C82bU37u3jmUWKXUtulx6+/Uuj98QcHLjcDQoajKqdfhHJoO7TbqhMA4dyO3es9tUy//4j/8ob7zxeztJxcmd4uIi20pCU4GRM3Yt9zK/sN2Crwt8wEAKUGufO5dmPnRwaIgRKKs8UFOiEJCshpvtIFr4HSLoIMaebE+xWsUL8py5c2XAwP5lRpJ1BY9hmhr9ndwsxzpmS704emzG64MG21FkrkH1eAV5Dooc3Q4uDMkrs91qKgSv5y795NadjX33pr/HfmfJ+CeSvqZ9nf8sCfdXT1cg/XeiZmXUBCy0WBTx3jESRgMMeOdz5syVObPnSB8dM3fTrtUY9tCRtlLUS561hJMbh6OeUfuBrJNADYU9pIDQCPj/YLvlV7/8lXz04Ue2HYWdyRNPPmFaFsjImLFjzK8HPkHa6WrsXleC2BVgT8Px7lGjRtuJKvyEhP58ipRI1Qa0T/k2qk+iQ144EMRD6qFDB83AFyFRdP265OflWTvfVRtQCyC8sI9hK4RnQlNkJ2fqIJjIp1OnzjJt+lT5zmvflh/9+Efyk5/8WH78k5/U2/UTu8jzx/LDH/3QjEgJeMi7/maBsRP5tQ5t3rCIVPAu1QvGRfA7/arcg9UZLIYYC2hy2e4svHrNxgo2Sth1sXVVn8QWwo8rDcpgy9a2nsuN+caAkxuHoz7RgOOXiYIYUIQ3eOONN+Utvfbt3Sv9BwwwQ0BO/kyaNMnUzJw04VgtxrLYPIQTZ8Xq1YRYMFFRbmZGlq0A8Q7L9sXGjZtk2dJl5tUZe4KagHqg6QlU30FtAjuVuk/k5IMPHUJJ4DYet/g4VuzVs6dN4Gi5CLEAEayP8mg7/Lnw7Bhv0za0d32o9e04dZcu0q9fXyOogyLalfq6yM+uQYNsNY9PoobzQQLV03zrT1ZXCqt7Pdhu1TdqUiO27eg3bMXxHPQtGxdf0+bUHoxV/M0QeuLTTz+zBQnuJ5K6JVnAVxwNHlHCg3F5TeaDmoDTlNgAMndAbIhxx8/GhJMbh6NKMC3d62RZz5OszjmccsIQ8N1335X3P3jfHPONGz9eXnrpRTOgxfuwHQtXIRuQmcgVyaIiEMpMaNjjVAU0Ejgj3Lt3n9muoNL+3ne/K9OmTbdTNitXrpBly5aZD4+aEBwmuJiYWBWktwMVMonjh6cuws8m8IxMc0T2r//6OzvJhb+OP/jDP5SXX/6WhWLgRMiKFcvl4MEDumK909fPvYLVKZorhBAnp9C4tK+nLa/w/fE+G/oKy2oQNFC2AbR9IvXmX/utQcurPW5phcrqVu638mAssHUauiSAFGBgjIF3Xbop6XFCumzpF+bfCY3mpEkPyA9/+AN5csEC27bdu2+PLF++3AIE1yZyeFUgPV6lWVAwtiHqcUqcIW9Vz0b1Dyc3Dsc3AKipg7ABxGRaZe7UcVz30EMPmrYGPzpMkFUKqHBO5Xv9nwmI/NBkEEcLElMZOF1FwEK0IDjlmvvwHNMQPfnkExZqgXp89tln5modR4ehg7+qgCDt1CnOLowyqQdHnlnl3eukiiDAdT2xrd588w07YYRjN3x1mEbrmYUyffp007Js2rzZ/HrgVZmJty6gvpxsg3SiCWLVzfF/7GUcjQPr7voPP273Hvsw+LW5oYpqsR3IcXkM+Bkj9Gmc3wULhnsbFxB+XD8Q/HPx4g9smxa3Da+++qp5Ep/36KPm0ZltXMYMBxFwNkjZdUFAborkGuRG80Jrw+kyCybbiK/FyY3DUQ3Kc4Xajsv6HMfIfWIm4UEU77v40sFl/MhRo247EqswB0KIEOBMcrYNU+F7jozv2L7dPB1XJuj5DBKAoz4ST502xTQ3PVJ6mK8d/Oz07NnL3LUvXrzYfuKwrTqSQj3ZujHvpVGB5gYCFa7yagvSQKrw2/HWW28Z+cMQFxuSOXNn27bOqJEj5ZFHHzHNFqtYjj7v2rnb/H3cK6ECAbm5oQKIk2ilwVZSQoLF9GowLcg3CrSBXvfUxDVvv4DgBD/tdQb/8NXXUFFzUPNS6oLydam8bqHmhnhW/M6xdsYEvm/upY9aSIULGbY9y7g4duy4aXm/9fLLMmPGTDvuzd+zZ8+RHsk9zCM0hxHQzlb0dl5bhOSGuYDtWrwVd028M6BpY8DJjcNRFcJxGPnZKjJaAmO/KlD+Kx3I9zSYNY/KymCiy9aVGCst7FbwkEqAPiM2oEJRTJAc3c7QSQ6DWnK0iTKSNSvDnJwcW2HdMYHqrwhttCHYr3APpCZ0xY7hIZMjoQ5wmEddsL/B/82J4ydNtV0VaA8mOVaoOCkDOBe8fPmK3KgFuQmJBVtRBBvEj82+fftl8OAh5gPo4YfnlvneQfVOkNPJkyZLrJIqtqWWLl1iKvrqtuTuBrakruo7KYocs4/SsnBUh++c+x7aF+/s+uX6Vw1weyOnQqeuBGV9uhZFlK9bjbZKyt0SjE29alK9snFV/c04OoTwE68qun0HIwV5V67Y2LhjbNYAbGelpaaZ1+HX/+118y4+duxYefmll8zXTXxCZzsUkJzc3YzWOXyAXd42XeisXLnKIojX1IauMhDSAbu2kCTxXJzKwmtxY8LJjcNRFXRSKT+xlP1ezVyDn4rAWJW0gT+Xu01OfB1eTH92v/2t/5Th9mkc9uT5Do0H7tQrQ+jx9Nz586aZsRNNmsbqE3kA6snfRsAi8y5/4wIeG5pNmzeZqhpNC1tQTFLc2+pWQFBwjf/oo49YgL/r16/J6i+/NKKB4zwmuEqh5TCxEm6CfAGq8MzMjBpPqNSR/C+kp8uKFSvk7bffsW0zvEG//PJLQRBOnUxD8kSdmVynz5ghw4YNt20kJnJU8axuIUm1hbWTkkLIJnZLNGn7du1NOLFSLSOc9yGsj5UG/eu2PC/7pUowXrBdCvpn0De5qgP3mtM++y8ouzoE9wQXp3j0H/vdvqgK3G9jmqfQ5+DvSDnVlcf2jo0x/d3qx7NF8qkIxnS0jgdiaRETDlsZtpSIyXS3rd4QlMWcwPhjofH++xG7vHHjLDDs1KlTbfvaxrD+R38d0H+A2ethVH7lymUd8xstoCwBSe9le4o6MO+QnnmEk4NstyUldXfNjcPRVLB9bh2QrJbQWuBHBqNZJhe+w0aFOEr85PQQQpHJChUsaRjQBGdkkkD4kldGZqZkZWdZGoQgAjwsB0NdNCtZWZly6VKu5ldiMazIC4HPdgtpQuHbKS7OSAYTBZMfsZOwhwlO/9wmUnzHZ2dOn9H65tiEmdi1mwrcIOgfWhJOFXE0mgmHiwmJZ0s/ny579uyRxR8slt+//nvZvXuXlY2hY3kNkU2Omo4toPHjx5nfDI6nL1nyua3+WC1mZ+fYc5ffciId9gWJ3YLo45A1CMapU6d1pXd3FTzfsyLEl8+SJUvNyR0hFWiXl3Ad/9h8O/ljJ5bKgZNAo0eNshhYPXv2tFhTy5d/ITt2bLe2uFu5lYFn45mJGUTbQGziVXhA3u430P/oQxw3Nm2hti8ncXAWR/+lP97Rp3V80CfC8UZb2njTccXnjBP+hjyShs/5jPeEjRb52XhjPDLetAyMWMmH4K78JN9wvJWl0XEGaeA7S3O9yD5DO0kaniEcS6Sxsaj5URfGDflxsUWcncVn+jz5BXYv6cK5gDYguC358jyEVSDSOfWlXahLOK5DoBXFrxHhWtBi4l38PFqUCvdVBkgFXq3379svH3/4kdnYUP6UKZPlpZdeNgID4aefhgQDDSx2exMmTpCH9Ptuid0s3hQHBDhBxXPVdlxA4Hgf5y+ka1tetTkCT+Fdu3ZpdDcDbf5SEfnd4bh/oWOYlcbJk6fMxgTvvmy1cHyYyQiBjiaAiS0rM8smJwQ6WzIchd65a6fs2b1XNm/eYjGYsnVS05FuEx7CnQn1kk6EpEHwchxz9649Nhlt3LjR0mRkBkauUVrOzZs3yiZ7jPGY+CzWjJKBfBUOfHdJJ30mKnNTHxMbEK1inax1Ej1+/IRFVY5uH21bNXzOcVDyT4hPMAFz+vQpyxtiALnYuHGDbNq0WVavWm0akT3aBkS4RmhDYiBJ4QTFSpQ8DmsZ1P/wkSM6GeZLnl7ZOdlGqtgOwzsykzinJcqv3JiIqePxY8es3akDpzjClWVlMIFTVCynz5yWL774QhYtes8ipBM1GsPhR+fNs7hRdiqDPMplw9+Uz3eQONLxHjnhhF0ORIswCjUFdSGPZcu+UHK1z/Kf9MAki8OFTRLv6X4CJOH4sePWZ7C9oi/hBwnhzqugT9M/Ee6QarR2jA00C/v27ZV9e/dr39toNlMXcy9anghiyAJ9nfHWrm07Gwfn0s4ZAaeszZs3yw4tJ1eJE30bbQyEyojFxRyJ7xxv4wZbK8b03r2k2STbt22XTF10cC99ApJF3djK7dKlq3Ud0uzevVt2KcGnHOpG36belAOhgXwxP1CvcC4gDbZxpEHzyRigbvQZnocFEB6oWawwH9B3uDj1hQHugf0HLCQCfZ34WngUpr2sT1eCgIgVmb3MB7oo+XzJEmszbGteeeVVJfQzjdgwdivmQT8NY8+xHYXWh7SapQzWsrt0SahVX+Y5T53UcbF0qRzTBQ6BQ+fMmWMew9keruoZGgJObhwOBcKaPW5IxldffWVHidE+oOkgum3HmBidAJUg6KSJQS+TVEpKTzMCJHgkwpYgjRzVNuKjkxHClCCREBtOFTGpozWI1TQY8kIg9u7dY2kgKtF6P7YokIEsXRWycuN3VMessAgXwE+MVonbkpd3RSfgdMu3QEkQmhLKOXT4sBkIMmnjyG+YCn/yztMVFZqZQN2dY5PWxIkTzUEf8Ys41r1v7z4jDzw3BrJMiORDoEAICHWw9tLZD5JAiADaq1AJHPYsTPIIOiKbU39iXDHpY3jMCalwIueCHEAKWXEPGDBQJkyYaDZEVU2mYZmEmIBUnNRnHDp0iAXBhNikKKmoanVIeXyHkGAC5h3m5eeZoIK4Yb9E3Ws6+ZLHCSVnrHKpRyedxJ944nGzaUhQgXC/bUvlF+RrX9gkq1atMt9Lx5S0Mg7YyoyJpU/fNKJDn4DsMw5oa+ykOL0WBmHN03w6dojRMRejK//rRkARuow3+ik2TQcPHDDtIGP1hI7RfH2PeN/FpsPIgxKQ06fPmPYEPz7UAed1xNLaunWbHFUijoapQ4f2+s47BBrWjEyz32IxMGTIYKsbZIFxDalhjEJI2HKEkNDHIQE8D9ob7FdYKBw8eMjcDezcsdOc5eUqUaNf2biIEDU8fLNowVVBoj5T6DyPLRwtWBdJu2Xf/n1KWEqkf99+NoYZ91WNC/oihwMIicKcgiaKYLqciiLwLQFwqyMolN+unc5VhVeViOl8ou+NccFWFUb45RcldwOLP9oaQ2bIIeOek5WEcAm3oRsLrXTCqL0+1uFoYWAY5OcX6KppfxlBMZuBMujvOr7ZVuGUT0qPFCMGrIgQcjt27jSSwcqLe3UdFqQBmo6Jq1u3bhZksrtOhGhsbALT1VkYTI+8ScOIZDLhRBRhBKZMnSLdk7qbwCSeExPjKSUGrF6ZKFHxM3EwiTNZI8QTEuJt5UW4BAxds5SUsWplVc0kS3RzDIQxNOR+NDZssaAxYoKlEkG9SqVzp862bz9q9KiyCYr6ombfq3VAKJEndWbrywS7ZXHLJvXBgwZrOWNskuU7PucZCBvx1//zr41Mscr86U9/aobAaG8qA5M4woEV+NGjx8wgerAKL+oWbkXdbRJmtY1AgiBhi0Q0dQQB7cCps5pO4gjopUuWyv/63//LNH084//7F39hx2sbe4XaHIAWb9fOXSbYIAu8Y0OkLwW/Bj57knskywMTJ1lQTPrcESUbEE00O0G6oO34neS81x463uh/vXv1MuJEX4ZssGVMHyXvoJRbOvKC/peQ0MVO9bEFekrLIQ2EJxjXjFPSBOWhNaGvDtExMXXKFBvjLG4gKWhmqEtQH0ZpUBZ143lwtshcAGEjXtOe3XusPSAI4fNYOZH0pCGiOO4J6Lch8eBe0v3jP/6T/MNvfmMaH+750z/9U3lo9kNGqioDCyAWNgQ/RRvbSvOH9KNJhBAGcb2CNq0KbAkfPXbcFl1onWO0rHHjx9nYwGbmbukBz8t2Picn//f/+T9yTscZGhvGBdtjtG9jwsmNwxEBKmn2iRHUCFIjG1WMaQgBWhbsK7g/sCthko3cUA7hEEM1jxaIyZq9fRMCTLSVpgk+xjcEpIU0IZhEWNWxZRSWDVmAjJA/WgRO7EBE0JowMUGAONnD8/Fs1IXvuR8wqSL4KwOTMSSgvN0NzxS2F88RkRF3gHu4H8NFykJghJMkpA61/d/97d/JipUrlCR2l2+/+m35oz/6Q1stVjaZkl/wHLwj6nrLVpVM+jxPDebfIA8VBjwvq0zKYdKlflVpfSqCPNDgvfnGm/Lb3/7WtvtmqxD9f/7LfzGSRJvfb6BPou2jP/J7pWNH+whCnr4c+nNhu5T+Y+OtshdIv1KQhv5H23I/Wp0gTfD9HYiUA2lAs8p7pV6MOd59VeOa8ulPZjiv/5GmUMdY1XULqBH5h9vNVs7Va1V7Fo48j80fSu5IE+ZNv2Jco0H9m1/9jW33sgj5kz/5E/nOa6+Z3Upl9bjdp7FLKrZ76NPUiTautO4VAEG8fr3YxrO1kaZhzDOPVKf1KQ+eHeL523/6rbzzzjtWr4ULn5H/9J//3DRo4dzRWHBy43B8w8HkixGxeclt3UYnzoj2pBmDOrOFtujdRRb0k22CefPmyZ//+Z8bQQh94DRH0NZoq/7mb/9WPv3kEyNGf/AHf2jEjJV4c297R/MF4wLbpV//+teyaNEiW5B8/3vfl5/+8U9l4MABdyxymhvQdm/auEn+7//9/2TDhvVGaH74wx/KK6++YtqtmpCs+oSPQofjGw5WVqxosTlo167tN0K4UkdOZ6DOHz58hGmdMGZkK4AVdnNdc1EvVvOEcmCVymq1Z69e8sADge2S2U04HPcIGxdJ3SwILlvSEGmMi+lrpiFtpmBcoDliyzctLdVOe/Xt108XKuMaMGZZ9fCR6HC0BOjc0QTzxz3DVOcdopXYDFdi8ICd2EhPT7eTJpxyudPeqfmASZwjwNhVnD93zuwRJk6YaKdaeB6Hoy5gXHDyEXIzbNgwIzt4Fz544KAdzWbLrzkCjRNG+ge0ntg1de3SVYYPGy69ekfcMjTBcHZy43A4mgRonFiljh83Tvr27WN2MDt37rIIxez9NzftDfXhRAkGsNu2bbX6Dho4yHyE4A3ZVqffIILpaH6gj7Vt185OJ44fP95OYUEW8Kqddi7NHFA2N1BnbP44rMC4wHZvwoTxMm3aVOmS0CVyCixycyPCyY3D4WgSQAZY1Y0eO9p8YeBf5MSJ4xbjBvfxJcW19xzckMAAme0ojtyyTcDpt9lzZsuYsWPtKHJTqN4dLQv0IU5u4U4Aj9qMC1wo4IEbH1qhr6rmBMgM28l4Nj537rz06dNX5s+fb+QMo+mmIvxObhwOR5MBtTtHaDmyO27cWDs9s3XbNju2m19wb56DGwJsB2D0vHvXLos+zgk1jqDPnj1bepU7zutw1BlKBjjtxLbUk08+aU78IDWbNm60KP51DWxZn4Bo4Xmak494M8f2D6eBsx580Jx+NuW4cHLjcDiaDJAXJnImcFZ7/fsPsNAKOBXEFTyOE5sa1JHjvceOHrPo48TB4iTIbF1V4x0ZWxvX2jjqE/Qn7LmIB8UpwqRuSeZUcN3adWZ4X5XbhsZEQPjzzDP7Wq0XzgzHjBktjz/+mJ3satc+cEPRVHAPxQ6Ho8kQTn7408ALK4bEp06eMgdgbPWg1WGSb6oVIMQGQUK4DLwRQ7rYjnrxxZeUjM2THj2CUAtObhz1CfpTawumGS2dO8fbqTyci2K0y2KAk0g4QWyqk5Eh4cejOQE6CTMxePAgefbZZ+Wh2bOtzjghbUo4uXE4HE2KYCJvbUdGWaHCEwjNQEDNuNg4Mzrmu6aYyCFbREhfvnyFrFix0pyvLXxmoSx48kkz+sTJohMbR0OBvoUjws5K/AsLCoxkc5owSQk23tFxtIcH4sYG9mdnz5w1P09frlljfmyee+45077igbo5bNM6uXE4HE0OJnEmxNi4WNOMEFsIjQlkAjf6eGptbCJhWpuiYjlx4oTFAKN+s2c/JI89/pj005UzandgHm8djgYA/Z0x0LlzJztejdbmhhILvCgTkoVQJVFtouiEjQbGBXY/R48cta0yAus+/vjj8vDDD5t3cerbHAi/eyh2OBzNBiGhwICSIJ9EX+Y4LEetcY3fqDxCZ8aSGzckIyPDfNpQOME5iQ0WhrVwOBoDjAvCW6DNJE4cMeQwZCdeW2N7LQ7HKEFx0y+kW/lsHxPDi9+by7hwcuNwOJoXdEYiQCixq4h5g8akTes2ja9+j8yMeFst1fqgobH4WAQibFSW5XAEpIIxwQkleh/jgojeTUEmyteFo+uMC9s2Zsw0k6Hh5MbhcDQ7MC25ZsThuBM+LmoOJzcOh8PhcDhaFNzPjcPhcDgcjhYFJzcOh8PhcDhaFJzcOBwOh8PhaFFwcuNwOBwOh6NFwcmNw+FwOByOFgUnNw6Hw+FwOFoUnNw4HA6Hw+FoUXBy43A4HA6Ho0XByY3D4XA4HI4WBSc3DofD4XA4WhSc3DgcDofD4WhRcHLjcDgcDoejRcHJjcPhcDgcjhYFJzcOh8PhcDhaFJzcOBwOh8PhaFFwcuNwOBwOh6NFwcmNw+FwOByOFgUnNw6Hw+FwOFoUnNw4HA6Hw+FoUXBy43A4HA6Ho0XByY3D4XA4HI4WBSc3DofD4XA4WhSc3DgcDofD4WhRcHLjcDgcDoejRcHJjcPhcDgcjhYFJzcOh8PhcDhaFJzcOBwOh8PhaFFwcuNwOBwOh6NFwcmNw+FwOByOFgUnNw6Hw+FwOFoUnNw4HA6Hw+FoUXBy43A4HA6Ho0XByY3D4XA4HI4WBSc3DofD4XA4WhSc3DgcDofD4WhRcHLjcDgcDoejRcHJjcPhcDgcjhYFJzcOh8PhcDhaFJzcOBwOh8PhaFFwcuNwOBwOh6MFQeT/Bx5J0n1kIW3LAAAAAElFTkSuQmCC)"
      ],
      "metadata": {
        "id": "PnOF_TVvnAWB"
      }
    },
    {
      "cell_type": "code",
      "source": [
        "# bringing the variables in the range of 0 to 1\n",
        "for i in dataset.columns[1:]:\n",
        "  dataset[i] = (dataset[i] - dataset[i].min()) / (dataset[i].max() - dataset[i].min()) "
      ],
      "metadata": {
        "id": "aLTMkqHanBlX"
      },
      "execution_count": null,
      "outputs": []
    },
    {
      "cell_type": "code",
      "source": [
        "dataset.head()"
      ],
      "metadata": {
        "colab": {
          "base_uri": "https://localhost:8080/",
          "height": 270
        },
        "id": "ya69pT7tn5p7",
        "outputId": "a726d975-8d20-4d96-f2e2-fbce4d40a37f"
      },
      "execution_count": null,
      "outputs": [
        {
          "output_type": "execute_result",
          "data": {
            "text/html": [
              "\n",
              "  <div id=\"df-207c3c41-06ea-4955-8a29-e6f13b82c8ec\">\n",
              "    <div class=\"colab-df-container\">\n",
              "      <div>\n",
              "<style scoped>\n",
              "    .dataframe tbody tr th:only-of-type {\n",
              "        vertical-align: middle;\n",
              "    }\n",
              "\n",
              "    .dataframe tbody tr th {\n",
              "        vertical-align: top;\n",
              "    }\n",
              "\n",
              "    .dataframe thead th {\n",
              "        text-align: right;\n",
              "    }\n",
              "</style>\n",
              "<table border=\"1\" class=\"dataframe\">\n",
              "  <thead>\n",
              "    <tr style=\"text-align: right;\">\n",
              "      <th></th>\n",
              "      <th>Loan_ID</th>\n",
              "      <th>Gender</th>\n",
              "      <th>Married</th>\n",
              "      <th>Dependents</th>\n",
              "      <th>Education</th>\n",
              "      <th>Self_Employed</th>\n",
              "      <th>ApplicantIncome</th>\n",
              "      <th>CoapplicantIncome</th>\n",
              "      <th>LoanAmount</th>\n",
              "      <th>Loan_Amount_Term</th>\n",
              "      <th>Credit_History</th>\n",
              "      <th>Property_Area</th>\n",
              "      <th>Loan_Status</th>\n",
              "    </tr>\n",
              "  </thead>\n",
              "  <tbody>\n",
              "    <tr>\n",
              "      <th>0</th>\n",
              "      <td>LP001002</td>\n",
              "      <td>0.0</td>\n",
              "      <td>0.0</td>\n",
              "      <td>0.000000</td>\n",
              "      <td>1.0</td>\n",
              "      <td>0.0</td>\n",
              "      <td>0.070489</td>\n",
              "      <td>0.000000</td>\n",
              "      <td>0.198860</td>\n",
              "      <td>0.74359</td>\n",
              "      <td>1.0</td>\n",
              "      <td>1.0</td>\n",
              "      <td>1.0</td>\n",
              "    </tr>\n",
              "    <tr>\n",
              "      <th>1</th>\n",
              "      <td>LP001003</td>\n",
              "      <td>0.0</td>\n",
              "      <td>1.0</td>\n",
              "      <td>0.333333</td>\n",
              "      <td>1.0</td>\n",
              "      <td>0.0</td>\n",
              "      <td>0.054830</td>\n",
              "      <td>0.036192</td>\n",
              "      <td>0.172214</td>\n",
              "      <td>0.74359</td>\n",
              "      <td>1.0</td>\n",
              "      <td>0.0</td>\n",
              "      <td>0.0</td>\n",
              "    </tr>\n",
              "    <tr>\n",
              "      <th>2</th>\n",
              "      <td>LP001005</td>\n",
              "      <td>0.0</td>\n",
              "      <td>1.0</td>\n",
              "      <td>0.000000</td>\n",
              "      <td>1.0</td>\n",
              "      <td>1.0</td>\n",
              "      <td>0.035250</td>\n",
              "      <td>0.000000</td>\n",
              "      <td>0.082489</td>\n",
              "      <td>0.74359</td>\n",
              "      <td>1.0</td>\n",
              "      <td>1.0</td>\n",
              "      <td>1.0</td>\n",
              "    </tr>\n",
              "    <tr>\n",
              "      <th>3</th>\n",
              "      <td>LP001006</td>\n",
              "      <td>0.0</td>\n",
              "      <td>1.0</td>\n",
              "      <td>0.000000</td>\n",
              "      <td>0.0</td>\n",
              "      <td>0.0</td>\n",
              "      <td>0.030093</td>\n",
              "      <td>0.056592</td>\n",
              "      <td>0.160637</td>\n",
              "      <td>0.74359</td>\n",
              "      <td>1.0</td>\n",
              "      <td>1.0</td>\n",
              "      <td>1.0</td>\n",
              "    </tr>\n",
              "    <tr>\n",
              "      <th>4</th>\n",
              "      <td>LP001008</td>\n",
              "      <td>0.0</td>\n",
              "      <td>0.0</td>\n",
              "      <td>0.000000</td>\n",
              "      <td>1.0</td>\n",
              "      <td>0.0</td>\n",
              "      <td>0.072356</td>\n",
              "      <td>0.000000</td>\n",
              "      <td>0.191027</td>\n",
              "      <td>0.74359</td>\n",
              "      <td>1.0</td>\n",
              "      <td>1.0</td>\n",
              "      <td>1.0</td>\n",
              "    </tr>\n",
              "  </tbody>\n",
              "</table>\n",
              "</div>\n",
              "      <button class=\"colab-df-convert\" onclick=\"convertToInteractive('df-207c3c41-06ea-4955-8a29-e6f13b82c8ec')\"\n",
              "              title=\"Convert this dataframe to an interactive table.\"\n",
              "              style=\"display:none;\">\n",
              "        \n",
              "  <svg xmlns=\"http://www.w3.org/2000/svg\" height=\"24px\"viewBox=\"0 0 24 24\"\n",
              "       width=\"24px\">\n",
              "    <path d=\"M0 0h24v24H0V0z\" fill=\"none\"/>\n",
              "    <path d=\"M18.56 5.44l.94 2.06.94-2.06 2.06-.94-2.06-.94-.94-2.06-.94 2.06-2.06.94zm-11 1L8.5 8.5l.94-2.06 2.06-.94-2.06-.94L8.5 2.5l-.94 2.06-2.06.94zm10 10l.94 2.06.94-2.06 2.06-.94-2.06-.94-.94-2.06-.94 2.06-2.06.94z\"/><path d=\"M17.41 7.96l-1.37-1.37c-.4-.4-.92-.59-1.43-.59-.52 0-1.04.2-1.43.59L10.3 9.45l-7.72 7.72c-.78.78-.78 2.05 0 2.83L4 21.41c.39.39.9.59 1.41.59.51 0 1.02-.2 1.41-.59l7.78-7.78 2.81-2.81c.8-.78.8-2.07 0-2.86zM5.41 20L4 18.59l7.72-7.72 1.47 1.35L5.41 20z\"/>\n",
              "  </svg>\n",
              "      </button>\n",
              "      \n",
              "  <style>\n",
              "    .colab-df-container {\n",
              "      display:flex;\n",
              "      flex-wrap:wrap;\n",
              "      gap: 12px;\n",
              "    }\n",
              "\n",
              "    .colab-df-convert {\n",
              "      background-color: #E8F0FE;\n",
              "      border: none;\n",
              "      border-radius: 50%;\n",
              "      cursor: pointer;\n",
              "      display: none;\n",
              "      fill: #1967D2;\n",
              "      height: 32px;\n",
              "      padding: 0 0 0 0;\n",
              "      width: 32px;\n",
              "    }\n",
              "\n",
              "    .colab-df-convert:hover {\n",
              "      background-color: #E2EBFA;\n",
              "      box-shadow: 0px 1px 2px rgba(60, 64, 67, 0.3), 0px 1px 3px 1px rgba(60, 64, 67, 0.15);\n",
              "      fill: #174EA6;\n",
              "    }\n",
              "\n",
              "    [theme=dark] .colab-df-convert {\n",
              "      background-color: #3B4455;\n",
              "      fill: #D2E3FC;\n",
              "    }\n",
              "\n",
              "    [theme=dark] .colab-df-convert:hover {\n",
              "      background-color: #434B5C;\n",
              "      box-shadow: 0px 1px 3px 1px rgba(0, 0, 0, 0.15);\n",
              "      filter: drop-shadow(0px 1px 2px rgba(0, 0, 0, 0.3));\n",
              "      fill: #FFFFFF;\n",
              "    }\n",
              "  </style>\n",
              "\n",
              "      <script>\n",
              "        const buttonEl =\n",
              "          document.querySelector('#df-207c3c41-06ea-4955-8a29-e6f13b82c8ec button.colab-df-convert');\n",
              "        buttonEl.style.display =\n",
              "          google.colab.kernel.accessAllowed ? 'block' : 'none';\n",
              "\n",
              "        async function convertToInteractive(key) {\n",
              "          const element = document.querySelector('#df-207c3c41-06ea-4955-8a29-e6f13b82c8ec');\n",
              "          const dataTable =\n",
              "            await google.colab.kernel.invokeFunction('convertToInteractive',\n",
              "                                                     [key], {});\n",
              "          if (!dataTable) return;\n",
              "\n",
              "          const docLinkHtml = 'Like what you see? Visit the ' +\n",
              "            '<a target=\"_blank\" href=https://colab.research.google.com/notebooks/data_table.ipynb>data table notebook</a>'\n",
              "            + ' to learn more about interactive tables.';\n",
              "          element.innerHTML = '';\n",
              "          dataTable['output_type'] = 'display_data';\n",
              "          await google.colab.output.renderOutput(dataTable, element);\n",
              "          const docLink = document.createElement('div');\n",
              "          docLink.innerHTML = docLinkHtml;\n",
              "          element.appendChild(docLink);\n",
              "        }\n",
              "      </script>\n",
              "    </div>\n",
              "  </div>\n",
              "  "
            ],
            "text/plain": [
              "    Loan_ID  Gender  Married  ...  Credit_History  Property_Area  Loan_Status\n",
              "0  LP001002     0.0      0.0  ...             1.0            1.0          1.0\n",
              "1  LP001003     0.0      1.0  ...             1.0            0.0          0.0\n",
              "2  LP001005     0.0      1.0  ...             1.0            1.0          1.0\n",
              "3  LP001006     0.0      1.0  ...             1.0            1.0          1.0\n",
              "4  LP001008     0.0      0.0  ...             1.0            1.0          1.0\n",
              "\n",
              "[5 rows x 13 columns]"
            ]
          },
          "metadata": {},
          "execution_count": 15
        }
      ]
    },
    {
      "cell_type": "code",
      "source": [
        "dataset.to_csv('normalized_loan.csv', index=False)"
      ],
      "metadata": {
        "id": "0QUKFL3xn7fD"
      },
      "execution_count": null,
      "outputs": []
    },
    {
      "cell_type": "code",
      "source": [
        "# reading normalized data\n",
        "data = pd.read_csv('normalized_loan.csv')"
      ],
      "metadata": {
        "id": "Sd3IgfvUvvRe"
      },
      "execution_count": null,
      "outputs": []
    },
    {
      "cell_type": "code",
      "source": [
        "# removing Loan_ID\n",
        "data = data.drop('Loan_ID', axis=1)\n",
        "data.shape"
      ],
      "metadata": {
        "colab": {
          "base_uri": "https://localhost:8080/"
        },
        "id": "u-o3fczhy63I",
        "outputId": "a371211c-814b-4427-bf69-b36d5161565a"
      },
      "execution_count": null,
      "outputs": [
        {
          "output_type": "execute_result",
          "data": {
            "text/plain": [
              "(614, 12)"
            ]
          },
          "metadata": {},
          "execution_count": 18
        }
      ]
    },
    {
      "cell_type": "code",
      "source": [
        "# separating the independent and dependent variables\n",
        "# storing all the independent variables or features as X\n",
        "X = data.drop('Loan_Status', axis=1)\n",
        "# storing all the dependent variables or target as y\n",
        "y = data['Loan_Status']"
      ],
      "metadata": {
        "id": "G37IMLnj0Gsp"
      },
      "execution_count": null,
      "outputs": []
    },
    {
      "cell_type": "code",
      "source": [
        "# shape of independent and dependent variables\n",
        "X.shape, y.shape"
      ],
      "metadata": {
        "colab": {
          "base_uri": "https://localhost:8080/"
        },
        "id": "ANopHCms1bpf",
        "outputId": "827bd1a8-ddc5-4ab7-8e62-abafb6ac175d"
      },
      "execution_count": null,
      "outputs": [
        {
          "output_type": "execute_result",
          "data": {
            "text/plain": [
              "((614, 11), (614,))"
            ]
          },
          "metadata": {},
          "execution_count": 20
        }
      ]
    },
    {
      "cell_type": "markdown",
      "source": [
        "## 3.Creating training and validation set"
      ],
      "metadata": {
        "id": "BhwhqDYN1soz"
      }
    },
    {
      "cell_type": "code",
      "source": [
        "# stratify will make sure that distribution of calsses in train and validation set is similar\n",
        "# random state to regenerate the same train and validation set\n",
        "# test size 0.2 will keep 20% data in validation and remaining 80% in train set\n",
        "X_train,X_test,y_train,y_test = train_test_split(X,y,stratify=data['Loan_Status'],random_state=10,test_size=0.2)\n",
        "\n",
        "# shape of training and validation set\n",
        "(X_train.shape, y_train.shape), (X_test.shape, y_test.shape)"
      ],
      "metadata": {
        "colab": {
          "base_uri": "https://localhost:8080/"
        },
        "id": "23PRTGSq10A8",
        "outputId": "dd027277-3188-40f8-9dc5-873ad4c53e0f"
      },
      "execution_count": null,
      "outputs": [
        {
          "output_type": "execute_result",
          "data": {
            "text/plain": [
              "(((491, 11), (491,)), ((123, 11), (123,)))"
            ]
          },
          "metadata": {},
          "execution_count": 21
        }
      ]
    },
    {
      "cell_type": "markdown",
      "source": [
        "## 4.Defining the architecture of the model"
      ],
      "metadata": {
        "id": "aV8fkf3M5Lxl"
      }
    },
    {
      "cell_type": "code",
      "source": [
        "# importing keras for model building and model training\n",
        "import keras\n",
        "# importing tenserflow since keras uses it in backend\n",
        "import tensorflow as tf"
      ],
      "metadata": {
        "id": "RdC7TsdW5RTy"
      },
      "execution_count": null,
      "outputs": []
    },
    {
      "cell_type": "code",
      "source": [
        "# importing sequential model from keras\n",
        "from keras.models import Sequential \n",
        "# importing different layers from keras\n",
        "from keras.layers import InputLayer, Dense"
      ],
      "metadata": {
        "id": "b7WzdcZG6UAr"
      },
      "execution_count": null,
      "outputs": []
    },
    {
      "cell_type": "code",
      "source": [
        "# since loan prediction is binary classification problem we will have single neuron in output layer\n",
        "# hidden layers and hidden neurons are hyperparameters so we can choose them on our own"
      ],
      "metadata": {
        "id": "5HVp922iwOWN"
      },
      "execution_count": null,
      "outputs": []
    },
    {
      "cell_type": "code",
      "source": [
        "# defining input neurons\n",
        "input_neurons = X_train.shape[1]\n",
        "# defining output neurons\n",
        "output_neurons = 1\n",
        "# define hidden layers and neuron in each layer\n",
        "num_of_hidden_layers = 2\n",
        "neuron_hidden_layer_1 = 10\n",
        "neuron_hidden_layer_2 = 5"
      ],
      "metadata": {
        "id": "cKgHHzLDuSuH"
      },
      "execution_count": null,
      "outputs": []
    },
    {
      "cell_type": "code",
      "source": [
        "# activation function of different layers\n",
        "# for now relu is choosen as an activation function for hidden layers\n",
        "# since it is a binary classification problem, sigmoid activation function is choosen for final layer"
      ],
      "metadata": {
        "id": "f2Khb4Sxwmbu"
      },
      "execution_count": null,
      "outputs": []
    },
    {
      "cell_type": "code",
      "source": [
        "from logging import INFO\n",
        "# defining the architecture of the model\n",
        "model = Sequential()\n",
        "model.add(InputLayer(input_shape=(input_neurons,)))\n",
        "model.add(Dense(units=neuron_hidden_layer_1, activation='relu'))\n",
        "model.add(Dense(units=neuron_hidden_layer_2, activation='relu'))\n",
        "model.add(Dense(units=output_neurons, activation='sigmoid'))"
      ],
      "metadata": {
        "id": "U--MNdHgxZTR"
      },
      "execution_count": null,
      "outputs": []
    },
    {
      "cell_type": "code",
      "source": [
        "# summary of the model\n",
        "model.summary()"
      ],
      "metadata": {
        "colab": {
          "base_uri": "https://localhost:8080/"
        },
        "id": "nU0brJVcyjpl",
        "outputId": "7de07cbf-3775-4de3-b1ba-6cab45211d4a"
      },
      "execution_count": null,
      "outputs": [
        {
          "output_type": "stream",
          "name": "stdout",
          "text": [
            "Model: \"sequential\"\n",
            "_________________________________________________________________\n",
            " Layer (type)                Output Shape              Param #   \n",
            "=================================================================\n",
            " dense (Dense)               (None, 10)                120       \n",
            "                                                                 \n",
            " dense_1 (Dense)             (None, 5)                 55        \n",
            "                                                                 \n",
            " dense_2 (Dense)             (None, 1)                 6         \n",
            "                                                                 \n",
            "=================================================================\n",
            "Total params: 181\n",
            "Trainable params: 181\n",
            "Non-trainable params: 0\n",
            "_________________________________________________________________\n"
          ]
        }
      ]
    },
    {
      "cell_type": "markdown",
      "source": [
        "## 5.Compiling the model(defining loss function, optimizer)"
      ],
      "metadata": {
        "id": "_E_lc6Lwzaq_"
      }
    },
    {
      "cell_type": "code",
      "source": [
        "# loss as binary_crossentropy, since we have binary classification problem\n",
        "# definig the optimizer as Adam\n",
        "# evaluation metric as accuracy\n",
        "model.compile(loss='binary_crossentropy',optimizer='Adam',metrics=['accuracy'])"
      ],
      "metadata": {
        "id": "0rMmH_crzlzH"
      },
      "execution_count": null,
      "outputs": []
    },
    {
      "cell_type": "markdown",
      "source": [
        "## 6.Training the model"
      ],
      "metadata": {
        "id": "mmkOviYF0wxg"
      }
    },
    {
      "cell_type": "code",
      "source": [
        "# storing the trained model in model_history variable\n",
        "# epochs means number of times model is going through a training set\n",
        "model_history = model.fit(X_train, y_train, validation_data=(X_test, y_test), epochs=50)"
      ],
      "metadata": {
        "colab": {
          "base_uri": "https://localhost:8080/"
        },
        "id": "-Uzd3mrJ0WL9",
        "outputId": "d4f15c3a-437a-4912-8ada-b4b8bac8c7f6"
      },
      "execution_count": null,
      "outputs": [
        {
          "output_type": "stream",
          "name": "stdout",
          "text": [
            "Epoch 1/50\n",
            "16/16 [==============================] - 2s 25ms/step - loss: 0.7694 - accuracy: 0.2424 - val_loss: 0.7348 - val_accuracy: 0.2683\n",
            "Epoch 2/50\n",
            "16/16 [==============================] - 0s 4ms/step - loss: 0.7190 - accuracy: 0.3279 - val_loss: 0.6919 - val_accuracy: 0.5854\n",
            "Epoch 3/50\n",
            "16/16 [==============================] - 0s 3ms/step - loss: 0.6792 - accuracy: 0.6008 - val_loss: 0.6556 - val_accuracy: 0.6829\n",
            "Epoch 4/50\n",
            "16/16 [==============================] - 0s 3ms/step - loss: 0.6502 - accuracy: 0.6762 - val_loss: 0.6330 - val_accuracy: 0.6911\n",
            "Epoch 5/50\n",
            "16/16 [==============================] - 0s 4ms/step - loss: 0.6328 - accuracy: 0.6864 - val_loss: 0.6187 - val_accuracy: 0.6911\n",
            "Epoch 6/50\n",
            "16/16 [==============================] - 0s 4ms/step - loss: 0.6196 - accuracy: 0.6864 - val_loss: 0.6085 - val_accuracy: 0.6911\n",
            "Epoch 7/50\n",
            "16/16 [==============================] - 0s 3ms/step - loss: 0.6084 - accuracy: 0.6864 - val_loss: 0.5998 - val_accuracy: 0.6911\n",
            "Epoch 8/50\n",
            "16/16 [==============================] - 0s 3ms/step - loss: 0.6006 - accuracy: 0.6864 - val_loss: 0.5935 - val_accuracy: 0.6911\n",
            "Epoch 9/50\n",
            "16/16 [==============================] - 0s 5ms/step - loss: 0.5945 - accuracy: 0.6864 - val_loss: 0.5874 - val_accuracy: 0.6911\n",
            "Epoch 10/50\n",
            "16/16 [==============================] - 0s 4ms/step - loss: 0.5887 - accuracy: 0.6864 - val_loss: 0.5821 - val_accuracy: 0.6911\n",
            "Epoch 11/50\n",
            "16/16 [==============================] - 0s 4ms/step - loss: 0.5829 - accuracy: 0.6864 - val_loss: 0.5773 - val_accuracy: 0.6911\n",
            "Epoch 12/50\n",
            "16/16 [==============================] - 0s 4ms/step - loss: 0.5773 - accuracy: 0.6864 - val_loss: 0.5725 - val_accuracy: 0.6911\n",
            "Epoch 13/50\n",
            "16/16 [==============================] - 0s 4ms/step - loss: 0.5720 - accuracy: 0.6864 - val_loss: 0.5672 - val_accuracy: 0.6911\n",
            "Epoch 14/50\n",
            "16/16 [==============================] - 0s 3ms/step - loss: 0.5656 - accuracy: 0.6864 - val_loss: 0.5611 - val_accuracy: 0.6911\n",
            "Epoch 15/50\n",
            "16/16 [==============================] - 0s 4ms/step - loss: 0.5596 - accuracy: 0.6864 - val_loss: 0.5569 - val_accuracy: 0.6911\n",
            "Epoch 16/50\n",
            "16/16 [==============================] - 0s 5ms/step - loss: 0.5553 - accuracy: 0.6864 - val_loss: 0.5530 - val_accuracy: 0.6911\n",
            "Epoch 17/50\n",
            "16/16 [==============================] - 0s 4ms/step - loss: 0.5517 - accuracy: 0.6884 - val_loss: 0.5500 - val_accuracy: 0.6911\n",
            "Epoch 18/50\n",
            "16/16 [==============================] - 0s 4ms/step - loss: 0.5488 - accuracy: 0.6884 - val_loss: 0.5471 - val_accuracy: 0.6911\n",
            "Epoch 19/50\n",
            "16/16 [==============================] - 0s 3ms/step - loss: 0.5462 - accuracy: 0.6884 - val_loss: 0.5448 - val_accuracy: 0.6911\n",
            "Epoch 20/50\n",
            "16/16 [==============================] - 0s 4ms/step - loss: 0.5437 - accuracy: 0.6925 - val_loss: 0.5425 - val_accuracy: 0.6911\n",
            "Epoch 21/50\n",
            "16/16 [==============================] - 0s 4ms/step - loss: 0.5414 - accuracy: 0.6986 - val_loss: 0.5407 - val_accuracy: 0.6911\n",
            "Epoch 22/50\n",
            "16/16 [==============================] - 0s 4ms/step - loss: 0.5397 - accuracy: 0.7108 - val_loss: 0.5390 - val_accuracy: 0.6992\n",
            "Epoch 23/50\n",
            "16/16 [==============================] - 0s 4ms/step - loss: 0.5370 - accuracy: 0.7169 - val_loss: 0.5378 - val_accuracy: 0.7154\n",
            "Epoch 24/50\n",
            "16/16 [==============================] - 0s 3ms/step - loss: 0.5348 - accuracy: 0.7454 - val_loss: 0.5375 - val_accuracy: 0.7236\n",
            "Epoch 25/50\n",
            "16/16 [==============================] - 0s 4ms/step - loss: 0.5332 - accuracy: 0.7536 - val_loss: 0.5353 - val_accuracy: 0.7561\n",
            "Epoch 26/50\n",
            "16/16 [==============================] - 0s 5ms/step - loss: 0.5306 - accuracy: 0.7739 - val_loss: 0.5342 - val_accuracy: 0.7805\n",
            "Epoch 27/50\n",
            "16/16 [==============================] - 0s 4ms/step - loss: 0.5286 - accuracy: 0.7943 - val_loss: 0.5320 - val_accuracy: 0.7967\n",
            "Epoch 28/50\n",
            "16/16 [==============================] - 0s 4ms/step - loss: 0.5258 - accuracy: 0.7963 - val_loss: 0.5299 - val_accuracy: 0.7967\n",
            "Epoch 29/50\n",
            "16/16 [==============================] - 0s 3ms/step - loss: 0.5233 - accuracy: 0.8045 - val_loss: 0.5279 - val_accuracy: 0.8049\n",
            "Epoch 30/50\n",
            "16/16 [==============================] - 0s 4ms/step - loss: 0.5217 - accuracy: 0.8065 - val_loss: 0.5257 - val_accuracy: 0.8049\n",
            "Epoch 31/50\n",
            "16/16 [==============================] - 0s 4ms/step - loss: 0.5175 - accuracy: 0.8086 - val_loss: 0.5227 - val_accuracy: 0.8049\n",
            "Epoch 32/50\n",
            "16/16 [==============================] - 0s 4ms/step - loss: 0.5150 - accuracy: 0.8065 - val_loss: 0.5205 - val_accuracy: 0.8049\n",
            "Epoch 33/50\n",
            "16/16 [==============================] - 0s 5ms/step - loss: 0.5114 - accuracy: 0.8065 - val_loss: 0.5172 - val_accuracy: 0.8049\n",
            "Epoch 34/50\n",
            "16/16 [==============================] - 0s 5ms/step - loss: 0.5081 - accuracy: 0.8065 - val_loss: 0.5153 - val_accuracy: 0.8130\n",
            "Epoch 35/50\n",
            "16/16 [==============================] - 0s 4ms/step - loss: 0.5040 - accuracy: 0.8086 - val_loss: 0.5129 - val_accuracy: 0.8130\n",
            "Epoch 36/50\n",
            "16/16 [==============================] - 0s 3ms/step - loss: 0.5011 - accuracy: 0.8086 - val_loss: 0.5106 - val_accuracy: 0.8130\n",
            "Epoch 37/50\n",
            "16/16 [==============================] - 0s 4ms/step - loss: 0.4971 - accuracy: 0.8086 - val_loss: 0.5081 - val_accuracy: 0.8130\n",
            "Epoch 38/50\n",
            "16/16 [==============================] - 0s 5ms/step - loss: 0.4945 - accuracy: 0.8106 - val_loss: 0.5083 - val_accuracy: 0.8130\n",
            "Epoch 39/50\n",
            "16/16 [==============================] - 0s 4ms/step - loss: 0.4896 - accuracy: 0.8106 - val_loss: 0.5047 - val_accuracy: 0.8130\n",
            "Epoch 40/50\n",
            "16/16 [==============================] - 0s 3ms/step - loss: 0.4864 - accuracy: 0.8106 - val_loss: 0.5017 - val_accuracy: 0.8130\n",
            "Epoch 41/50\n",
            "16/16 [==============================] - 0s 3ms/step - loss: 0.4850 - accuracy: 0.8106 - val_loss: 0.5018 - val_accuracy: 0.8130\n",
            "Epoch 42/50\n",
            "16/16 [==============================] - 0s 4ms/step - loss: 0.4820 - accuracy: 0.8106 - val_loss: 0.4982 - val_accuracy: 0.8130\n",
            "Epoch 43/50\n",
            "16/16 [==============================] - 0s 3ms/step - loss: 0.4793 - accuracy: 0.8106 - val_loss: 0.4995 - val_accuracy: 0.8130\n",
            "Epoch 44/50\n",
            "16/16 [==============================] - 0s 3ms/step - loss: 0.4767 - accuracy: 0.8106 - val_loss: 0.4973 - val_accuracy: 0.8130\n",
            "Epoch 45/50\n",
            "16/16 [==============================] - 0s 4ms/step - loss: 0.4747 - accuracy: 0.8106 - val_loss: 0.4934 - val_accuracy: 0.8130\n",
            "Epoch 46/50\n",
            "16/16 [==============================] - 0s 3ms/step - loss: 0.4723 - accuracy: 0.8106 - val_loss: 0.4937 - val_accuracy: 0.8130\n",
            "Epoch 47/50\n",
            "16/16 [==============================] - 0s 4ms/step - loss: 0.4704 - accuracy: 0.8106 - val_loss: 0.4922 - val_accuracy: 0.8130\n",
            "Epoch 48/50\n",
            "16/16 [==============================] - 0s 4ms/step - loss: 0.4700 - accuracy: 0.8106 - val_loss: 0.4911 - val_accuracy: 0.8130\n",
            "Epoch 49/50\n",
            "16/16 [==============================] - 0s 5ms/step - loss: 0.4680 - accuracy: 0.8106 - val_loss: 0.4907 - val_accuracy: 0.8130\n",
            "Epoch 50/50\n",
            "16/16 [==============================] - 0s 5ms/step - loss: 0.4658 - accuracy: 0.8106 - val_loss: 0.4893 - val_accuracy: 0.8130\n"
          ]
        }
      ]
    },
    {
      "cell_type": "markdown",
      "source": [
        "## 7.Evaluating model performance on validation set"
      ],
      "metadata": {
        "id": "3pidmlhd2oW3"
      }
    },
    {
      "cell_type": "code",
      "source": [
        "# getting prediction for the validation set\n",
        "\n",
        "# for multi-class classification:\n",
        "# predict = model.predict(X_test)\n",
        "# prediction = np.argmax(predict, axis=1)\n",
        "\n",
        "# for binary-class classification:\n",
        "prediction = (model.predict(X_test) > 0.5).astype(\"int32\")\n",
        "\n",
        "# calculating the accuracy on validation set\n",
        "accuracy_score(y_test, prediction)"
      ],
      "metadata": {
        "colab": {
          "base_uri": "https://localhost:8080/"
        },
        "id": "kyquETGV2xW8",
        "outputId": "4330ba43-316d-4503-ece9-c506811a9ea7"
      },
      "execution_count": null,
      "outputs": [
        {
          "output_type": "execute_result",
          "data": {
            "text/plain": [
              "0.8130081300813008"
            ]
          },
          "metadata": {},
          "execution_count": 36
        }
      ]
    },
    {
      "cell_type": "markdown",
      "source": [
        "### Visualizing model prediction"
      ],
      "metadata": {
        "id": "PVd0VGdq8fMg"
      }
    },
    {
      "cell_type": "code",
      "source": [
        "# summarize history for loss\n",
        "plt.plot(model_history.history['loss'])\n",
        "plt.plot(model_history.history['val_loss'])\n",
        "plt.title('model loss')\n",
        "plt.ylabel('loss')\n",
        "plt.xlabel('epoch')\n",
        "plt.legend(['train', 'validation'], loc='upper right')\n",
        "plt.show()"
      ],
      "metadata": {
        "colab": {
          "base_uri": "https://localhost:8080/",
          "height": 295
        },
        "id": "p6nOZfeI8jr-",
        "outputId": "5cbcc622-d2ee-43ac-9918-2da3d3843a4c"
      },
      "execution_count": null,
      "outputs": [
        {
          "output_type": "display_data",
          "data": {
            "image/png": "[encoded data removed]",
            "text/plain": [
              "<Figure size 432x288 with 1 Axes>"
            ]
          },
          "metadata": {
            "needs_background": "light"
          }
        }
      ]
    },
    {
      "cell_type": "code",
      "source": [
        "# summarize history for accuracy\n",
        "plt.plot(model_history.history['accuracy'])\n",
        "plt.plot(model_history.history['val_accuracy'])\n",
        "plt.title('model accuracy')\n",
        "plt.ylabel('accuracy')\n",
        "plt.xlabel('epoch')\n",
        "plt.legend(['train', 'validation'], loc='lower right')\n",
        "plt.show()"
      ],
      "metadata": {
        "colab": {
          "base_uri": "https://localhost:8080/",
          "height": 295
        },
        "id": "zwLqS9W19SCn",
        "outputId": "409b7d89-c75c-418d-df45-17e472fa3b04"
      },
      "execution_count": null,
      "outputs": [
        {
          "output_type": "display_data",
          "data": {
            "image/png": "[encoded data removed]",
            "text/plain": [
              "<Figure size 432x288 with 1 Axes>"
            ]
          },
          "metadata": {
            "needs_background": "light"
          }
        }
      ]
    }
  ]
}
