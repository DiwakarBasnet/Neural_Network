{
  "nbformat": 4,
  "nbformat_minor": 0,
  "metadata": {
    "colab": {
      "name": "Sales_Prediction.ipynb",
      "provenance": [],
      "collapsed_sections": [],
      "authorship_tag": "ABX9TyOa6brxT2CzpW1EVLQY5ANc",
      "include_colab_link": true
    },
    "kernelspec": {
      "name": "python3",
      "display_name": "Python 3"
    },
    "language_info": {
      "name": "python"
    },
    "accelerator": "GPU"
  },
  "cells": [
    {
      "cell_type": "markdown",
      "metadata": {
        "id": "view-in-github",
        "colab_type": "text"
      },
      "source": [
        "<a href=\"https://colab.research.google.com/github/DiwakarBasnet/Neural_Network/blob/main/Sales_Prediction.ipynb\" target=\"_parent\"><img src=\"https://colab.research.google.com/assets/colab-badge.svg\" alt=\"Open In Colab\"/></a>"
      ]
    },
    {
      "cell_type": "markdown",
      "source": [
        "#Big Mart Sales Prediction\n",
        "-> Multilayer Perceptron (MLP)"
      ],
      "metadata": {
        "id": "F0aAemFor8a0"
      }
    },
    {
      "cell_type": "code",
      "execution_count": 1,
      "metadata": {
        "id": "rxLw0B9iqsdE"
      },
      "outputs": [],
      "source": [
        "# importing required libraries\n",
        "import pandas as pd\n",
        "import numpy as np\n",
        "import sklearn\n",
        "from sklearn.model_selection import train_test_split\n",
        "from sklearn.metrics import r2_score\n",
        "import matplotlib.pyplot as plt\n",
        "%matplotlib inline"
      ]
    },
    {
      "cell_type": "code",
      "source": [
        "# reading dataset\n",
        "train_data = 'https://raw.githubusercontent.com/DiwakarBasnet/Neural_Network/main/Sales_Prediction/train_file.csv'\n",
        "dataset = pd.read_csv(train_data)"
      ],
      "metadata": {
        "id": "A6AQtcfHtApy"
      },
      "execution_count": 2,
      "outputs": []
    },
    {
      "cell_type": "markdown",
      "source": [
        "##1. Data Preprocessing"
      ],
      "metadata": {
        "id": "t6Xi8V51tmCb"
      }
    },
    {
      "cell_type": "code",
      "source": [
        "dataset.head()"
      ],
      "metadata": {
        "colab": {
          "base_uri": "https://localhost:8080/",
          "height": 357
        },
        "id": "yHksbUS4ufY0",
        "outputId": "bfa46dc4-c85a-46e3-ae12-77f136ed1c73"
      },
      "execution_count": 3,
      "outputs": [
        {
          "output_type": "execute_result",
          "data": {
            "text/plain": [
              "  Item_Identifier  Item_Weight Item_Fat_Content  Item_Visibility  \\\n",
              "0           FDA15         9.30          Low Fat         0.016047   \n",
              "1           DRC01         5.92          Regular         0.019278   \n",
              "2           FDN15        17.50          Low Fat         0.016760   \n",
              "3           FDX07        19.20          Regular         0.000000   \n",
              "4           NCD19         8.93          Low Fat         0.000000   \n",
              "\n",
              "               Item_Type  Item_MRP Outlet_Identifier  \\\n",
              "0                  Dairy  249.8092            OUT049   \n",
              "1            Soft Drinks   48.2692            OUT018   \n",
              "2                   Meat  141.6180            OUT049   \n",
              "3  Fruits and Vegetables  182.0950            OUT010   \n",
              "4              Household   53.8614            OUT013   \n",
              "\n",
              "   Outlet_Establishment_Year Outlet_Size Outlet_Location_Type  \\\n",
              "0                       1999      Medium               Tier 1   \n",
              "1                       2009      Medium               Tier 3   \n",
              "2                       1999      Medium               Tier 1   \n",
              "3                       1998         NaN               Tier 3   \n",
              "4                       1987        High               Tier 3   \n",
              "\n",
              "         Outlet_Type  Item_Outlet_Sales  \n",
              "0  Supermarket Type1          3735.1380  \n",
              "1  Supermarket Type2           443.4228  \n",
              "2  Supermarket Type1          2097.2700  \n",
              "3      Grocery Store           732.3800  \n",
              "4  Supermarket Type1           994.7052  "
            ],
            "text/html": [
              "\n",
              "  <div id=\"df-e70811df-36ea-4a42-8169-6b986bac37c9\">\n",
              "    <div class=\"colab-df-container\">\n",
              "      <div>\n",
              "<style scoped>\n",
              "    .dataframe tbody tr th:only-of-type {\n",
              "        vertical-align: middle;\n",
              "    }\n",
              "\n",
              "    .dataframe tbody tr th {\n",
              "        vertical-align: top;\n",
              "    }\n",
              "\n",
              "    .dataframe thead th {\n",
              "        text-align: right;\n",
              "    }\n",
              "</style>\n",
              "<table border=\"1\" class=\"dataframe\">\n",
              "  <thead>\n",
              "    <tr style=\"text-align: right;\">\n",
              "      <th></th>\n",
              "      <th>Item_Identifier</th>\n",
              "      <th>Item_Weight</th>\n",
              "      <th>Item_Fat_Content</th>\n",
              "      <th>Item_Visibility</th>\n",
              "      <th>Item_Type</th>\n",
              "      <th>Item_MRP</th>\n",
              "      <th>Outlet_Identifier</th>\n",
              "      <th>Outlet_Establishment_Year</th>\n",
              "      <th>Outlet_Size</th>\n",
              "      <th>Outlet_Location_Type</th>\n",
              "      <th>Outlet_Type</th>\n",
              "      <th>Item_Outlet_Sales</th>\n",
              "    </tr>\n",
              "  </thead>\n",
              "  <tbody>\n",
              "    <tr>\n",
              "      <th>0</th>\n",
              "      <td>FDA15</td>\n",
              "      <td>9.30</td>\n",
              "      <td>Low Fat</td>\n",
              "      <td>0.016047</td>\n",
              "      <td>Dairy</td>\n",
              "      <td>249.8092</td>\n",
              "      <td>OUT049</td>\n",
              "      <td>1999</td>\n",
              "      <td>Medium</td>\n",
              "      <td>Tier 1</td>\n",
              "      <td>Supermarket Type1</td>\n",
              "      <td>3735.1380</td>\n",
              "    </tr>\n",
              "    <tr>\n",
              "      <th>1</th>\n",
              "      <td>DRC01</td>\n",
              "      <td>5.92</td>\n",
              "      <td>Regular</td>\n",
              "      <td>0.019278</td>\n",
              "      <td>Soft Drinks</td>\n",
              "      <td>48.2692</td>\n",
              "      <td>OUT018</td>\n",
              "      <td>2009</td>\n",
              "      <td>Medium</td>\n",
              "      <td>Tier 3</td>\n",
              "      <td>Supermarket Type2</td>\n",
              "      <td>443.4228</td>\n",
              "    </tr>\n",
              "    <tr>\n",
              "      <th>2</th>\n",
              "      <td>FDN15</td>\n",
              "      <td>17.50</td>\n",
              "      <td>Low Fat</td>\n",
              "      <td>0.016760</td>\n",
              "      <td>Meat</td>\n",
              "      <td>141.6180</td>\n",
              "      <td>OUT049</td>\n",
              "      <td>1999</td>\n",
              "      <td>Medium</td>\n",
              "      <td>Tier 1</td>\n",
              "      <td>Supermarket Type1</td>\n",
              "      <td>2097.2700</td>\n",
              "    </tr>\n",
              "    <tr>\n",
              "      <th>3</th>\n",
              "      <td>FDX07</td>\n",
              "      <td>19.20</td>\n",
              "      <td>Regular</td>\n",
              "      <td>0.000000</td>\n",
              "      <td>Fruits and Vegetables</td>\n",
              "      <td>182.0950</td>\n",
              "      <td>OUT010</td>\n",
              "      <td>1998</td>\n",
              "      <td>NaN</td>\n",
              "      <td>Tier 3</td>\n",
              "      <td>Grocery Store</td>\n",
              "      <td>732.3800</td>\n",
              "    </tr>\n",
              "    <tr>\n",
              "      <th>4</th>\n",
              "      <td>NCD19</td>\n",
              "      <td>8.93</td>\n",
              "      <td>Low Fat</td>\n",
              "      <td>0.000000</td>\n",
              "      <td>Household</td>\n",
              "      <td>53.8614</td>\n",
              "      <td>OUT013</td>\n",
              "      <td>1987</td>\n",
              "      <td>High</td>\n",
              "      <td>Tier 3</td>\n",
              "      <td>Supermarket Type1</td>\n",
              "      <td>994.7052</td>\n",
              "    </tr>\n",
              "  </tbody>\n",
              "</table>\n",
              "</div>\n",
              "      <button class=\"colab-df-convert\" onclick=\"convertToInteractive('df-e70811df-36ea-4a42-8169-6b986bac37c9')\"\n",
              "              title=\"Convert this dataframe to an interactive table.\"\n",
              "              style=\"display:none;\">\n",
              "        \n",
              "  <svg xmlns=\"http://www.w3.org/2000/svg\" height=\"24px\"viewBox=\"0 0 24 24\"\n",
              "       width=\"24px\">\n",
              "    <path d=\"M0 0h24v24H0V0z\" fill=\"none\"/>\n",
              "    <path d=\"M18.56 5.44l.94 2.06.94-2.06 2.06-.94-2.06-.94-.94-2.06-.94 2.06-2.06.94zm-11 1L8.5 8.5l.94-2.06 2.06-.94-2.06-.94L8.5 2.5l-.94 2.06-2.06.94zm10 10l.94 2.06.94-2.06 2.06-.94-2.06-.94-.94-2.06-.94 2.06-2.06.94z\"/><path d=\"M17.41 7.96l-1.37-1.37c-.4-.4-.92-.59-1.43-.59-.52 0-1.04.2-1.43.59L10.3 9.45l-7.72 7.72c-.78.78-.78 2.05 0 2.83L4 21.41c.39.39.9.59 1.41.59.51 0 1.02-.2 1.41-.59l7.78-7.78 2.81-2.81c.8-.78.8-2.07 0-2.86zM5.41 20L4 18.59l7.72-7.72 1.47 1.35L5.41 20z\"/>\n",
              "  </svg>\n",
              "      </button>\n",
              "      \n",
              "  <style>\n",
              "    .colab-df-container {\n",
              "      display:flex;\n",
              "      flex-wrap:wrap;\n",
              "      gap: 12px;\n",
              "    }\n",
              "\n",
              "    .colab-df-convert {\n",
              "      background-color: #E8F0FE;\n",
              "      border: none;\n",
              "      border-radius: 50%;\n",
              "      cursor: pointer;\n",
              "      display: none;\n",
              "      fill: #1967D2;\n",
              "      height: 32px;\n",
              "      padding: 0 0 0 0;\n",
              "      width: 32px;\n",
              "    }\n",
              "\n",
              "    .colab-df-convert:hover {\n",
              "      background-color: #E2EBFA;\n",
              "      box-shadow: 0px 1px 2px rgba(60, 64, 67, 0.3), 0px 1px 3px 1px rgba(60, 64, 67, 0.15);\n",
              "      fill: #174EA6;\n",
              "    }\n",
              "\n",
              "    [theme=dark] .colab-df-convert {\n",
              "      background-color: #3B4455;\n",
              "      fill: #D2E3FC;\n",
              "    }\n",
              "\n",
              "    [theme=dark] .colab-df-convert:hover {\n",
              "      background-color: #434B5C;\n",
              "      box-shadow: 0px 1px 3px 1px rgba(0, 0, 0, 0.15);\n",
              "      filter: drop-shadow(0px 1px 2px rgba(0, 0, 0, 0.3));\n",
              "      fill: #FFFFFF;\n",
              "    }\n",
              "  </style>\n",
              "\n",
              "      <script>\n",
              "        const buttonEl =\n",
              "          document.querySelector('#df-e70811df-36ea-4a42-8169-6b986bac37c9 button.colab-df-convert');\n",
              "        buttonEl.style.display =\n",
              "          google.colab.kernel.accessAllowed ? 'block' : 'none';\n",
              "\n",
              "        async function convertToInteractive(key) {\n",
              "          const element = document.querySelector('#df-e70811df-36ea-4a42-8169-6b986bac37c9');\n",
              "          const dataTable =\n",
              "            await google.colab.kernel.invokeFunction('convertToInteractive',\n",
              "                                                     [key], {});\n",
              "          if (!dataTable) return;\n",
              "\n",
              "          const docLinkHtml = 'Like what you see? Visit the ' +\n",
              "            '<a target=\"_blank\" href=https://colab.research.google.com/notebooks/data_table.ipynb>data table notebook</a>'\n",
              "            + ' to learn more about interactive tables.';\n",
              "          element.innerHTML = '';\n",
              "          dataTable['output_type'] = 'display_data';\n",
              "          await google.colab.output.renderOutput(dataTable, element);\n",
              "          const docLink = document.createElement('div');\n",
              "          docLink.innerHTML = docLinkHtml;\n",
              "          element.appendChild(docLink);\n",
              "        }\n",
              "      </script>\n",
              "    </div>\n",
              "  </div>\n",
              "  "
            ]
          },
          "metadata": {},
          "execution_count": 3
        }
      ]
    },
    {
      "cell_type": "code",
      "source": [
        "# checking missing values in table\n",
        "dataset.isnull().sum()"
      ],
      "metadata": {
        "colab": {
          "base_uri": "https://localhost:8080/"
        },
        "id": "Wf8BCKBAtWPV",
        "outputId": "d50b57d0-9791-4fe1-8998-b5115b732dc8"
      },
      "execution_count": 4,
      "outputs": [
        {
          "output_type": "execute_result",
          "data": {
            "text/plain": [
              "Item_Identifier                 0\n",
              "Item_Weight                  1463\n",
              "Item_Fat_Content                0\n",
              "Item_Visibility                 0\n",
              "Item_Type                       0\n",
              "Item_MRP                        0\n",
              "Outlet_Identifier               0\n",
              "Outlet_Establishment_Year       0\n",
              "Outlet_Size                  2410\n",
              "Outlet_Location_Type            0\n",
              "Outlet_Type                     0\n",
              "Item_Outlet_Sales               0\n",
              "dtype: int64"
            ]
          },
          "metadata": {},
          "execution_count": 4
        }
      ]
    },
    {
      "cell_type": "code",
      "source": [
        "dataset.dtypes"
      ],
      "metadata": {
        "colab": {
          "base_uri": "https://localhost:8080/"
        },
        "id": "S74lAVDSunBZ",
        "outputId": "50d63d09-9d98-4186-e6de-4f7e93b806ae"
      },
      "execution_count": 5,
      "outputs": [
        {
          "output_type": "execute_result",
          "data": {
            "text/plain": [
              "Item_Identifier               object\n",
              "Item_Weight                  float64\n",
              "Item_Fat_Content              object\n",
              "Item_Visibility              float64\n",
              "Item_Type                     object\n",
              "Item_MRP                     float64\n",
              "Outlet_Identifier             object\n",
              "Outlet_Establishment_Year      int64\n",
              "Outlet_Size                   object\n",
              "Outlet_Location_Type          object\n",
              "Outlet_Type                   object\n",
              "Item_Outlet_Sales            float64\n",
              "dtype: object"
            ]
          },
          "metadata": {},
          "execution_count": 5
        }
      ]
    },
    {
      "cell_type": "markdown",
      "source": [
        "###I. Filling missing values"
      ],
      "metadata": {
        "id": "w4C93vohvWLu"
      }
    },
    {
      "cell_type": "code",
      "source": [
        "# filling missing values of continuous data with mean\n",
        "dataset['Item_Weight'].fillna(dataset['Item_Weight'].mean(), inplace=True)\n",
        "\n",
        "# filling missing values of categorical data with mode\n",
        "dataset['Outlet_Size'].fillna(dataset['Outlet_Size'].mode()[0], inplace=True)"
      ],
      "metadata": {
        "id": "yWr3rfsyvCuq"
      },
      "execution_count": 6,
      "outputs": []
    },
    {
      "cell_type": "code",
      "source": [
        "# checking missing values after imputation\n",
        "dataset.isnull().sum()"
      ],
      "metadata": {
        "colab": {
          "base_uri": "https://localhost:8080/"
        },
        "id": "Lh7UW3wBwjfn",
        "outputId": "5b24a450-a013-47f4-f1ec-1d1d53e131d1"
      },
      "execution_count": 7,
      "outputs": [
        {
          "output_type": "execute_result",
          "data": {
            "text/plain": [
              "Item_Identifier              0\n",
              "Item_Weight                  0\n",
              "Item_Fat_Content             0\n",
              "Item_Visibility              0\n",
              "Item_Type                    0\n",
              "Item_MRP                     0\n",
              "Outlet_Identifier            0\n",
              "Outlet_Establishment_Year    0\n",
              "Outlet_Size                  0\n",
              "Outlet_Location_Type         0\n",
              "Outlet_Type                  0\n",
              "Item_Outlet_Sales            0\n",
              "dtype: int64"
            ]
          },
          "metadata": {},
          "execution_count": 7
        }
      ]
    },
    {
      "cell_type": "markdown",
      "source": [
        "###II. Converting categorical data to numbers"
      ],
      "metadata": {
        "id": "_fhaN49aw78C"
      }
    },
    {
      "cell_type": "code",
      "source": [
        "print(dataset.Item_Fat_Content.value_counts())\n",
        "print(dataset.Item_Type.value_counts())\n",
        "print(dataset.Outlet_Size.value_counts())\n",
        "print(dataset.Outlet_Location_Type.value_counts())\n",
        "print(dataset.Outlet_Type.value_counts())"
      ],
      "metadata": {
        "colab": {
          "base_uri": "https://localhost:8080/"
        },
        "id": "rTF97HLkzS0D",
        "outputId": "db3f2bdc-9601-4636-cd8f-d57f587c5daa"
      },
      "execution_count": 8,
      "outputs": [
        {
          "output_type": "stream",
          "name": "stdout",
          "text": [
            "Low Fat    5089\n",
            "Regular    2889\n",
            "LF          316\n",
            "reg         117\n",
            "low fat     112\n",
            "Name: Item_Fat_Content, dtype: int64\n",
            "Fruits and Vegetables    1232\n",
            "Snack Foods              1200\n",
            "Household                 910\n",
            "Frozen Foods              856\n",
            "Dairy                     682\n",
            "Canned                    649\n",
            "Baking Goods              648\n",
            "Health and Hygiene        520\n",
            "Soft Drinks               445\n",
            "Meat                      425\n",
            "Breads                    251\n",
            "Hard Drinks               214\n",
            "Others                    169\n",
            "Starchy Foods             148\n",
            "Breakfast                 110\n",
            "Seafood                    64\n",
            "Name: Item_Type, dtype: int64\n",
            "Medium    5203\n",
            "Small     2388\n",
            "High       932\n",
            "Name: Outlet_Size, dtype: int64\n",
            "Tier 3    3350\n",
            "Tier 2    2785\n",
            "Tier 1    2388\n",
            "Name: Outlet_Location_Type, dtype: int64\n",
            "Supermarket Type1    5577\n",
            "Grocery Store        1083\n",
            "Supermarket Type3     935\n",
            "Supermarket Type2     928\n",
            "Name: Outlet_Type, dtype: int64\n"
          ]
        }
      ]
    },
    {
      "cell_type": "code",
      "source": [
        "dataset['Item_Fat_Content'] = dataset['Item_Fat_Content'].map({'LF':0, 'Low Fat':0, 'low fat':0, 'Regular':1, 'reg':1})\n",
        "dataset['Item_Type'] = dataset['Item_Type'].map({'Fruits and Vegetables':0, 'Snack Foods':1, 'Household':2, 'Frozen Foods':3, 'Dairy':4,\n",
        "                                                 'Canned':5, 'Baking Goods':6, 'Health and Hygiene':7, 'Soft Drinks':8, 'Meat':9,\n",
        "                                                 'Breads':10, 'Hard Drinks':11, 'Others':12, 'Starchy Foods':13, 'Breakfast':14, 'Seafood':15})\n",
        "dataset['Outlet_Size'] = dataset['Outlet_Size'].map({'Small':0, 'Medium':1, 'High':2})\n",
        "dataset['Outlet_Location_Type'] = dataset['Outlet_Location_Type'].map({'Tier 1':0, 'Tier 2':1, 'Tier 3':2})\n",
        "dataset['Outlet_Type'] = dataset['Outlet_Type'].map({'Grocery Store':0, 'Supermarket Type1':1, 'Supermarket Type2':2, 'Supermarket Type3':3})"
      ],
      "metadata": {
        "id": "fgikJgZAwmw6"
      },
      "execution_count": 9,
      "outputs": []
    },
    {
      "cell_type": "code",
      "source": [
        "dataset.head()"
      ],
      "metadata": {
        "colab": {
          "base_uri": "https://localhost:8080/",
          "height": 270
        },
        "id": "-Zb9-amJ_Kkh",
        "outputId": "380b4967-436b-4d67-977a-9ede56999e0b"
      },
      "execution_count": 10,
      "outputs": [
        {
          "output_type": "execute_result",
          "data": {
            "text/plain": [
              "  Item_Identifier  Item_Weight  Item_Fat_Content  Item_Visibility  Item_Type  \\\n",
              "0           FDA15         9.30                 0         0.016047          4   \n",
              "1           DRC01         5.92                 1         0.019278          8   \n",
              "2           FDN15        17.50                 0         0.016760          9   \n",
              "3           FDX07        19.20                 1         0.000000          0   \n",
              "4           NCD19         8.93                 0         0.000000          2   \n",
              "\n",
              "   Item_MRP Outlet_Identifier  Outlet_Establishment_Year  Outlet_Size  \\\n",
              "0  249.8092            OUT049                       1999            1   \n",
              "1   48.2692            OUT018                       2009            1   \n",
              "2  141.6180            OUT049                       1999            1   \n",
              "3  182.0950            OUT010                       1998            1   \n",
              "4   53.8614            OUT013                       1987            2   \n",
              "\n",
              "   Outlet_Location_Type  Outlet_Type  Item_Outlet_Sales  \n",
              "0                     0            1          3735.1380  \n",
              "1                     2            2           443.4228  \n",
              "2                     0            1          2097.2700  \n",
              "3                     2            0           732.3800  \n",
              "4                     2            1           994.7052  "
            ],
            "text/html": [
              "\n",
              "  <div id=\"df-6af4134d-8b43-4b79-9f0e-f7adbfdd7772\">\n",
              "    <div class=\"colab-df-container\">\n",
              "      <div>\n",
              "<style scoped>\n",
              "    .dataframe tbody tr th:only-of-type {\n",
              "        vertical-align: middle;\n",
              "    }\n",
              "\n",
              "    .dataframe tbody tr th {\n",
              "        vertical-align: top;\n",
              "    }\n",
              "\n",
              "    .dataframe thead th {\n",
              "        text-align: right;\n",
              "    }\n",
              "</style>\n",
              "<table border=\"1\" class=\"dataframe\">\n",
              "  <thead>\n",
              "    <tr style=\"text-align: right;\">\n",
              "      <th></th>\n",
              "      <th>Item_Identifier</th>\n",
              "      <th>Item_Weight</th>\n",
              "      <th>Item_Fat_Content</th>\n",
              "      <th>Item_Visibility</th>\n",
              "      <th>Item_Type</th>\n",
              "      <th>Item_MRP</th>\n",
              "      <th>Outlet_Identifier</th>\n",
              "      <th>Outlet_Establishment_Year</th>\n",
              "      <th>Outlet_Size</th>\n",
              "      <th>Outlet_Location_Type</th>\n",
              "      <th>Outlet_Type</th>\n",
              "      <th>Item_Outlet_Sales</th>\n",
              "    </tr>\n",
              "  </thead>\n",
              "  <tbody>\n",
              "    <tr>\n",
              "      <th>0</th>\n",
              "      <td>FDA15</td>\n",
              "      <td>9.30</td>\n",
              "      <td>0</td>\n",
              "      <td>0.016047</td>\n",
              "      <td>4</td>\n",
              "      <td>249.8092</td>\n",
              "      <td>OUT049</td>\n",
              "      <td>1999</td>\n",
              "      <td>1</td>\n",
              "      <td>0</td>\n",
              "      <td>1</td>\n",
              "      <td>3735.1380</td>\n",
              "    </tr>\n",
              "    <tr>\n",
              "      <th>1</th>\n",
              "      <td>DRC01</td>\n",
              "      <td>5.92</td>\n",
              "      <td>1</td>\n",
              "      <td>0.019278</td>\n",
              "      <td>8</td>\n",
              "      <td>48.2692</td>\n",
              "      <td>OUT018</td>\n",
              "      <td>2009</td>\n",
              "      <td>1</td>\n",
              "      <td>2</td>\n",
              "      <td>2</td>\n",
              "      <td>443.4228</td>\n",
              "    </tr>\n",
              "    <tr>\n",
              "      <th>2</th>\n",
              "      <td>FDN15</td>\n",
              "      <td>17.50</td>\n",
              "      <td>0</td>\n",
              "      <td>0.016760</td>\n",
              "      <td>9</td>\n",
              "      <td>141.6180</td>\n",
              "      <td>OUT049</td>\n",
              "      <td>1999</td>\n",
              "      <td>1</td>\n",
              "      <td>0</td>\n",
              "      <td>1</td>\n",
              "      <td>2097.2700</td>\n",
              "    </tr>\n",
              "    <tr>\n",
              "      <th>3</th>\n",
              "      <td>FDX07</td>\n",
              "      <td>19.20</td>\n",
              "      <td>1</td>\n",
              "      <td>0.000000</td>\n",
              "      <td>0</td>\n",
              "      <td>182.0950</td>\n",
              "      <td>OUT010</td>\n",
              "      <td>1998</td>\n",
              "      <td>1</td>\n",
              "      <td>2</td>\n",
              "      <td>0</td>\n",
              "      <td>732.3800</td>\n",
              "    </tr>\n",
              "    <tr>\n",
              "      <th>4</th>\n",
              "      <td>NCD19</td>\n",
              "      <td>8.93</td>\n",
              "      <td>0</td>\n",
              "      <td>0.000000</td>\n",
              "      <td>2</td>\n",
              "      <td>53.8614</td>\n",
              "      <td>OUT013</td>\n",
              "      <td>1987</td>\n",
              "      <td>2</td>\n",
              "      <td>2</td>\n",
              "      <td>1</td>\n",
              "      <td>994.7052</td>\n",
              "    </tr>\n",
              "  </tbody>\n",
              "</table>\n",
              "</div>\n",
              "      <button class=\"colab-df-convert\" onclick=\"convertToInteractive('df-6af4134d-8b43-4b79-9f0e-f7adbfdd7772')\"\n",
              "              title=\"Convert this dataframe to an interactive table.\"\n",
              "              style=\"display:none;\">\n",
              "        \n",
              "  <svg xmlns=\"http://www.w3.org/2000/svg\" height=\"24px\"viewBox=\"0 0 24 24\"\n",
              "       width=\"24px\">\n",
              "    <path d=\"M0 0h24v24H0V0z\" fill=\"none\"/>\n",
              "    <path d=\"M18.56 5.44l.94 2.06.94-2.06 2.06-.94-2.06-.94-.94-2.06-.94 2.06-2.06.94zm-11 1L8.5 8.5l.94-2.06 2.06-.94-2.06-.94L8.5 2.5l-.94 2.06-2.06.94zm10 10l.94 2.06.94-2.06 2.06-.94-2.06-.94-.94-2.06-.94 2.06-2.06.94z\"/><path d=\"M17.41 7.96l-1.37-1.37c-.4-.4-.92-.59-1.43-.59-.52 0-1.04.2-1.43.59L10.3 9.45l-7.72 7.72c-.78.78-.78 2.05 0 2.83L4 21.41c.39.39.9.59 1.41.59.51 0 1.02-.2 1.41-.59l7.78-7.78 2.81-2.81c.8-.78.8-2.07 0-2.86zM5.41 20L4 18.59l7.72-7.72 1.47 1.35L5.41 20z\"/>\n",
              "  </svg>\n",
              "      </button>\n",
              "      \n",
              "  <style>\n",
              "    .colab-df-container {\n",
              "      display:flex;\n",
              "      flex-wrap:wrap;\n",
              "      gap: 12px;\n",
              "    }\n",
              "\n",
              "    .colab-df-convert {\n",
              "      background-color: #E8F0FE;\n",
              "      border: none;\n",
              "      border-radius: 50%;\n",
              "      cursor: pointer;\n",
              "      display: none;\n",
              "      fill: #1967D2;\n",
              "      height: 32px;\n",
              "      padding: 0 0 0 0;\n",
              "      width: 32px;\n",
              "    }\n",
              "\n",
              "    .colab-df-convert:hover {\n",
              "      background-color: #E2EBFA;\n",
              "      box-shadow: 0px 1px 2px rgba(60, 64, 67, 0.3), 0px 1px 3px 1px rgba(60, 64, 67, 0.15);\n",
              "      fill: #174EA6;\n",
              "    }\n",
              "\n",
              "    [theme=dark] .colab-df-convert {\n",
              "      background-color: #3B4455;\n",
              "      fill: #D2E3FC;\n",
              "    }\n",
              "\n",
              "    [theme=dark] .colab-df-convert:hover {\n",
              "      background-color: #434B5C;\n",
              "      box-shadow: 0px 1px 3px 1px rgba(0, 0, 0, 0.15);\n",
              "      filter: drop-shadow(0px 1px 2px rgba(0, 0, 0, 0.3));\n",
              "      fill: #FFFFFF;\n",
              "    }\n",
              "  </style>\n",
              "\n",
              "      <script>\n",
              "        const buttonEl =\n",
              "          document.querySelector('#df-6af4134d-8b43-4b79-9f0e-f7adbfdd7772 button.colab-df-convert');\n",
              "        buttonEl.style.display =\n",
              "          google.colab.kernel.accessAllowed ? 'block' : 'none';\n",
              "\n",
              "        async function convertToInteractive(key) {\n",
              "          const element = document.querySelector('#df-6af4134d-8b43-4b79-9f0e-f7adbfdd7772');\n",
              "          const dataTable =\n",
              "            await google.colab.kernel.invokeFunction('convertToInteractive',\n",
              "                                                     [key], {});\n",
              "          if (!dataTable) return;\n",
              "\n",
              "          const docLinkHtml = 'Like what you see? Visit the ' +\n",
              "            '<a target=\"_blank\" href=https://colab.research.google.com/notebooks/data_table.ipynb>data table notebook</a>'\n",
              "            + ' to learn more about interactive tables.';\n",
              "          element.innerHTML = '';\n",
              "          dataTable['output_type'] = 'display_data';\n",
              "          await google.colab.output.renderOutput(dataTable, element);\n",
              "          const docLink = document.createElement('div');\n",
              "          docLink.innerHTML = docLinkHtml;\n",
              "          element.appendChild(docLink);\n",
              "        }\n",
              "      </script>\n",
              "    </div>\n",
              "  </div>\n",
              "  "
            ]
          },
          "metadata": {},
          "execution_count": 10
        }
      ]
    },
    {
      "cell_type": "markdown",
      "source": [
        "###III. Normalization"
      ],
      "metadata": {
        "id": "5WLIrl5lETC2"
      }
    },
    {
      "cell_type": "code",
      "source": [
        "# bringing the variables in the range of 0 to 1\n",
        "for i in dataset.columns[1:5]:\n",
        "  dataset[i] = (dataset[i] - dataset[i].min()) / (dataset[i].max() - dataset[i].min())\n",
        "\n",
        "for i in dataset.columns[7:]:\n",
        "  dataset[i] = (dataset[i] - dataset[i].min()) / (dataset[i].max() - dataset[i].min())"
      ],
      "metadata": {
        "id": "LHLG9Uw4_N-9"
      },
      "execution_count": 11,
      "outputs": []
    },
    {
      "cell_type": "code",
      "source": [
        "dataset.head()"
      ],
      "metadata": {
        "colab": {
          "base_uri": "https://localhost:8080/",
          "height": 270
        },
        "id": "Z0etwe3qFsGY",
        "outputId": "4fd7ea39-459e-408c-ae24-ebdeafb82be9"
      },
      "execution_count": 12,
      "outputs": [
        {
          "output_type": "execute_result",
          "data": {
            "text/plain": [
              "  Item_Identifier  Item_Weight  Item_Fat_Content  Item_Visibility  Item_Type  \\\n",
              "0           FDA15     0.282525               0.0         0.048866   0.266667   \n",
              "1           DRC01     0.081274               1.0         0.058705   0.533333   \n",
              "2           FDN15     0.770765               0.0         0.051037   0.600000   \n",
              "3           FDX07     0.871986               1.0         0.000000   0.000000   \n",
              "4           NCD19     0.260494               0.0         0.000000   0.133333   \n",
              "\n",
              "   Item_MRP Outlet_Identifier  Outlet_Establishment_Year  Outlet_Size  \\\n",
              "0  249.8092            OUT049                   0.583333          0.5   \n",
              "1   48.2692            OUT018                   1.000000          0.5   \n",
              "2  141.6180            OUT049                   0.583333          0.5   \n",
              "3  182.0950            OUT010                   0.541667          0.5   \n",
              "4   53.8614            OUT013                   0.083333          1.0   \n",
              "\n",
              "   Outlet_Location_Type  Outlet_Type  Item_Outlet_Sales  \n",
              "0                   0.0     0.333333           0.283587  \n",
              "1                   1.0     0.666667           0.031419  \n",
              "2                   0.0     0.333333           0.158115  \n",
              "3                   1.0     0.000000           0.053555  \n",
              "4                   1.0     0.333333           0.073651  "
            ],
            "text/html": [
              "\n",
              "  <div id=\"df-244f935a-9d52-4416-b3f7-3eb1a9100916\">\n",
              "    <div class=\"colab-df-container\">\n",
              "      <div>\n",
              "<style scoped>\n",
              "    .dataframe tbody tr th:only-of-type {\n",
              "        vertical-align: middle;\n",
              "    }\n",
              "\n",
              "    .dataframe tbody tr th {\n",
              "        vertical-align: top;\n",
              "    }\n",
              "\n",
              "    .dataframe thead th {\n",
              "        text-align: right;\n",
              "    }\n",
              "</style>\n",
              "<table border=\"1\" class=\"dataframe\">\n",
              "  <thead>\n",
              "    <tr style=\"text-align: right;\">\n",
              "      <th></th>\n",
              "      <th>Item_Identifier</th>\n",
              "      <th>Item_Weight</th>\n",
              "      <th>Item_Fat_Content</th>\n",
              "      <th>Item_Visibility</th>\n",
              "      <th>Item_Type</th>\n",
              "      <th>Item_MRP</th>\n",
              "      <th>Outlet_Identifier</th>\n",
              "      <th>Outlet_Establishment_Year</th>\n",
              "      <th>Outlet_Size</th>\n",
              "      <th>Outlet_Location_Type</th>\n",
              "      <th>Outlet_Type</th>\n",
              "      <th>Item_Outlet_Sales</th>\n",
              "    </tr>\n",
              "  </thead>\n",
              "  <tbody>\n",
              "    <tr>\n",
              "      <th>0</th>\n",
              "      <td>FDA15</td>\n",
              "      <td>0.282525</td>\n",
              "      <td>0.0</td>\n",
              "      <td>0.048866</td>\n",
              "      <td>0.266667</td>\n",
              "      <td>249.8092</td>\n",
              "      <td>OUT049</td>\n",
              "      <td>0.583333</td>\n",
              "      <td>0.5</td>\n",
              "      <td>0.0</td>\n",
              "      <td>0.333333</td>\n",
              "      <td>0.283587</td>\n",
              "    </tr>\n",
              "    <tr>\n",
              "      <th>1</th>\n",
              "      <td>DRC01</td>\n",
              "      <td>0.081274</td>\n",
              "      <td>1.0</td>\n",
              "      <td>0.058705</td>\n",
              "      <td>0.533333</td>\n",
              "      <td>48.2692</td>\n",
              "      <td>OUT018</td>\n",
              "      <td>1.000000</td>\n",
              "      <td>0.5</td>\n",
              "      <td>1.0</td>\n",
              "      <td>0.666667</td>\n",
              "      <td>0.031419</td>\n",
              "    </tr>\n",
              "    <tr>\n",
              "      <th>2</th>\n",
              "      <td>FDN15</td>\n",
              "      <td>0.770765</td>\n",
              "      <td>0.0</td>\n",
              "      <td>0.051037</td>\n",
              "      <td>0.600000</td>\n",
              "      <td>141.6180</td>\n",
              "      <td>OUT049</td>\n",
              "      <td>0.583333</td>\n",
              "      <td>0.5</td>\n",
              "      <td>0.0</td>\n",
              "      <td>0.333333</td>\n",
              "      <td>0.158115</td>\n",
              "    </tr>\n",
              "    <tr>\n",
              "      <th>3</th>\n",
              "      <td>FDX07</td>\n",
              "      <td>0.871986</td>\n",
              "      <td>1.0</td>\n",
              "      <td>0.000000</td>\n",
              "      <td>0.000000</td>\n",
              "      <td>182.0950</td>\n",
              "      <td>OUT010</td>\n",
              "      <td>0.541667</td>\n",
              "      <td>0.5</td>\n",
              "      <td>1.0</td>\n",
              "      <td>0.000000</td>\n",
              "      <td>0.053555</td>\n",
              "    </tr>\n",
              "    <tr>\n",
              "      <th>4</th>\n",
              "      <td>NCD19</td>\n",
              "      <td>0.260494</td>\n",
              "      <td>0.0</td>\n",
              "      <td>0.000000</td>\n",
              "      <td>0.133333</td>\n",
              "      <td>53.8614</td>\n",
              "      <td>OUT013</td>\n",
              "      <td>0.083333</td>\n",
              "      <td>1.0</td>\n",
              "      <td>1.0</td>\n",
              "      <td>0.333333</td>\n",
              "      <td>0.073651</td>\n",
              "    </tr>\n",
              "  </tbody>\n",
              "</table>\n",
              "</div>\n",
              "      <button class=\"colab-df-convert\" onclick=\"convertToInteractive('df-244f935a-9d52-4416-b3f7-3eb1a9100916')\"\n",
              "              title=\"Convert this dataframe to an interactive table.\"\n",
              "              style=\"display:none;\">\n",
              "        \n",
              "  <svg xmlns=\"http://www.w3.org/2000/svg\" height=\"24px\"viewBox=\"0 0 24 24\"\n",
              "       width=\"24px\">\n",
              "    <path d=\"M0 0h24v24H0V0z\" fill=\"none\"/>\n",
              "    <path d=\"M18.56 5.44l.94 2.06.94-2.06 2.06-.94-2.06-.94-.94-2.06-.94 2.06-2.06.94zm-11 1L8.5 8.5l.94-2.06 2.06-.94-2.06-.94L8.5 2.5l-.94 2.06-2.06.94zm10 10l.94 2.06.94-2.06 2.06-.94-2.06-.94-.94-2.06-.94 2.06-2.06.94z\"/><path d=\"M17.41 7.96l-1.37-1.37c-.4-.4-.92-.59-1.43-.59-.52 0-1.04.2-1.43.59L10.3 9.45l-7.72 7.72c-.78.78-.78 2.05 0 2.83L4 21.41c.39.39.9.59 1.41.59.51 0 1.02-.2 1.41-.59l7.78-7.78 2.81-2.81c.8-.78.8-2.07 0-2.86zM5.41 20L4 18.59l7.72-7.72 1.47 1.35L5.41 20z\"/>\n",
              "  </svg>\n",
              "      </button>\n",
              "      \n",
              "  <style>\n",
              "    .colab-df-container {\n",
              "      display:flex;\n",
              "      flex-wrap:wrap;\n",
              "      gap: 12px;\n",
              "    }\n",
              "\n",
              "    .colab-df-convert {\n",
              "      background-color: #E8F0FE;\n",
              "      border: none;\n",
              "      border-radius: 50%;\n",
              "      cursor: pointer;\n",
              "      display: none;\n",
              "      fill: #1967D2;\n",
              "      height: 32px;\n",
              "      padding: 0 0 0 0;\n",
              "      width: 32px;\n",
              "    }\n",
              "\n",
              "    .colab-df-convert:hover {\n",
              "      background-color: #E2EBFA;\n",
              "      box-shadow: 0px 1px 2px rgba(60, 64, 67, 0.3), 0px 1px 3px 1px rgba(60, 64, 67, 0.15);\n",
              "      fill: #174EA6;\n",
              "    }\n",
              "\n",
              "    [theme=dark] .colab-df-convert {\n",
              "      background-color: #3B4455;\n",
              "      fill: #D2E3FC;\n",
              "    }\n",
              "\n",
              "    [theme=dark] .colab-df-convert:hover {\n",
              "      background-color: #434B5C;\n",
              "      box-shadow: 0px 1px 3px 1px rgba(0, 0, 0, 0.15);\n",
              "      filter: drop-shadow(0px 1px 2px rgba(0, 0, 0, 0.3));\n",
              "      fill: #FFFFFF;\n",
              "    }\n",
              "  </style>\n",
              "\n",
              "      <script>\n",
              "        const buttonEl =\n",
              "          document.querySelector('#df-244f935a-9d52-4416-b3f7-3eb1a9100916 button.colab-df-convert');\n",
              "        buttonEl.style.display =\n",
              "          google.colab.kernel.accessAllowed ? 'block' : 'none';\n",
              "\n",
              "        async function convertToInteractive(key) {\n",
              "          const element = document.querySelector('#df-244f935a-9d52-4416-b3f7-3eb1a9100916');\n",
              "          const dataTable =\n",
              "            await google.colab.kernel.invokeFunction('convertToInteractive',\n",
              "                                                     [key], {});\n",
              "          if (!dataTable) return;\n",
              "\n",
              "          const docLinkHtml = 'Like what you see? Visit the ' +\n",
              "            '<a target=\"_blank\" href=https://colab.research.google.com/notebooks/data_table.ipynb>data table notebook</a>'\n",
              "            + ' to learn more about interactive tables.';\n",
              "          element.innerHTML = '';\n",
              "          dataTable['output_type'] = 'display_data';\n",
              "          await google.colab.output.renderOutput(dataTable, element);\n",
              "          const docLink = document.createElement('div');\n",
              "          docLink.innerHTML = docLinkHtml;\n",
              "          element.appendChild(docLink);\n",
              "        }\n",
              "      </script>\n",
              "    </div>\n",
              "  </div>\n",
              "  "
            ]
          },
          "metadata": {},
          "execution_count": 12
        }
      ]
    },
    {
      "cell_type": "code",
      "source": [
        "dataset.to_csv('normalized_train.csv', index=False)"
      ],
      "metadata": {
        "id": "dzY1RNq6FuOI"
      },
      "execution_count": 13,
      "outputs": []
    },
    {
      "cell_type": "code",
      "source": [
        "data = pd.read_csv('normalized_train.csv')"
      ],
      "metadata": {
        "id": "0Ja-jB6tKbGM"
      },
      "execution_count": 14,
      "outputs": []
    },
    {
      "cell_type": "code",
      "source": [
        "# removing Item_Identifier and Outlet_Identifier\n",
        "data = data.drop('Item_Identifier', axis=1)\n",
        "data = data.drop('Outlet_Identifier', axis=1)\n",
        "data.shape"
      ],
      "metadata": {
        "colab": {
          "base_uri": "https://localhost:8080/"
        },
        "id": "CAM73P4sKnRw",
        "outputId": "2800a4e2-18be-4a3f-f2b0-0a7e769db194"
      },
      "execution_count": 15,
      "outputs": [
        {
          "output_type": "execute_result",
          "data": {
            "text/plain": [
              "(8523, 10)"
            ]
          },
          "metadata": {},
          "execution_count": 15
        }
      ]
    },
    {
      "cell_type": "code",
      "source": [
        "# storing all the features as X\n",
        "X = data.drop('Item_Outlet_Sales', axis=1)\n",
        "# storing target as y\n",
        "y = data['Item_Outlet_Sales']\n",
        "# shape of X and y\n",
        "X.shape, y.shape"
      ],
      "metadata": {
        "colab": {
          "base_uri": "https://localhost:8080/"
        },
        "id": "OfLRISxNK4tT",
        "outputId": "50135705-9b43-4770-b1c1-da8a292888e7"
      },
      "execution_count": 16,
      "outputs": [
        {
          "output_type": "execute_result",
          "data": {
            "text/plain": [
              "((8523, 9), (8523,))"
            ]
          },
          "metadata": {},
          "execution_count": 16
        }
      ]
    },
    {
      "cell_type": "code",
      "source": [
        "##### creating training and validation set #####\n",
        "# random state to regenerate same train and validation set\n",
        "# test size 0.2 will keep 20% data in validation and 80% train set\n",
        "\n",
        "X_train, X_test, y_train, y_test = train_test_split(X, y, random_state=10, test_size=0.2)\n",
        "\n",
        "(X_train.shape, y_train.shape), (X_test.shape, y_test.shape)"
      ],
      "metadata": {
        "colab": {
          "base_uri": "https://localhost:8080/"
        },
        "id": "w6cD5RgOLxOK",
        "outputId": "a8ba37cb-489c-48aa-fb27-05d8be9fc8e1"
      },
      "execution_count": 17,
      "outputs": [
        {
          "output_type": "execute_result",
          "data": {
            "text/plain": [
              "(((6818, 9), (6818,)), ((1705, 9), (1705,)))"
            ]
          },
          "metadata": {},
          "execution_count": 17
        }
      ]
    },
    {
      "cell_type": "markdown",
      "source": [
        "##2. Defining the architecture of model"
      ],
      "metadata": {
        "id": "vrzBuQEkZV8S"
      }
    },
    {
      "cell_type": "code",
      "source": [
        "import keras\n",
        "import tensorflow as tf\n",
        "from keras.models import Sequential\n",
        "from keras.layers import InputLayer, Dense"
      ],
      "metadata": {
        "id": "ZJrmNzvLY-jz"
      },
      "execution_count": 18,
      "outputs": []
    },
    {
      "cell_type": "code",
      "source": [
        "# defining input neurons\n",
        "input_neurons = X_train.shape[1]\n",
        "# defining output neurons\n",
        "output_neurons = 1\n",
        "# defining hidden layers and neurons in each layer\n",
        "num_of_hidden_layers = 3\n",
        "neuron_hidden_layer_1 = 20\n",
        "neuron_hidden_layer_2 = 10\n",
        "neuron_hidden_layer_3 = 5"
      ],
      "metadata": {
        "id": "OepooIoCZyCg"
      },
      "execution_count": 19,
      "outputs": []
    },
    {
      "cell_type": "code",
      "source": [
        "from logging import INFO\n",
        "model = Sequential()\n",
        "model.add(InputLayer(input_shape=(input_neurons,)))\n",
        "model.add(Dense(units=neuron_hidden_layer_1, activation='relu'))\n",
        "model.add(Dense(units=neuron_hidden_layer_2, activation='relu'))\n",
        "model.add(Dense(units=neuron_hidden_layer_3, activation='relu'))\n",
        "model.add(Dense(units=output_neurons, activation='linear'))"
      ],
      "metadata": {
        "id": "3C32-ArAf5Ex"
      },
      "execution_count": 20,
      "outputs": []
    },
    {
      "cell_type": "code",
      "source": [
        "model.summary()"
      ],
      "metadata": {
        "colab": {
          "base_uri": "https://localhost:8080/"
        },
        "id": "7LkuQGPrw6jQ",
        "outputId": "35dad86b-771f-420e-ec14-1b74c3edfd10"
      },
      "execution_count": 21,
      "outputs": [
        {
          "output_type": "stream",
          "name": "stdout",
          "text": [
            "Model: \"sequential\"\n",
            "_________________________________________________________________\n",
            " Layer (type)                Output Shape              Param #   \n",
            "=================================================================\n",
            " dense (Dense)               (None, 20)                200       \n",
            "                                                                 \n",
            " dense_1 (Dense)             (None, 10)                210       \n",
            "                                                                 \n",
            " dense_2 (Dense)             (None, 5)                 55        \n",
            "                                                                 \n",
            " dense_3 (Dense)             (None, 1)                 6         \n",
            "                                                                 \n",
            "=================================================================\n",
            "Total params: 471\n",
            "Trainable params: 471\n",
            "Non-trainable params: 0\n",
            "_________________________________________________________________\n"
          ]
        }
      ]
    },
    {
      "cell_type": "code",
      "source": [
        "##### Compiling the model #####\n",
        "model.compile(loss='mean_squared_error', optimizer='Adam', metrics=['accuracy'])"
      ],
      "metadata": {
        "id": "JNDArNNZw-AP"
      },
      "execution_count": 22,
      "outputs": []
    },
    {
      "cell_type": "markdown",
      "source": [
        "##Train model"
      ],
      "metadata": {
        "id": "KfUs1vGoDIjZ"
      }
    },
    {
      "cell_type": "code",
      "source": [
        "model_history = model.fit(X_train, y_train, validation_data=(X_test, y_test), epochs=100)"
      ],
      "metadata": {
        "colab": {
          "base_uri": "https://localhost:8080/"
        },
        "id": "hr2ngdBkC_9C",
        "outputId": "bf27d801-9cc1-4b9b-be31-cc376c909b43"
      },
      "execution_count": 23,
      "outputs": [
        {
          "output_type": "stream",
          "name": "stdout",
          "text": [
            "Epoch 1/100\n",
            "214/214 [==============================] - 6s 9ms/step - loss: 5.9332 - accuracy: 1.4667e-04 - val_loss: 0.0117 - val_accuracy: 5.8651e-04\n",
            "Epoch 2/100\n",
            "214/214 [==============================] - 2s 7ms/step - loss: 0.0124 - accuracy: 1.4667e-04 - val_loss: 0.0116 - val_accuracy: 5.8651e-04\n",
            "Epoch 3/100\n",
            "214/214 [==============================] - 1s 6ms/step - loss: 0.0123 - accuracy: 1.4667e-04 - val_loss: 0.0116 - val_accuracy: 5.8651e-04\n",
            "Epoch 4/100\n",
            "214/214 [==============================] - 1s 5ms/step - loss: 0.0121 - accuracy: 1.4667e-04 - val_loss: 0.0118 - val_accuracy: 5.8651e-04\n",
            "Epoch 5/100\n",
            "214/214 [==============================] - 1s 6ms/step - loss: 0.0122 - accuracy: 1.4667e-04 - val_loss: 0.0115 - val_accuracy: 5.8651e-04\n",
            "Epoch 6/100\n",
            "214/214 [==============================] - 1s 5ms/step - loss: 0.0121 - accuracy: 1.4667e-04 - val_loss: 0.0116 - val_accuracy: 5.8651e-04\n",
            "Epoch 7/100\n",
            "214/214 [==============================] - 1s 6ms/step - loss: 0.0120 - accuracy: 1.4667e-04 - val_loss: 0.0114 - val_accuracy: 5.8651e-04\n",
            "Epoch 8/100\n",
            "214/214 [==============================] - 1s 6ms/step - loss: 0.0120 - accuracy: 1.4667e-04 - val_loss: 0.0113 - val_accuracy: 5.8651e-04\n",
            "Epoch 9/100\n",
            "214/214 [==============================] - 1s 4ms/step - loss: 0.0120 - accuracy: 1.4667e-04 - val_loss: 0.0113 - val_accuracy: 5.8651e-04\n",
            "Epoch 10/100\n",
            "214/214 [==============================] - 1s 3ms/step - loss: 0.0119 - accuracy: 1.4667e-04 - val_loss: 0.0113 - val_accuracy: 5.8651e-04\n",
            "Epoch 11/100\n",
            "214/214 [==============================] - 1s 3ms/step - loss: 0.0119 - accuracy: 1.4667e-04 - val_loss: 0.0112 - val_accuracy: 5.8651e-04\n",
            "Epoch 12/100\n",
            "214/214 [==============================] - 1s 3ms/step - loss: 0.0118 - accuracy: 1.4667e-04 - val_loss: 0.0111 - val_accuracy: 5.8651e-04\n",
            "Epoch 13/100\n",
            "214/214 [==============================] - 1s 3ms/step - loss: 0.0117 - accuracy: 1.4667e-04 - val_loss: 0.0110 - val_accuracy: 5.8651e-04\n",
            "Epoch 14/100\n",
            "214/214 [==============================] - 1s 3ms/step - loss: 0.0117 - accuracy: 1.4667e-04 - val_loss: 0.0109 - val_accuracy: 5.8651e-04\n",
            "Epoch 15/100\n",
            "214/214 [==============================] - 1s 3ms/step - loss: 0.0116 - accuracy: 1.4667e-04 - val_loss: 0.0108 - val_accuracy: 5.8651e-04\n",
            "Epoch 16/100\n",
            "214/214 [==============================] - 1s 3ms/step - loss: 0.0114 - accuracy: 1.4667e-04 - val_loss: 0.0108 - val_accuracy: 5.8651e-04\n",
            "Epoch 17/100\n",
            "214/214 [==============================] - 1s 3ms/step - loss: 0.0113 - accuracy: 1.4667e-04 - val_loss: 0.0110 - val_accuracy: 5.8651e-04\n",
            "Epoch 18/100\n",
            "214/214 [==============================] - 1s 3ms/step - loss: 0.0114 - accuracy: 1.4667e-04 - val_loss: 0.0107 - val_accuracy: 5.8651e-04\n",
            "Epoch 19/100\n",
            "214/214 [==============================] - 1s 3ms/step - loss: 0.0112 - accuracy: 1.4667e-04 - val_loss: 0.0108 - val_accuracy: 5.8651e-04\n",
            "Epoch 20/100\n",
            "214/214 [==============================] - 1s 3ms/step - loss: 0.0110 - accuracy: 1.4667e-04 - val_loss: 0.0108 - val_accuracy: 5.8651e-04\n",
            "Epoch 21/100\n",
            "214/214 [==============================] - 1s 3ms/step - loss: 0.0111 - accuracy: 1.4667e-04 - val_loss: 0.0105 - val_accuracy: 5.8651e-04\n",
            "Epoch 22/100\n",
            "214/214 [==============================] - 1s 3ms/step - loss: 0.0108 - accuracy: 1.4667e-04 - val_loss: 0.0102 - val_accuracy: 5.8651e-04\n",
            "Epoch 23/100\n",
            "214/214 [==============================] - 1s 3ms/step - loss: 0.0108 - accuracy: 1.4667e-04 - val_loss: 0.0101 - val_accuracy: 5.8651e-04\n",
            "Epoch 24/100\n",
            "214/214 [==============================] - 1s 3ms/step - loss: 0.0107 - accuracy: 1.4667e-04 - val_loss: 0.0104 - val_accuracy: 5.8651e-04\n",
            "Epoch 25/100\n",
            "214/214 [==============================] - 1s 3ms/step - loss: 0.0106 - accuracy: 1.4667e-04 - val_loss: 0.0102 - val_accuracy: 5.8651e-04\n",
            "Epoch 26/100\n",
            "214/214 [==============================] - 1s 3ms/step - loss: 0.0104 - accuracy: 1.4667e-04 - val_loss: 0.0103 - val_accuracy: 5.8651e-04\n",
            "Epoch 27/100\n",
            "214/214 [==============================] - 1s 3ms/step - loss: 0.0104 - accuracy: 1.4667e-04 - val_loss: 0.0101 - val_accuracy: 5.8651e-04\n",
            "Epoch 28/100\n",
            "214/214 [==============================] - 1s 3ms/step - loss: 0.0102 - accuracy: 1.4667e-04 - val_loss: 0.0094 - val_accuracy: 5.8651e-04\n",
            "Epoch 29/100\n",
            "214/214 [==============================] - 1s 3ms/step - loss: 0.0100 - accuracy: 1.4667e-04 - val_loss: 0.0104 - val_accuracy: 5.8651e-04\n",
            "Epoch 30/100\n",
            "214/214 [==============================] - 1s 3ms/step - loss: 0.0102 - accuracy: 1.4667e-04 - val_loss: 0.0093 - val_accuracy: 5.8651e-04\n",
            "Epoch 31/100\n",
            "214/214 [==============================] - 1s 3ms/step - loss: 0.0099 - accuracy: 1.4667e-04 - val_loss: 0.0093 - val_accuracy: 5.8651e-04\n",
            "Epoch 32/100\n",
            "214/214 [==============================] - 1s 3ms/step - loss: 0.0097 - accuracy: 1.4667e-04 - val_loss: 0.0152 - val_accuracy: 5.8651e-04\n",
            "Epoch 33/100\n",
            "214/214 [==============================] - 1s 3ms/step - loss: 0.0100 - accuracy: 1.4667e-04 - val_loss: 0.0101 - val_accuracy: 5.8651e-04\n",
            "Epoch 34/100\n",
            "214/214 [==============================] - 1s 3ms/step - loss: 0.0096 - accuracy: 1.4667e-04 - val_loss: 0.0096 - val_accuracy: 5.8651e-04\n",
            "Epoch 35/100\n",
            "214/214 [==============================] - 1s 3ms/step - loss: 0.0107 - accuracy: 1.4667e-04 - val_loss: 0.0091 - val_accuracy: 5.8651e-04\n",
            "Epoch 36/100\n",
            "214/214 [==============================] - 1s 3ms/step - loss: 0.0094 - accuracy: 1.4667e-04 - val_loss: 0.0088 - val_accuracy: 5.8651e-04\n",
            "Epoch 37/100\n",
            "214/214 [==============================] - 1s 3ms/step - loss: 0.0104 - accuracy: 1.4667e-04 - val_loss: 0.0085 - val_accuracy: 5.8651e-04\n",
            "Epoch 38/100\n",
            "214/214 [==============================] - 1s 3ms/step - loss: 0.0090 - accuracy: 1.4667e-04 - val_loss: 0.0085 - val_accuracy: 5.8651e-04\n",
            "Epoch 39/100\n",
            "214/214 [==============================] - 1s 3ms/step - loss: 0.0094 - accuracy: 1.4667e-04 - val_loss: 0.0102 - val_accuracy: 5.8651e-04\n",
            "Epoch 40/100\n",
            "214/214 [==============================] - 1s 3ms/step - loss: 0.0098 - accuracy: 1.4667e-04 - val_loss: 0.0084 - val_accuracy: 5.8651e-04\n",
            "Epoch 41/100\n",
            "214/214 [==============================] - 1s 3ms/step - loss: 0.0093 - accuracy: 1.4667e-04 - val_loss: 0.0085 - val_accuracy: 5.8651e-04\n",
            "Epoch 42/100\n",
            "214/214 [==============================] - 1s 3ms/step - loss: 0.0095 - accuracy: 1.4667e-04 - val_loss: 0.0089 - val_accuracy: 5.8651e-04\n",
            "Epoch 43/100\n",
            "214/214 [==============================] - 1s 3ms/step - loss: 0.0091 - accuracy: 1.4667e-04 - val_loss: 0.0086 - val_accuracy: 5.8651e-04\n",
            "Epoch 44/100\n",
            "214/214 [==============================] - 1s 3ms/step - loss: 0.0095 - accuracy: 1.4667e-04 - val_loss: 0.0088 - val_accuracy: 5.8651e-04\n",
            "Epoch 45/100\n",
            "214/214 [==============================] - 1s 3ms/step - loss: 0.0093 - accuracy: 1.4667e-04 - val_loss: 0.0129 - val_accuracy: 5.8651e-04\n",
            "Epoch 46/100\n",
            "214/214 [==============================] - 1s 3ms/step - loss: 0.0096 - accuracy: 1.4667e-04 - val_loss: 0.0157 - val_accuracy: 5.8651e-04\n",
            "Epoch 47/100\n",
            "214/214 [==============================] - 1s 3ms/step - loss: 0.0096 - accuracy: 1.4667e-04 - val_loss: 0.0083 - val_accuracy: 5.8651e-04\n",
            "Epoch 48/100\n",
            "214/214 [==============================] - 1s 3ms/step - loss: 0.0088 - accuracy: 1.4667e-04 - val_loss: 0.0107 - val_accuracy: 5.8651e-04\n",
            "Epoch 49/100\n",
            "214/214 [==============================] - 1s 3ms/step - loss: 0.0091 - accuracy: 1.4667e-04 - val_loss: 0.0088 - val_accuracy: 5.8651e-04\n",
            "Epoch 50/100\n",
            "214/214 [==============================] - 1s 3ms/step - loss: 0.0096 - accuracy: 1.4667e-04 - val_loss: 0.0101 - val_accuracy: 5.8651e-04\n",
            "Epoch 51/100\n",
            "214/214 [==============================] - 1s 3ms/step - loss: 0.0095 - accuracy: 1.4667e-04 - val_loss: 0.0116 - val_accuracy: 5.8651e-04\n",
            "Epoch 52/100\n",
            "214/214 [==============================] - 1s 3ms/step - loss: 0.0098 - accuracy: 1.4667e-04 - val_loss: 0.0102 - val_accuracy: 5.8651e-04\n",
            "Epoch 53/100\n",
            "214/214 [==============================] - 1s 3ms/step - loss: 0.0090 - accuracy: 1.4667e-04 - val_loss: 0.0083 - val_accuracy: 5.8651e-04\n",
            "Epoch 54/100\n",
            "214/214 [==============================] - 1s 3ms/step - loss: 0.0089 - accuracy: 1.4667e-04 - val_loss: 0.0108 - val_accuracy: 5.8651e-04\n",
            "Epoch 55/100\n",
            "214/214 [==============================] - 1s 3ms/step - loss: 0.0092 - accuracy: 1.4667e-04 - val_loss: 0.0082 - val_accuracy: 5.8651e-04\n",
            "Epoch 56/100\n",
            "214/214 [==============================] - 1s 3ms/step - loss: 0.0089 - accuracy: 1.4667e-04 - val_loss: 0.0084 - val_accuracy: 5.8651e-04\n",
            "Epoch 57/100\n",
            "214/214 [==============================] - 1s 3ms/step - loss: 0.0090 - accuracy: 1.4667e-04 - val_loss: 0.0083 - val_accuracy: 5.8651e-04\n",
            "Epoch 58/100\n",
            "214/214 [==============================] - 1s 3ms/step - loss: 0.0094 - accuracy: 1.4667e-04 - val_loss: 0.0114 - val_accuracy: 5.8651e-04\n",
            "Epoch 59/100\n",
            "214/214 [==============================] - 1s 4ms/step - loss: 0.0089 - accuracy: 1.4667e-04 - val_loss: 0.0101 - val_accuracy: 5.8651e-04\n",
            "Epoch 60/100\n",
            "214/214 [==============================] - 1s 3ms/step - loss: 0.0088 - accuracy: 1.4667e-04 - val_loss: 0.0086 - val_accuracy: 5.8651e-04\n",
            "Epoch 61/100\n",
            "214/214 [==============================] - 1s 3ms/step - loss: 0.0085 - accuracy: 1.4667e-04 - val_loss: 0.0095 - val_accuracy: 5.8651e-04\n",
            "Epoch 62/100\n",
            "214/214 [==============================] - 1s 3ms/step - loss: 0.0086 - accuracy: 1.4667e-04 - val_loss: 0.0088 - val_accuracy: 5.8651e-04\n",
            "Epoch 63/100\n",
            "214/214 [==============================] - 1s 3ms/step - loss: 0.0087 - accuracy: 1.4667e-04 - val_loss: 0.0088 - val_accuracy: 5.8651e-04\n",
            "Epoch 64/100\n",
            "214/214 [==============================] - 1s 3ms/step - loss: 0.0089 - accuracy: 1.4667e-04 - val_loss: 0.0081 - val_accuracy: 5.8651e-04\n",
            "Epoch 65/100\n",
            "214/214 [==============================] - 1s 3ms/step - loss: 0.0085 - accuracy: 1.4667e-04 - val_loss: 0.0084 - val_accuracy: 5.8651e-04\n",
            "Epoch 66/100\n",
            "214/214 [==============================] - 1s 3ms/step - loss: 0.0091 - accuracy: 1.4667e-04 - val_loss: 0.0081 - val_accuracy: 5.8651e-04\n",
            "Epoch 67/100\n",
            "214/214 [==============================] - 1s 3ms/step - loss: 0.0085 - accuracy: 1.4667e-04 - val_loss: 0.0092 - val_accuracy: 5.8651e-04\n",
            "Epoch 68/100\n",
            "214/214 [==============================] - 1s 3ms/step - loss: 0.0089 - accuracy: 1.4667e-04 - val_loss: 0.0101 - val_accuracy: 5.8651e-04\n",
            "Epoch 69/100\n",
            "214/214 [==============================] - 1s 3ms/step - loss: 0.0088 - accuracy: 1.4667e-04 - val_loss: 0.0083 - val_accuracy: 5.8651e-04\n",
            "Epoch 70/100\n",
            "214/214 [==============================] - 1s 3ms/step - loss: 0.0092 - accuracy: 1.4667e-04 - val_loss: 0.0086 - val_accuracy: 5.8651e-04\n",
            "Epoch 71/100\n",
            "214/214 [==============================] - 1s 3ms/step - loss: 0.0085 - accuracy: 1.4667e-04 - val_loss: 0.0088 - val_accuracy: 5.8651e-04\n",
            "Epoch 72/100\n",
            "214/214 [==============================] - 1s 3ms/step - loss: 0.0087 - accuracy: 1.4667e-04 - val_loss: 0.0080 - val_accuracy: 5.8651e-04\n",
            "Epoch 73/100\n",
            "214/214 [==============================] - 1s 3ms/step - loss: 0.0084 - accuracy: 1.4667e-04 - val_loss: 0.0083 - val_accuracy: 5.8651e-04\n",
            "Epoch 74/100\n",
            "214/214 [==============================] - 1s 3ms/step - loss: 0.0082 - accuracy: 1.4667e-04 - val_loss: 0.0086 - val_accuracy: 5.8651e-04\n",
            "Epoch 75/100\n",
            "214/214 [==============================] - 1s 3ms/step - loss: 0.0081 - accuracy: 1.4667e-04 - val_loss: 0.0091 - val_accuracy: 5.8651e-04\n",
            "Epoch 76/100\n",
            "214/214 [==============================] - 1s 3ms/step - loss: 0.0087 - accuracy: 1.4667e-04 - val_loss: 0.0082 - val_accuracy: 5.8651e-04\n",
            "Epoch 77/100\n",
            "214/214 [==============================] - 1s 3ms/step - loss: 0.0083 - accuracy: 1.4667e-04 - val_loss: 0.0090 - val_accuracy: 5.8651e-04\n",
            "Epoch 78/100\n",
            "214/214 [==============================] - 1s 3ms/step - loss: 0.0080 - accuracy: 1.4667e-04 - val_loss: 0.0076 - val_accuracy: 5.8651e-04\n",
            "Epoch 79/100\n",
            "214/214 [==============================] - 1s 3ms/step - loss: 0.0081 - accuracy: 1.4667e-04 - val_loss: 0.0075 - val_accuracy: 5.8651e-04\n",
            "Epoch 80/100\n",
            "214/214 [==============================] - 1s 3ms/step - loss: 0.0079 - accuracy: 1.4667e-04 - val_loss: 0.0083 - val_accuracy: 5.8651e-04\n",
            "Epoch 81/100\n",
            "214/214 [==============================] - 1s 3ms/step - loss: 0.0079 - accuracy: 1.4667e-04 - val_loss: 0.0077 - val_accuracy: 5.8651e-04\n",
            "Epoch 82/100\n",
            "214/214 [==============================] - 1s 3ms/step - loss: 0.0079 - accuracy: 1.4667e-04 - val_loss: 0.0078 - val_accuracy: 5.8651e-04\n",
            "Epoch 83/100\n",
            "214/214 [==============================] - 1s 3ms/step - loss: 0.0078 - accuracy: 1.4667e-04 - val_loss: 0.0079 - val_accuracy: 5.8651e-04\n",
            "Epoch 84/100\n",
            "214/214 [==============================] - 1s 3ms/step - loss: 0.0079 - accuracy: 1.4667e-04 - val_loss: 0.0082 - val_accuracy: 5.8651e-04\n",
            "Epoch 85/100\n",
            "214/214 [==============================] - 1s 3ms/step - loss: 0.0078 - accuracy: 1.4667e-04 - val_loss: 0.0074 - val_accuracy: 5.8651e-04\n",
            "Epoch 86/100\n",
            "214/214 [==============================] - 1s 3ms/step - loss: 0.0078 - accuracy: 1.4667e-04 - val_loss: 0.0076 - val_accuracy: 5.8651e-04\n",
            "Epoch 87/100\n",
            "214/214 [==============================] - 1s 3ms/step - loss: 0.0079 - accuracy: 1.4667e-04 - val_loss: 0.0089 - val_accuracy: 5.8651e-04\n",
            "Epoch 88/100\n",
            "214/214 [==============================] - 1s 3ms/step - loss: 0.0081 - accuracy: 1.4667e-04 - val_loss: 0.0079 - val_accuracy: 5.8651e-04\n",
            "Epoch 89/100\n",
            "214/214 [==============================] - 1s 3ms/step - loss: 0.0079 - accuracy: 1.4667e-04 - val_loss: 0.0083 - val_accuracy: 5.8651e-04\n",
            "Epoch 90/100\n",
            "214/214 [==============================] - 1s 3ms/step - loss: 0.0078 - accuracy: 1.4667e-04 - val_loss: 0.0080 - val_accuracy: 5.8651e-04\n",
            "Epoch 91/100\n",
            "214/214 [==============================] - 1s 3ms/step - loss: 0.0078 - accuracy: 1.4667e-04 - val_loss: 0.0074 - val_accuracy: 5.8651e-04\n",
            "Epoch 92/100\n",
            "214/214 [==============================] - 1s 3ms/step - loss: 0.0075 - accuracy: 1.4667e-04 - val_loss: 0.0082 - val_accuracy: 5.8651e-04\n",
            "Epoch 93/100\n",
            "214/214 [==============================] - 1s 3ms/step - loss: 0.0077 - accuracy: 1.4667e-04 - val_loss: 0.0076 - val_accuracy: 5.8651e-04\n",
            "Epoch 94/100\n",
            "214/214 [==============================] - 1s 3ms/step - loss: 0.0077 - accuracy: 1.4667e-04 - val_loss: 0.0088 - val_accuracy: 5.8651e-04\n",
            "Epoch 95/100\n",
            "214/214 [==============================] - 1s 3ms/step - loss: 0.0076 - accuracy: 1.4667e-04 - val_loss: 0.0074 - val_accuracy: 5.8651e-04\n",
            "Epoch 96/100\n",
            "214/214 [==============================] - 1s 3ms/step - loss: 0.0078 - accuracy: 1.4667e-04 - val_loss: 0.0084 - val_accuracy: 5.8651e-04\n",
            "Epoch 97/100\n",
            "214/214 [==============================] - 1s 3ms/step - loss: 0.0076 - accuracy: 1.4667e-04 - val_loss: 0.0074 - val_accuracy: 5.8651e-04\n",
            "Epoch 98/100\n",
            "214/214 [==============================] - 1s 3ms/step - loss: 0.0076 - accuracy: 1.4667e-04 - val_loss: 0.0075 - val_accuracy: 5.8651e-04\n",
            "Epoch 99/100\n",
            "214/214 [==============================] - 1s 3ms/step - loss: 0.0076 - accuracy: 1.4667e-04 - val_loss: 0.0072 - val_accuracy: 5.8651e-04\n",
            "Epoch 100/100\n",
            "214/214 [==============================] - 1s 3ms/step - loss: 0.0076 - accuracy: 1.4667e-04 - val_loss: 0.0078 - val_accuracy: 5.8651e-04\n"
          ]
        }
      ]
    },
    {
      "cell_type": "code",
      "source": [
        "##### Evaluating model performance on validation set #####\n",
        "prediction = model.predict(X_test)\n",
        "\n",
        "# calculating the accuracy on validation set\n",
        "r2_score(y_test, prediction)"
      ],
      "metadata": {
        "id": "kr9U__-PDpdt",
        "colab": {
          "base_uri": "https://localhost:8080/"
        },
        "outputId": "3d2bcf40-81a5-4331-b1c8-85102875c920"
      },
      "execution_count": 24,
      "outputs": [
        {
          "output_type": "execute_result",
          "data": {
            "text/plain": [
              "0.553079674215663"
            ]
          },
          "metadata": {},
          "execution_count": 24
        }
      ]
    },
    {
      "cell_type": "code",
      "source": [
        ""
      ],
      "metadata": {
        "id": "wmD_7CwdiFor"
      },
      "execution_count": 24,
      "outputs": []
    }
  ]
}